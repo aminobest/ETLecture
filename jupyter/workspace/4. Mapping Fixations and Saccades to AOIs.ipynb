{
 "cells": [
  {
   "cell_type": "code",
   "execution_count": null,
   "id": "1071ff33",
   "metadata": {},
   "outputs": [],
   "source": [
    "import pandas as pd"
   ]
  },
  {
   "cell_type": "code",
   "execution_count": null,
   "id": "0a46a4f2",
   "metadata": {},
   "outputs": [],
   "source": [
    "#---------------------------------------------------\n",
    "#\n",
    "# Config *** TO UPDATE ***\n",
    "#\n",
    "#---------------------------------------------------\n",
    "\n",
    "# *** TO UPDATE: change the team number with your own team number\n",
    "TEAM_NUMBER = \"TeamDemo\"\n",
    "\n",
    "# File with AOIS definitions \n",
    "AOIS_DEFINITION_FILE = \"raw-data/\"+TEAM_NUMBER+\"/aois definitions/aois.csv\"\n",
    "\n",
    "# This file should be automatically generated from \"2. Event Detection\"\n",
    "GAZE_DATA_WITH_AOIS_AND_EVENTS_FILE = \"data/gazeDataWithAOIsAndEvents.csv\""
   ]
  },
  {
   "cell_type": "code",
   "execution_count": null,
   "id": "a552edd3",
   "metadata": {},
   "outputs": [],
   "source": [
    "#----------------------------------------------------------------------------------------\n",
    "#\n",
    "#\n",
    "# 1. Mapping Fixations and Saccades to AOIs\n",
    "#\n",
    "#\n",
    "#----------------------------------------------------------------------------------------"
   ]
  },
  {
   "cell_type": "code",
   "execution_count": null,
   "id": "f7281da4",
   "metadata": {},
   "outputs": [],
   "source": [
    "# Read aois definition\n",
    "aois_df = pd.read_csv(AOIS_DEFINITION_FILE)"
   ]
  },
  {
   "cell_type": "code",
   "execution_count": null,
   "id": "7a68e878",
   "metadata": {},
   "outputs": [],
   "source": [
    "# Display aois definition\n",
    "display(aois_df)"
   ]
  },
  {
   "cell_type": "code",
   "execution_count": null,
   "id": "14e2a06e",
   "metadata": {},
   "outputs": [],
   "source": [
    "# get list of AOIs\n",
    "aois = aois_df[\"AOI\"].tolist()\n",
    "print(f'AOIs: {aois}')"
   ]
  },
  {
   "cell_type": "code",
   "execution_count": null,
   "id": "7bb7d9e6",
   "metadata": {},
   "outputs": [],
   "source": [
    "# Read gaze data with AOIs and events using pandas library\n",
    "data = pd.read_csv(GAZE_DATA_WITH_AOIS_AND_EVENTS_FILE)\n",
    "# set display.max_columns to none, to show all the columns when using head()\n",
    "pd.set_option('display.max_columns', None)"
   ]
  },
  {
   "cell_type": "code",
   "execution_count": null,
   "id": "5131d245",
   "metadata": {},
   "outputs": [],
   "source": [
    "# Preview data\n",
    "data.head()"
   ]
  },
  {
   "cell_type": "code",
   "execution_count": null,
   "id": "b4e9032a",
   "metadata": {},
   "outputs": [],
   "source": [
    "# Drop rows with GazeX or GazeY equals to NaN. This because these gazes are not mapped to any AOI\n",
    "data = data.dropna(subset=['GazeX','GazeY'])\n",
    "\n",
    "# Drop rows with both FixID and  SacID equal to NaN\n",
    "data = data.dropna(subset=['FixID','SacID'], how='all')\n",
    "\n",
    "# Keep only relevant colomns\n",
    "fixationAndSaccadesDataWithAOIs = data[['Respondent','SourceStimuliName','Timestamp','FixID', 'Fixation X', 'Fixation Y',\n",
    "       'Fixation Start', 'Fixation End', 'Fixation Duration',\n",
    "       'Fixation Dispersion', 'SacID', 'Saccade Start',\n",
    "       'Saccade End', 'Saccade Duration', 'Saccade Amplitude',\n",
    "       'Saccade Peak Velocity', 'Saccade Peak Acceleration',\n",
    "       'Saccade Peak Deceleration', 'Saccade Direction']+aois].copy(deep=True)\n",
    "\n",
    "# Map fixations and saccades to AOIs\n",
    "\"\"\"\n",
    "Goal: \n",
    "- Map fixations and saccades to AOIs\n",
    "Context: \n",
    "- A fixation or saccade comprises several gazes.\n",
    "- Following the NoteBook \"1. Gaze Projections and AOIs Mapping\", each gaze point is mapped to an AOI.\n",
    "Problem: \n",
    "- Gazes belonging to the same fixation or saccade might not necessarily be mapped to the same AOI.\n",
    "Solution: \n",
    "- When mapping fixations or saccades to AOIs, choose the AOI which is mapped to the majority of the gazes composing the fixation or the saccade\n",
    "\"\"\"                                \n",
    "fixationAndSaccadesDataWithAOIs = fixationAndSaccadesDataWithAOIs.groupby(['Respondent','SourceStimuliName','FixID', 'Fixation X', 'Fixation Y',\n",
    "       'Fixation Start', 'Fixation End', 'Fixation Duration',\n",
    "       'Fixation Dispersion', 'SacID', 'Saccade Start',\n",
    "       'Saccade End', 'Saccade Duration', 'Saccade Amplitude',\n",
    "       'Saccade Peak Velocity', 'Saccade Peak Acceleration',\n",
    "       'Saccade Peak Deceleration', 'Saccade Direction'],dropna=False).agg( {**{aoi: (lambda x: pd.Series.mode(x)[0]) for aoi in aois},**{'Timestamp': lambda x: x.iloc[0]}} ) \n",
    "\n",
    "\n",
    "\n",
    "# Flatten fixationAndSaccadesDataWithAOIs (i.e., a hierarchically indexed pandas.DataFrame)\n",
    "fixationAndSaccadesDataWithAOIs.columns= [x for x in list(fixationAndSaccadesDataWithAOIs.columns.get_level_values(0))]\n",
    "fixationAndSaccadesDataWithAOIs = fixationAndSaccadesDataWithAOIs.reset_index()\n",
    "\n",
    "# Sort fixationAndSaccadesDataWithAOIs by Respondent and Timestamp\n",
    "fixationAndSaccadesDataWithAOIs = fixationAndSaccadesDataWithAOIs.sort_values(by=['Respondent','Timestamp'])\n",
    "\n",
    "# Reset index\n",
    "fixationAndSaccadesDataWithAOIs = fixationAndSaccadesDataWithAOIs.reset_index(drop=True)"
   ]
  },
  {
   "cell_type": "code",
   "execution_count": null,
   "id": "4e169374",
   "metadata": {},
   "outputs": [],
   "source": [
    "# Preview fixation data\n",
    "fixationAndSaccadesDataWithAOIs.head()"
   ]
  },
  {
   "cell_type": "code",
   "execution_count": null,
   "id": "d0ff3648",
   "metadata": {},
   "outputs": [],
   "source": [
    "# Export fixation data with AOIs to csv\n",
    "fixationAndSaccadesDataWithAOIs.to_csv(\"data/fixationAndSaccadesDataWithAOIs.csv\",  index=False)"
   ]
  },
  {
   "cell_type": "code",
   "execution_count": null,
   "id": "998c67f5",
   "metadata": {},
   "outputs": [],
   "source": []
  }
 ],
 "metadata": {
  "kernelspec": {
   "display_name": "Python 3 (ipykernel)",
   "language": "python",
   "name": "python3"
  },
  "language_info": {
   "codemirror_mode": {
    "name": "ipython",
    "version": 3
   },
   "file_extension": ".py",
   "mimetype": "text/x-python",
   "name": "python",
   "nbconvert_exporter": "python",
   "pygments_lexer": "ipython3",
   "version": "3.11.6"
  }
 },
 "nbformat": 4,
 "nbformat_minor": 5
}
