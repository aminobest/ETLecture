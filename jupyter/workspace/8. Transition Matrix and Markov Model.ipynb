{
 "cells": [
  {
   "cell_type": "code",
   "execution_count": null,
   "id": "0712fca3",
   "metadata": {},
   "outputs": [],
   "source": [
    "import pandas as pd\n",
    "from matplotlib.pyplot import figure\n",
    "from scipy.stats import entropy\n",
    "import utils\n",
    "import numpy as np"
   ]
  },
  {
   "cell_type": "code",
   "execution_count": null,
   "id": "45eda266",
   "metadata": {},
   "outputs": [],
   "source": [
    "#---------------------------------------------------\n",
    "#\n",
    "# Config *** TO UPDATE ***\n",
    "#\n",
    "#---------------------------------------------------\n",
    "\n",
    "# *** TO UPDATE: change the team number with your own team number\n",
    "TEAM_NUMBER = \"TeamDemo\"\n",
    "\n",
    "# File with AOIS definitions \n",
    "AOIS_DEFINITION_FILE = \"raw-data/\"+TEAM_NUMBER+\"/aois definitions/aois.csv\"\n",
    "\n",
    "# This file should be automatically generated from \"5. AOI Visits\"\n",
    "DWELLS_FILE = \"data/dwells.csv\""
   ]
  },
  {
   "cell_type": "code",
   "execution_count": null,
   "id": "bb0a953d",
   "metadata": {},
   "outputs": [],
   "source": [
    "#----------------------------------------------------------------------------------------\n",
    "#\n",
    "#  1. Transition Matrix and Markov Model\n",
    "#  \n",
    "#\n",
    "#----------------------------------------------------------------------------------------"
   ]
  },
  {
   "cell_type": "code",
   "execution_count": null,
   "id": "526ae87e",
   "metadata": {},
   "outputs": [],
   "source": [
    "#----------------------------------------------------------------------------------------\n",
    "#Assumption: the AOIs are not overlapping\n",
    "#----------------------------------------------------------------------------------------"
   ]
  },
  {
   "cell_type": "code",
   "execution_count": null,
   "id": "97475ee8",
   "metadata": {},
   "outputs": [],
   "source": [
    "# Read aois definition\n",
    "aois_df = pd.read_csv(AOIS_DEFINITION_FILE)"
   ]
  },
  {
   "cell_type": "code",
   "execution_count": null,
   "id": "e9282355",
   "metadata": {},
   "outputs": [],
   "source": [
    "# Display aois definition\n",
    "display(aois_df)"
   ]
  },
  {
   "cell_type": "code",
   "execution_count": null,
   "id": "6392cd0d",
   "metadata": {},
   "outputs": [],
   "source": [
    "# Read dwell data using pandas library\n",
    "data = pd.read_csv(DWELLS_FILE)\n",
    "\n",
    "# set display.max_columns to none, to show all the columns when using head()\n",
    "pd.set_option('display.max_columns', None)"
   ]
  },
  {
   "cell_type": "code",
   "execution_count": null,
   "id": "22b94ca1",
   "metadata": {},
   "outputs": [],
   "source": [
    "# Preview dwells data\n",
    "data.head()"
   ]
  },
  {
   "cell_type": "code",
   "execution_count": null,
   "id": "90df844a",
   "metadata": {},
   "outputs": [],
   "source": [
    "#----------------------------------------------------------------------------------------\n",
    "#\n",
    "# 1.1 Identify transitions and generate both transition matrix and markov model (including self-transitions e.g., transitions from AOI1 to AOI1)\n",
    "#\n",
    "#----------------------------------------------------------------------------------------"
   ]
  },
  {
   "cell_type": "code",
   "execution_count": null,
   "id": "83d66c77",
   "metadata": {},
   "outputs": [],
   "source": [
    "for task in data['SourceStimuliName'].unique():\n",
    "    \n",
    "    print(f\"\\n Transition Matrix for task: {task} \\n\")\n",
    "    \n",
    "    #Apply filtering\n",
    "    taskData = data[data['SourceStimuliName']==task].copy(deep=True)\n",
    "    #Reset data frame index\n",
    "    taskData = taskData.reset_index(drop=True)\n",
    "\n",
    "    # get list of AOIs\n",
    "    AoisToConsider = aois_df[aois_df['task']==task][\"AOI\"].copy(deep=True).tolist()\n",
    "\n",
    "    #Keep only aois within AoisToConsider\n",
    "    taskData = taskData[taskData['VisitedAOI'].isin(AoisToConsider)].copy(deep=True)\n",
    "    \n",
    "    transitions = pd.DataFrame()\n",
    "    transitions[['Respondent','SourceStimuliName','TransitionSource','TransitionTarget']] = taskData.apply(lambda x: utils.identifyTransition(taskData,x.name), axis=1)\n",
    "    \n",
    "    # Generate transition matrix\n",
    "    transitionMatrix = utils.generateTransitionMatrix(transitions,'TransitionSource','TransitionTarget')\n",
    "    \n",
    "    print(f\"* Transition Matrix:\")\n",
    "    # Display transitionMatrix\n",
    "    display(transitionMatrix)\n",
    "    \n",
    "    # Export transitionMatrix as CSV\n",
    "    transitionMatrix.to_csv(f\"data/transitionMatrix_{task}.csv\")\n",
    "    \n",
    "    # Generate a markov model i.e., transition matrix with values normalized over each row (by dividing all values by the sum of values in row)\n",
    "    transitionMatrixNormalized = utils.generateTransitionMatrix(transitions,'TransitionSource','TransitionTarget',normalize='index')\n",
    "    \n",
    "    # Round the values in transitionMatrixNormalized to three decimal places\n",
    "    transitionMatrixNormalized = transitionMatrixNormalized.round(3)\n",
    "    \n",
    "    print(f\"* Markov Model:\")\n",
    "    # Display transitionMatrixNormalized\n",
    "    display(transitionMatrixNormalized)\n",
    "\n",
    "    # Export transitionMatrix as CSV\n",
    "    transitionMatrixNormalized.to_csv(f\"data/transitionMatrixNormalized-MarkovModel_{task}.csv\")\n",
    "\n"
   ]
  },
  {
   "cell_type": "code",
   "execution_count": null,
   "id": "331e3da5",
   "metadata": {},
   "outputs": [],
   "source": [
    "#----------------------------------------------------------------------------------------\n",
    "#\n",
    "# 1.2 Identify transitions and generate both transition matrix and markov model (with no self-transitions)\n",
    "#\n",
    "#----------------------------------------------------------------------------------------"
   ]
  },
  {
   "cell_type": "code",
   "execution_count": null,
   "id": "5238dc92",
   "metadata": {},
   "outputs": [],
   "source": [
    "# drop consecutive duplicate VisitedAOIs\n",
    "dataNoConsDupVisits = data[['VisitedAOI']]     \n",
    "dataNoConsDupVisits = data[(dataNoConsDupVisits.ne(dataNoConsDupVisits.shift())).any(axis=1)]\n",
    "\n",
    "for task in data['SourceStimuliName'].unique():\n",
    "    \n",
    "    print(f\"\\n Transition Matrix for task: {task} (with no self-transitions)\\n\")\n",
    "    \n",
    "    #Apply filtering\n",
    "    taskData = dataNoConsDupVisits[dataNoConsDupVisits['SourceStimuliName']==task].copy(deep=True)\n",
    "    #Reset data frame index\n",
    "    taskData = taskData.reset_index(drop=True)\n",
    "\n",
    "    # get list of AOIs\n",
    "    AoisToConsider = aois_df[aois_df['task']==task][\"AOI\"].copy(deep=True).tolist()\n",
    "\n",
    "    #Keep only aois within AoisToConsider\n",
    "    taskData = taskData[taskData['VisitedAOI'].isin(AoisToConsider)].copy(deep=True)\n",
    "    \n",
    "    transitions = pd.DataFrame()\n",
    "    transitions[['Respondent','SourceStimuliName','TransitionSource','TransitionTarget']] = taskData.apply(lambda x: utils.identifyTransition(taskData,x.name), axis=1)\n",
    "    \n",
    "    # Generate transition matrix\n",
    "    transitionMatrix = utils.generateTransitionMatrix(transitions,'TransitionSource','TransitionTarget')\n",
    "    \n",
    "    print(f\"* Transition Matrix:\")\n",
    "    # Display transitionMatrix\n",
    "    display(transitionMatrix)\n",
    "    \n",
    "    # Export transitionMatrix as CSV\n",
    "    transitionMatrix.to_csv(f\"data/transitionMatrix_noSelfTransition_{task}.csv\")\n",
    "    \n",
    "    # Generate a markov model i.e., transition matrix with values normalized over each row (by dividing all values by the sum of values in row)\n",
    "    transitionMatrixNormalized = utils.generateTransitionMatrix(transitions,'TransitionSource','TransitionTarget',normalize='index')\n",
    "    \n",
    "    # Round the values in transitionMatrixNormalized to three decimal places\n",
    "    transitionMatrixNormalized = transitionMatrixNormalized.round(3)\n",
    "\n",
    "    print(f\"* Markov Model:\")\n",
    "    # Display transitionMatrixNormalized\n",
    "    display(transitionMatrixNormalized)\n",
    "\n",
    "    # Export transitionMatrix as CSV\n",
    "    transitionMatrixNormalized.to_csv(f\"data/transitionMatrixNormalized-MarkovModel_noSelfTransition_{task}.csv\")\n"
   ]
  },
  {
   "cell_type": "code",
   "execution_count": null,
   "id": "0b4772f8",
   "metadata": {},
   "outputs": [],
   "source": []
  }
 ],
 "metadata": {
  "kernelspec": {
   "display_name": "Python 3 (ipykernel)",
   "language": "python",
   "name": "python3"
  },
  "language_info": {
   "codemirror_mode": {
    "name": "ipython",
    "version": 3
   },
   "file_extension": ".py",
   "mimetype": "text/x-python",
   "name": "python",
   "nbconvert_exporter": "python",
   "pygments_lexer": "ipython3",
   "version": "3.11.6"
  }
 },
 "nbformat": 4,
 "nbformat_minor": 5
}
