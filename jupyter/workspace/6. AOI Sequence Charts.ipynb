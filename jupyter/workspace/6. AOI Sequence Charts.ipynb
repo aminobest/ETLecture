{
 "cells": [
  {
   "cell_type": "code",
   "execution_count": null,
   "id": "706d6ab9",
   "metadata": {},
   "outputs": [],
   "source": [
    "import plotly.express as px\n",
    "import pandas as pd"
   ]
  },
  {
   "cell_type": "code",
   "execution_count": null,
   "id": "12d06ed0",
   "metadata": {},
   "outputs": [],
   "source": [
    "#---------------------------------------------------\n",
    "#\n",
    "# Config *** TO UPDATE ***\n",
    "#\n",
    "#---------------------------------------------------\n",
    "\n",
    "# *** TO UPDATE: change the team number with your own team number\n",
    "TEAM_NUMBER = \"TeamDemo\"\n",
    "\n",
    "# File with AOIS definitions \n",
    "AOIS_DEFINITION_FILE = \"raw-data/\"+TEAM_NUMBER+\"/aois definitions/aois.csv\"\n",
    "\n",
    "# This file should be automatically generated from \"5. AOI Visits\"\n",
    "DWELLS_FILE = \"data/dwells.csv\""
   ]
  },
  {
   "cell_type": "code",
   "execution_count": null,
   "id": "e6ba080b",
   "metadata": {},
   "outputs": [],
   "source": [
    "#----------------------------------------------------------------------------------------\n",
    "#\n",
    "# 1. AOI Sequence Charts\n",
    "#\n",
    "#----------------------------------------------------------------------------------------"
   ]
  },
  {
   "cell_type": "code",
   "execution_count": null,
   "id": "8d5bd7a1",
   "metadata": {},
   "outputs": [],
   "source": [
    "# Read aois definition\n",
    "aois_df = pd.read_csv(AOIS_DEFINITION_FILE)"
   ]
  },
  {
   "cell_type": "code",
   "execution_count": null,
   "id": "bdf45bdd",
   "metadata": {},
   "outputs": [],
   "source": [
    "# Display aois definition\n",
    "display(aois_df)"
   ]
  },
  {
   "cell_type": "code",
   "execution_count": null,
   "id": "384dda4b",
   "metadata": {},
   "outputs": [],
   "source": [
    "# get list of AOIs to plot\n",
    "aoisToPlot = aois_df[\"AOI\"].tolist()\n",
    "print(f'AOIs: {aoisToPlot}')"
   ]
  },
  {
   "cell_type": "code",
   "execution_count": null,
   "id": "e68892ff",
   "metadata": {},
   "outputs": [],
   "source": [
    "# Read dwells data using pandas library\n",
    "data = pd.read_csv(DWELLS_FILE)\n",
    "\n",
    "# set display.max_columns to none, to show all the columns when using head()\n",
    "pd.set_option('display.max_columns', None)"
   ]
  },
  {
   "cell_type": "code",
   "execution_count": null,
   "id": "6d4142ae",
   "metadata": {},
   "outputs": [],
   "source": [
    "#Preview dwell data\n",
    "data.head()"
   ]
  },
  {
   "cell_type": "code",
   "execution_count": null,
   "id": "8ab73ba8",
   "metadata": {},
   "outputs": [],
   "source": [
    "#plot AOI Sequences\n",
    "\n",
    "#Keep only visits within the aoisToPlot\n",
    "dataToPlot = data[data['VisitedAOI'].isin(aoisToPlot)].copy(deep=True)\n",
    "\n",
    "#specify format of 'Dwell Start' and 'Dwell End'\n",
    "dataToPlot.loc[:,'Dwell Start'] = pd.to_datetime(dataToPlot['Dwell Start'], unit='ms')\n",
    "dataToPlot.loc[:,'Dwell End'] = pd.to_datetime(dataToPlot['Dwell End'], unit='ms')\n"
   ]
  },
  {
   "cell_type": "code",
   "execution_count": null,
   "id": "382c370f",
   "metadata": {},
   "outputs": [],
   "source": [
    "color_discrete_map = None\n",
    "\n",
    "# Iteratate over the participants and tasks and plot AOI sequences\n",
    "for participant in dataToPlot['Respondent'].unique():\n",
    "    \n",
    "    for task in dataToPlot['SourceStimuliName'].unique():\n",
    "    \n",
    "        # Filter in the participant and task data\n",
    "        participantTaskData = dataToPlot[(dataToPlot['Respondent']==participant) & (dataToPlot['SourceStimuliName']==task)]\n",
    "\n",
    "        # Plot AOI sequences for the participant data\n",
    "        fig = None\n",
    "        # if no colors are assigned yet for the different AOI sequences\n",
    "        if color_discrete_map is None:\n",
    "            # Generate a figure with default colors\n",
    "            fig = px.timeline(participantTaskData, x_start=\"Dwell Start\", x_end=\"Dwell End\", y=\"VisitedAOI\", color=\"VisitedAOI\",  category_orders={\"VisitedAOI\": [value for value in aoisToPlot]}, title=f'Participant: {participant}, Task: {task}')\n",
    "            # copy the colors to color_discrete_map in order to reuse them for the other AOI sequence charts\n",
    "            color_discrete_map = {data.name: data.marker.color for data in fig.data}\n",
    "        else:\n",
    "            # Generate a figure with the existing colors in color_discrete_map\n",
    "            fig = px.timeline(participantTaskData, x_start=\"Dwell Start\", x_end=\"Dwell End\", y=\"VisitedAOI\", color=\"VisitedAOI\",  category_orders={\"VisitedAOI\": [value for value in aoisToPlot]},  color_discrete_map=color_discrete_map, title=f'Participant: {participant}, Task: {task}')\n",
    "\n",
    "        fig.update_xaxes(\n",
    "            tickformat=\"%Q\",  # date format\n",
    "        ) \n",
    "\n",
    "        fig.update_layout(autosize=True,height=600)\n",
    "\n",
    "        fig.show()"
   ]
  },
  {
   "cell_type": "code",
   "execution_count": null,
   "id": "653ce91a",
   "metadata": {},
   "outputs": [],
   "source": []
  }
 ],
 "metadata": {
  "kernelspec": {
   "display_name": "Python 3 (ipykernel)",
   "language": "python",
   "name": "python3"
  },
  "language_info": {
   "codemirror_mode": {
    "name": "ipython",
    "version": 3
   },
   "file_extension": ".py",
   "mimetype": "text/x-python",
   "name": "python",
   "nbconvert_exporter": "python",
   "pygments_lexer": "ipython3",
   "version": "3.11.6"
  }
 },
 "nbformat": 4,
 "nbformat_minor": 5
}
