{
 "cells": [
  {
   "cell_type": "code",
   "execution_count": null,
   "id": "b48131e5",
   "metadata": {},
   "outputs": [],
   "source": [
    "import pandas as pd\n",
    "from matplotlib.patches import Rectangle\n",
    "import utils\n",
    "import numpy as np\n",
    "import matplotlib.pyplot as plt\n",
    "import matplotlib.patches as patches\n",
    "from PIL import Image\n",
    "import csv\n",
    "import random\n",
    "import os\n",
    "import json\n",
    "import math"
   ]
  },
  {
   "cell_type": "code",
   "execution_count": null,
   "id": "f31261d7",
   "metadata": {},
   "outputs": [],
   "source": [
    "#---------------------------------------------------\n",
    "#\n",
    "# Config *** TO UPDATE ***\n",
    "#\n",
    "#---------------------------------------------------\n",
    "\n",
    "# *** TO UPDATE: change the team number with your own team id\n",
    "TEAM_ID = \"TeamDemo\"\n",
    "\n",
    "# Gaze data File\n",
    "GAZE_DATA_FILE = \"raw-data/\"+TEAM_ID+\"/gaze data/data.csv\"\n",
    "\n",
    "# File with AOIS definitions \n",
    "AOIS_DEFINITION_FILE = \"raw-data/\"+TEAM_ID+\"/aois definitions/aois.csv\"\n",
    "\n",
    "# Path of the stimulus images for the different tasks \n",
    "STIMULUS_IMAGE_WITH_AOIS_PATH = \"raw-data/\"+TEAM_ID+\"/stimulus image with aois/\"\n",
    "\n",
    "# Numbers of rows with meta-data to skip when creating the dataframe\n",
    "META_DATA_ROWS_IN_GAZE_DATA_FILE = 24"
   ]
  },
  {
   "cell_type": "code",
   "execution_count": null,
   "id": "b690d508",
   "metadata": {},
   "outputs": [],
   "source": [
    "#----------------------------------------------------------------------------------------\n",
    "#\n",
    "#\n",
    "# 1. Gaze Data import and computation of X and Y gaze coordinates\n",
    "#\n",
    "#\n",
    "#----------------------------------------------------------------------------------------"
   ]
  },
  {
   "cell_type": "code",
   "execution_count": null,
   "id": "7ccd16aa",
   "metadata": {},
   "outputs": [],
   "source": [
    "#Read gaze data using pandas library\n",
    "data = pd.read_csv(GAZE_DATA_FILE, skiprows=META_DATA_ROWS_IN_GAZE_DATA_FILE)\n",
    "# set display.max_columns to none, to show all the columns when using head()\n",
    "pd.set_option('display.max_columns', None)"
   ]
  },
  {
   "cell_type": "code",
   "execution_count": null,
   "id": "71a1842f",
   "metadata": {},
   "outputs": [],
   "source": [
    "# preview gaze data\n",
    "data.head()"
   ]
  },
  {
   "cell_type": "code",
   "execution_count": null,
   "id": "9d73c204",
   "metadata": {},
   "outputs": [],
   "source": [
    "# Get the participants list\n",
    "print(f'Participants list {data[\"Respondent\"].unique()}')"
   ]
  },
  {
   "cell_type": "code",
   "execution_count": null,
   "id": "7c966596",
   "metadata": {},
   "outputs": [],
   "source": [
    "# Get the tasks list\n",
    "print(f'tasks list {data[\"SourceStimuliName\"].unique()}')"
   ]
  },
  {
   "cell_type": "code",
   "execution_count": null,
   "id": "e7b1d4e0",
   "metadata": {},
   "outputs": [],
   "source": [
    "# Replace -1 values with NaN\n",
    "data = data.replace(-1,np.nan)\n",
    "\n",
    "# compute the mean X and Y gaze positions based on the left and right eyes\n",
    "data['GazeX'] = data[['ET_GazeLeftx','ET_GazeRightx']].mean(axis=1)\n",
    "data['GazeY'] = data[['ET_GazeLefty','ET_GazeRighty']].mean(axis=1)"
   ]
  },
  {
   "cell_type": "code",
   "execution_count": null,
   "id": "0db5c87b",
   "metadata": {},
   "outputs": [],
   "source": [
    "# preview gaze data with mean X and Y gaze positions columns\n",
    "data.head()"
   ]
  },
  {
   "cell_type": "code",
   "execution_count": null,
   "id": "a02d8c2b",
   "metadata": {},
   "outputs": [],
   "source": [
    "#----------------------------------------------------------------------------------------\n",
    "#\n",
    "#\n",
    "# 4. Data exploration and visual quality assessment\n",
    "# Projecting gaze points on Areas of Interests (AOIs)\n",
    "# \n",
    "#\n",
    "#----------------------------------------------------------------------------------------"
   ]
  },
  {
   "cell_type": "code",
   "execution_count": null,
   "id": "c510bf50",
   "metadata": {},
   "outputs": [],
   "source": [
    "# Read file with AOI coordinates\n",
    "\"\"\" Dataframe columns\n",
    "AOI: name of the AOI\n",
    "p1x: starting point of the AOI rectangle on the x axis\n",
    "p1y: starting point of the AOI rectangle on the y axis\n",
    "p2x: ending point of the AOI rectangle on the x axis\n",
    "p2y: ending point of the AOI rectangle on the y axis\n",
    "task: name of the task\n",
    "\"\"\"\n",
    "aois = pd.read_csv(AOIS_DEFINITION_FILE)\n",
    "\n",
    "# Compute the width and the height of the AOIs based on their start/ending points\n",
    "aois['width'] = aois['p2x']-aois['p1x']\n",
    "aois['height'] = aois['p2y']-aois['p1y']\n",
    "\n",
    "display(aois)"
   ]
  },
  {
   "cell_type": "code",
   "execution_count": null,
   "id": "40b9ac8b",
   "metadata": {},
   "outputs": [],
   "source": [
    "# Iteratate over the participants and tasks, then plot gazes and AOIs for each participant and task\n",
    "for participant in data['Respondent'].unique():\n",
    "    \n",
    "    for task in data[\"SourceStimuliName\"].unique():\n",
    "        \n",
    "        # Path to the stimulus image\n",
    "        image_path = STIMULUS_IMAGE_WITH_AOIS_PATH+task+'.png'\n",
    "\n",
    "        # filter in the participant and task data\n",
    "        participantTaskData= data[(data['Respondent']==participant) & (data['SourceStimuliName']==task)]\n",
    "\n",
    "        # Initiate a coordinate system with a background image\n",
    "        fig, ax = utils.initPlotContainer(image_path)\n",
    "\n",
    "        # set title\n",
    "        ax.set_title(f'Participant: {participant}, Task: {task}', fontsize=30)\n",
    "\n",
    "        # Plot gazes\n",
    "        ax.plot(participantTaskData['GazeX'], participantTaskData['GazeY'],'o',alpha=0.5, markersize=1, color='red')"
   ]
  },
  {
   "cell_type": "code",
   "execution_count": null,
   "id": "b03cd7d0",
   "metadata": {},
   "outputs": [],
   "source": [
    "#----------------------------------------------------------------------------------------\n",
    "#\n",
    "#\n",
    "# 4. Assign gaze points to AOIs\n",
    "#\n",
    "#\n",
    "#----------------------------------------------------------------------------------------"
   ]
  },
  {
   "cell_type": "code",
   "execution_count": null,
   "id": "53045021",
   "metadata": {},
   "outputs": [],
   "source": [
    "# copy gazeData to gazeDataWithAOIs\n",
    "gazeDataWithAOIs = data.copy(deep=True)\n",
    "\n",
    "# iterate over the rows in aois dataframe\n",
    "for index, row in aois.iterrows():\n",
    "    # get the name of AOI\n",
    "    aoiName = row['AOI']\n",
    "    # add a new column with key=aoiName and value=(0 or 1) depending on whether the gaze point in within the AOI in question \n",
    "    gazeDataWithAOIs[aoiName] = data.apply(lambda x : utils.pointInRect(x['SourceStimuliName'],x['GazeX'],x['GazeY'],row['task'],row['p1x'],row['p1y'],row['p2x'],row['p2y']),axis=1)"
   ]
  },
  {
   "cell_type": "code",
   "execution_count": null,
   "id": "1eef1322",
   "metadata": {
    "scrolled": true
   },
   "outputs": [],
   "source": [
    "# preview gaze data with AOIs mapping\n",
    "gazeDataWithAOIs.head()"
   ]
  },
  {
   "cell_type": "code",
   "execution_count": null,
   "id": "e1ccdbe3",
   "metadata": {},
   "outputs": [],
   "source": [
    "# export gazeDataWithAOIs as csv\n",
    "gazeDataWithAOIs.to_csv('data/gazeDataWithAOIs.csv',  index=False)"
   ]
  },
  {
   "cell_type": "code",
   "execution_count": null,
   "id": "a2e456f7",
   "metadata": {},
   "outputs": [],
   "source": []
  },
  {
   "cell_type": "code",
   "execution_count": null,
   "id": "215d3a69",
   "metadata": {},
   "outputs": [],
   "source": []
  },
  {
   "cell_type": "code",
   "execution_count": null,
   "id": "124d6894",
   "metadata": {},
   "outputs": [],
   "source": []
  },
  {
   "cell_type": "code",
   "execution_count": null,
   "id": "7a74373e",
   "metadata": {},
   "outputs": [],
   "source": []
  }
 ],
 "metadata": {
  "kernelspec": {
   "display_name": "Python 3 (ipykernel)",
   "language": "python",
   "name": "python3"
  },
  "language_info": {
   "codemirror_mode": {
    "name": "ipython",
    "version": 3
   },
   "file_extension": ".py",
   "mimetype": "text/x-python",
   "name": "python",
   "nbconvert_exporter": "python",
   "pygments_lexer": "ipython3",
   "version": "3.11.6"
  }
 },
 "nbformat": 4,
 "nbformat_minor": 5
}
