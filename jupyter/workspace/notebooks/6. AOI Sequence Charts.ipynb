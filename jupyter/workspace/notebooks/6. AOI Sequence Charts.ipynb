{
 "cells": [
  {
   "cell_type": "code",
   "execution_count": 1,
   "id": "706d6ab9",
   "metadata": {},
   "outputs": [],
   "source": [
    "import plotly.express as px\n",
    "import pandas as pd"
   ]
  },
  {
   "cell_type": "code",
   "execution_count": 2,
   "id": "12d06ed0",
   "metadata": {},
   "outputs": [],
   "source": [
    "#---------------------------------------------------\n",
    "#\n",
    "# Config *** TO UPDATE ***\n",
    "#\n",
    "#---------------------------------------------------\n",
    "\n",
    "# *** TO UPDATE: change the team number with your own team number\n",
    "TEAM_NUMBER = \"TeamDemo\"\n",
    "\n",
    "# File with AOIS definitions \n",
    "AOIS_DEFINITION_FILE = \"../raw-data/\"+TEAM_NUMBER+\"/aois definitions/aois.csv\"\n",
    "\n",
    "# This file should be automatically generated from \"5. AOI Visits\"\n",
    "DWELLS_FILE = \"data/dwells.csv\""
   ]
  },
  {
   "cell_type": "code",
   "execution_count": 3,
   "id": "e6ba080b",
   "metadata": {},
   "outputs": [],
   "source": [
    "#----------------------------------------------------------------------------------------\n",
    "#\n",
    "# 1. AOI Sequence Charts\n",
    "#\n",
    "#----------------------------------------------------------------------------------------"
   ]
  },
  {
   "cell_type": "code",
   "execution_count": 4,
   "id": "8d5bd7a1",
   "metadata": {},
   "outputs": [],
   "source": [
    "# Read aois definition\n",
    "aois_df = pd.read_csv(AOIS_DEFINITION_FILE)"
   ]
  },
  {
   "cell_type": "code",
   "execution_count": 5,
   "id": "bdf45bdd",
   "metadata": {},
   "outputs": [
    {
     "data": {
      "text/html": [
       "<div>\n",
       "<style scoped>\n",
       "    .dataframe tbody tr th:only-of-type {\n",
       "        vertical-align: middle;\n",
       "    }\n",
       "\n",
       "    .dataframe tbody tr th {\n",
       "        vertical-align: top;\n",
       "    }\n",
       "\n",
       "    .dataframe thead th {\n",
       "        text-align: right;\n",
       "    }\n",
       "</style>\n",
       "<table border=\"1\" class=\"dataframe\">\n",
       "  <thead>\n",
       "    <tr style=\"text-align: right;\">\n",
       "      <th></th>\n",
       "      <th>AOI</th>\n",
       "      <th>p1x</th>\n",
       "      <th>p1y</th>\n",
       "      <th>p2x</th>\n",
       "      <th>p2y</th>\n",
       "      <th>task</th>\n",
       "    </tr>\n",
       "  </thead>\n",
       "  <tbody>\n",
       "    <tr>\n",
       "      <th>0</th>\n",
       "      <td>Chat</td>\n",
       "      <td>1548.984881</td>\n",
       "      <td>676.457883</td>\n",
       "      <td>1683.110151</td>\n",
       "      <td>737.105832</td>\n",
       "      <td>Slide1</td>\n",
       "    </tr>\n",
       "    <tr>\n",
       "      <th>1</th>\n",
       "      <td>CTA_1</td>\n",
       "      <td>287.041037</td>\n",
       "      <td>443.196544</td>\n",
       "      <td>506.306695</td>\n",
       "      <td>508.509719</td>\n",
       "      <td>Slide1</td>\n",
       "    </tr>\n",
       "    <tr>\n",
       "      <th>2</th>\n",
       "      <td>Date_Place_1</td>\n",
       "      <td>192.570194</td>\n",
       "      <td>846.738661</td>\n",
       "      <td>488.812095</td>\n",
       "      <td>957.537797</td>\n",
       "      <td>Slide1</td>\n",
       "    </tr>\n",
       "    <tr>\n",
       "      <th>3</th>\n",
       "      <td>Date_Place_2</td>\n",
       "      <td>757.062635</td>\n",
       "      <td>87.473002</td>\n",
       "      <td>1045.140389</td>\n",
       "      <td>169.114471</td>\n",
       "      <td>Slide1</td>\n",
       "    </tr>\n",
       "    <tr>\n",
       "      <th>4</th>\n",
       "      <td>Description_1</td>\n",
       "      <td>191.403888</td>\n",
       "      <td>968.034557</td>\n",
       "      <td>584.449244</td>\n",
       "      <td>1042.678186</td>\n",
       "      <td>Slide1</td>\n",
       "    </tr>\n",
       "    <tr>\n",
       "      <th>5</th>\n",
       "      <td>Description_2</td>\n",
       "      <td>757.062635</td>\n",
       "      <td>177.278618</td>\n",
       "      <td>1167.602592</td>\n",
       "      <td>319.568035</td>\n",
       "      <td>Slide1</td>\n",
       "    </tr>\n",
       "    <tr>\n",
       "      <th>6</th>\n",
       "      <td>Fav</td>\n",
       "      <td>1365.874730</td>\n",
       "      <td>675.291577</td>\n",
       "      <td>1524.492441</td>\n",
       "      <td>733.606911</td>\n",
       "      <td>Slide1</td>\n",
       "    </tr>\n",
       "    <tr>\n",
       "      <th>7</th>\n",
       "      <td>Food</td>\n",
       "      <td>155.248380</td>\n",
       "      <td>88.639309</td>\n",
       "      <td>636.933045</td>\n",
       "      <td>435.032397</td>\n",
       "      <td>Slide1</td>\n",
       "    </tr>\n",
       "    <tr>\n",
       "      <th>8</th>\n",
       "      <td>Gen_Info</td>\n",
       "      <td>193.736501</td>\n",
       "      <td>523.671706</td>\n",
       "      <td>495.809935</td>\n",
       "      <td>600.647948</td>\n",
       "      <td>Slide1</td>\n",
       "    </tr>\n",
       "    <tr>\n",
       "      <th>9</th>\n",
       "      <td>Ingredients</td>\n",
       "      <td>757.062635</td>\n",
       "      <td>337.062635</td>\n",
       "      <td>989.157667</td>\n",
       "      <td>669.460043</td>\n",
       "      <td>Slide1</td>\n",
       "    </tr>\n",
       "    <tr>\n",
       "      <th>10</th>\n",
       "      <td>Instructions</td>\n",
       "      <td>755.896328</td>\n",
       "      <td>681.123110</td>\n",
       "      <td>1162.937365</td>\n",
       "      <td>1036.846652</td>\n",
       "      <td>Slide1</td>\n",
       "    </tr>\n",
       "    <tr>\n",
       "      <th>11</th>\n",
       "      <td>Online</td>\n",
       "      <td>1418.358531</td>\n",
       "      <td>895.723542</td>\n",
       "      <td>1641.123110</td>\n",
       "      <td>941.209503</td>\n",
       "      <td>Slide1</td>\n",
       "    </tr>\n",
       "    <tr>\n",
       "      <th>12</th>\n",
       "      <td>Participants_Overview</td>\n",
       "      <td>191.403888</td>\n",
       "      <td>618.142549</td>\n",
       "      <td>598.444924</td>\n",
       "      <td>828.077754</td>\n",
       "      <td>Slide1</td>\n",
       "    </tr>\n",
       "    <tr>\n",
       "      <th>13</th>\n",
       "      <td>Participant_Bio</td>\n",
       "      <td>1321.555076</td>\n",
       "      <td>751.101512</td>\n",
       "      <td>1541.987041</td>\n",
       "      <td>865.399568</td>\n",
       "      <td>Slide1</td>\n",
       "    </tr>\n",
       "    <tr>\n",
       "      <th>14</th>\n",
       "      <td>Participant_Profile_Picture</td>\n",
       "      <td>1292.397408</td>\n",
       "      <td>100.302376</td>\n",
       "      <td>1758.920086</td>\n",
       "      <td>662.462203</td>\n",
       "      <td>Slide1</td>\n",
       "    </tr>\n",
       "    <tr>\n",
       "      <th>15</th>\n",
       "      <td>Place</td>\n",
       "      <td>1482.505400</td>\n",
       "      <td>954.038877</td>\n",
       "      <td>1575.809935</td>\n",
       "      <td>1029.848812</td>\n",
       "      <td>Slide1</td>\n",
       "    </tr>\n",
       "    <tr>\n",
       "      <th>16</th>\n",
       "      <td>Responsabilities</td>\n",
       "      <td>1018.315335</td>\n",
       "      <td>338.228942</td>\n",
       "      <td>1166.436285</td>\n",
       "      <td>670.626350</td>\n",
       "      <td>Slide1</td>\n",
       "    </tr>\n",
       "    <tr>\n",
       "      <th>17</th>\n",
       "      <td>Status</td>\n",
       "      <td>1606.133909</td>\n",
       "      <td>954.038877</td>\n",
       "      <td>1691.274298</td>\n",
       "      <td>1031.015119</td>\n",
       "      <td>Slide1</td>\n",
       "    </tr>\n",
       "    <tr>\n",
       "      <th>18</th>\n",
       "      <td>Verified</td>\n",
       "      <td>1357.710583</td>\n",
       "      <td>952.872570</td>\n",
       "      <td>1453.347732</td>\n",
       "      <td>1029.848812</td>\n",
       "      <td>Slide1</td>\n",
       "    </tr>\n",
       "  </tbody>\n",
       "</table>\n",
       "</div>"
      ],
      "text/plain": [
       "                            AOI          p1x         p1y          p2x  \\\n",
       "0                          Chat  1548.984881  676.457883  1683.110151   \n",
       "1                         CTA_1   287.041037  443.196544   506.306695   \n",
       "2                  Date_Place_1   192.570194  846.738661   488.812095   \n",
       "3                  Date_Place_2   757.062635   87.473002  1045.140389   \n",
       "4                 Description_1   191.403888  968.034557   584.449244   \n",
       "5                 Description_2   757.062635  177.278618  1167.602592   \n",
       "6                           Fav  1365.874730  675.291577  1524.492441   \n",
       "7                          Food   155.248380   88.639309   636.933045   \n",
       "8                      Gen_Info   193.736501  523.671706   495.809935   \n",
       "9                   Ingredients   757.062635  337.062635   989.157667   \n",
       "10                 Instructions   755.896328  681.123110  1162.937365   \n",
       "11                       Online  1418.358531  895.723542  1641.123110   \n",
       "12        Participants_Overview   191.403888  618.142549   598.444924   \n",
       "13              Participant_Bio  1321.555076  751.101512  1541.987041   \n",
       "14  Participant_Profile_Picture  1292.397408  100.302376  1758.920086   \n",
       "15                        Place  1482.505400  954.038877  1575.809935   \n",
       "16             Responsabilities  1018.315335  338.228942  1166.436285   \n",
       "17                       Status  1606.133909  954.038877  1691.274298   \n",
       "18                     Verified  1357.710583  952.872570  1453.347732   \n",
       "\n",
       "            p2y    task  \n",
       "0    737.105832  Slide1  \n",
       "1    508.509719  Slide1  \n",
       "2    957.537797  Slide1  \n",
       "3    169.114471  Slide1  \n",
       "4   1042.678186  Slide1  \n",
       "5    319.568035  Slide1  \n",
       "6    733.606911  Slide1  \n",
       "7    435.032397  Slide1  \n",
       "8    600.647948  Slide1  \n",
       "9    669.460043  Slide1  \n",
       "10  1036.846652  Slide1  \n",
       "11   941.209503  Slide1  \n",
       "12   828.077754  Slide1  \n",
       "13   865.399568  Slide1  \n",
       "14   662.462203  Slide1  \n",
       "15  1029.848812  Slide1  \n",
       "16   670.626350  Slide1  \n",
       "17  1031.015119  Slide1  \n",
       "18  1029.848812  Slide1  "
      ]
     },
     "metadata": {},
     "output_type": "display_data"
    }
   ],
   "source": [
    "# Display aois definition\n",
    "display(aois_df)"
   ]
  },
  {
   "cell_type": "code",
   "execution_count": 6,
   "id": "384dda4b",
   "metadata": {},
   "outputs": [
    {
     "name": "stdout",
     "output_type": "stream",
     "text": [
      "AOIs: ['Chat', 'CTA_1', 'Date_Place_1', 'Date_Place_2', 'Description_1', 'Description_2', 'Fav', 'Food', 'Gen_Info', 'Ingredients', 'Instructions', 'Online', 'Participants_Overview', 'Participant_Bio', 'Participant_Profile_Picture', 'Place', 'Responsabilities', 'Status', 'Verified']\n"
     ]
    }
   ],
   "source": [
    "# get list of AOIs to plot\n",
    "aoisToPlot = aois_df[\"AOI\"].tolist()\n",
    "print(f'AOIs: {aoisToPlot}')"
   ]
  },
  {
   "cell_type": "code",
   "execution_count": 7,
   "id": "e68892ff",
   "metadata": {},
   "outputs": [],
   "source": [
    "# Read dwells data using pandas library\n",
    "data = pd.read_csv(DWELLS_FILE)\n",
    "\n",
    "# set display.max_columns to none, to show all the columns when using head()\n",
    "pd.set_option('display.max_columns', None)"
   ]
  },
  {
   "cell_type": "code",
   "execution_count": 8,
   "id": "6d4142ae",
   "metadata": {},
   "outputs": [
    {
     "data": {
      "text/html": [
       "<div>\n",
       "<style scoped>\n",
       "    .dataframe tbody tr th:only-of-type {\n",
       "        vertical-align: middle;\n",
       "    }\n",
       "\n",
       "    .dataframe tbody tr th {\n",
       "        vertical-align: top;\n",
       "    }\n",
       "\n",
       "    .dataframe thead th {\n",
       "        text-align: right;\n",
       "    }\n",
       "</style>\n",
       "<table border=\"1\" class=\"dataframe\">\n",
       "  <thead>\n",
       "    <tr style=\"text-align: right;\">\n",
       "      <th></th>\n",
       "      <th>Respondent</th>\n",
       "      <th>SourceStimuliName</th>\n",
       "      <th>VisitedAOI</th>\n",
       "      <th>Dwell Start</th>\n",
       "      <th>Dwell End</th>\n",
       "      <th>Number of Fixations in Dwell</th>\n",
       "      <th>Number of Saccades in Dwell</th>\n",
       "      <th>Dwell Time</th>\n",
       "    </tr>\n",
       "  </thead>\n",
       "  <tbody>\n",
       "    <tr>\n",
       "      <th>0</th>\n",
       "      <td>P01</td>\n",
       "      <td>Slide1</td>\n",
       "      <td>Responsabilities</td>\n",
       "      <td>117.4537</td>\n",
       "      <td>375.7792</td>\n",
       "      <td>1</td>\n",
       "      <td>0</td>\n",
       "      <td>258.3255</td>\n",
       "    </tr>\n",
       "    <tr>\n",
       "      <th>1</th>\n",
       "      <td>P01</td>\n",
       "      <td>Slide1</td>\n",
       "      <td>CTA_1</td>\n",
       "      <td>742.4064</td>\n",
       "      <td>1100.6684</td>\n",
       "      <td>2</td>\n",
       "      <td>4</td>\n",
       "      <td>358.2620</td>\n",
       "    </tr>\n",
       "    <tr>\n",
       "      <th>2</th>\n",
       "      <td>P01</td>\n",
       "      <td>Slide1</td>\n",
       "      <td>Food</td>\n",
       "      <td>1200.7011</td>\n",
       "      <td>1567.3256</td>\n",
       "      <td>1</td>\n",
       "      <td>1</td>\n",
       "      <td>366.6245</td>\n",
       "    </tr>\n",
       "    <tr>\n",
       "      <th>3</th>\n",
       "      <td>P01</td>\n",
       "      <td>Slide1</td>\n",
       "      <td>Food</td>\n",
       "      <td>1783.9405</td>\n",
       "      <td>2333.8938</td>\n",
       "      <td>2</td>\n",
       "      <td>4</td>\n",
       "      <td>549.9533</td>\n",
       "    </tr>\n",
       "    <tr>\n",
       "      <th>4</th>\n",
       "      <td>P01</td>\n",
       "      <td>Slide1</td>\n",
       "      <td>Food</td>\n",
       "      <td>3658.7234</td>\n",
       "      <td>3867.0633</td>\n",
       "      <td>1</td>\n",
       "      <td>1</td>\n",
       "      <td>208.3399</td>\n",
       "    </tr>\n",
       "  </tbody>\n",
       "</table>\n",
       "</div>"
      ],
      "text/plain": [
       "  Respondent SourceStimuliName        VisitedAOI  Dwell Start  Dwell End  \\\n",
       "0        P01            Slide1  Responsabilities     117.4537   375.7792   \n",
       "1        P01            Slide1             CTA_1     742.4064  1100.6684   \n",
       "2        P01            Slide1              Food    1200.7011  1567.3256   \n",
       "3        P01            Slide1              Food    1783.9405  2333.8938   \n",
       "4        P01            Slide1              Food    3658.7234  3867.0633   \n",
       "\n",
       "   Number of Fixations in Dwell  Number of Saccades in Dwell  Dwell Time  \n",
       "0                             1                            0    258.3255  \n",
       "1                             2                            4    358.2620  \n",
       "2                             1                            1    366.6245  \n",
       "3                             2                            4    549.9533  \n",
       "4                             1                            1    208.3399  "
      ]
     },
     "execution_count": 8,
     "metadata": {},
     "output_type": "execute_result"
    }
   ],
   "source": [
    "#Preview dwell data\n",
    "data.head()"
   ]
  },
  {
   "cell_type": "code",
   "execution_count": 19,
   "id": "8ab73ba8",
   "metadata": {},
   "outputs": [],
   "source": [
    "#plot AOI Sequences\n",
    "\n",
    "# Keep only visits within the aoisToPlot\n",
    "dataToPlot = data[data['VisitedAOI'].isin(aoisToPlot)].copy(deep=True)\n",
    "\n",
    "# We check and cast them directly to numeric without coercing them into NaN\n",
    "if dataToPlot['Dwell Start'].dtype == 'object':\n",
    "    dataToPlot['Dwell Start'] = pd.to_numeric(dataToPlot['Dwell Start'], errors='raise')\n",
    "\n",
    "if dataToPlot['Dwell End'].dtype == 'object':\n",
    "    dataToPlot['Dwell End'] = pd.to_numeric(dataToPlot['Dwell End'], errors='raise')\n",
    "\n",
    "# Convert to datetime with unit='ms' knowing they're numeric\n",
    "dataToPlot['Dwell Start'] = pd.to_datetime(dataToPlot['Dwell Start'], unit='ms')\n",
    "dataToPlot['Dwell End'] = pd.to_datetime(dataToPlot['Dwell End'], unit='ms')\n"
   ]
  },
  {
   "cell_type": "code",
   "execution_count": 20,
   "id": "382c370f",
   "metadata": {},
   "outputs": [
    {
     "data": {
      "application/vnd.plotly.v1+json": {
       "config": {
        "plotlyServerURL": "https://plot.ly"
       },
       "data": [
        {
         "alignmentgroup": "True",
         "base": [
          "1970-01-01T00:01:09.409789"
         ],
         "hovertemplate": "VisitedAOI=%{y}<br>Dwell Start=%{base}<br>Dwell End=%{x}<extra></extra>",
         "legendgroup": "Chat",
         "marker": {
          "color": "#636efa",
          "pattern": {
           "shape": ""
          }
         },
         "name": "Chat",
         "offsetgroup": "Chat",
         "orientation": "h",
         "showlegend": true,
         "textposition": "auto",
         "type": "bar",
         "x": [
          316.6278
         ],
         "xaxis": "x",
         "y": [
          "Chat"
         ],
         "yaxis": "y"
        },
        {
         "alignmentgroup": "True",
         "base": [
          "1970-01-01T00:00:00.742406",
          "1970-01-01T00:00:06.425090",
          "1970-01-01T00:01:24.166502",
          "1970-01-01T00:01:44.139262",
          "1970-01-01T00:01:46.547351",
          "1970-01-01T00:03:20.295365"
         ],
         "hovertemplate": "VisitedAOI=%{y}<br>Dwell Start=%{base}<br>Dwell End=%{x}<extra></extra>",
         "legendgroup": "CTA_1",
         "marker": {
          "color": "#EF553B",
          "pattern": {
           "shape": ""
          }
         },
         "name": "CTA_1",
         "offsetgroup": "CTA_1",
         "orientation": "h",
         "showlegend": true,
         "textposition": "auto",
         "type": "bar",
         "x": [
          358.262,
          791.5866,
          324.9319,
          141.6636,
          316.6332,
          216.6328
         ],
         "xaxis": "x",
         "y": [
          "CTA_1",
          "CTA_1",
          "CTA_1",
          "CTA_1",
          "CTA_1",
          "CTA_1"
         ],
         "yaxis": "y"
        },
        {
         "alignmentgroup": "True",
         "base": [
          "1970-01-01T00:00:15.140828",
          "1970-01-01T00:00:17.590573",
          "1970-01-01T00:00:17.865550",
          "1970-01-01T00:00:20.506884",
          "1970-01-01T00:00:20.656854",
          "1970-01-01T00:01:17.908863",
          "1970-01-01T00:01:21.800077",
          "1970-01-01T00:01:28.807621",
          "1970-01-01T00:01:30.907408",
          "1970-01-01T00:01:37.806643",
          "1970-01-01T00:01:38.456617",
          "1970-01-01T00:01:47.180598",
          "1970-01-01T00:01:47.388900",
          "1970-01-01T00:03:18.170608",
          "1970-01-01T00:03:22.228495"
         ],
         "hovertemplate": "VisitedAOI=%{y}<br>Dwell Start=%{base}<br>Dwell End=%{x}<extra></extra>",
         "legendgroup": "Date_Place_1",
         "marker": {
          "color": "#00cc96",
          "pattern": {
           "shape": ""
          }
         },
         "name": "Date_Place_1",
         "offsetgroup": "Date_Place_1",
         "orientation": "h",
         "showlegend": true,
         "textposition": "auto",
         "type": "bar",
         "x": [
          2191.4516,
          33.3314,
          2524.6854,
          25.0035,
          633.314,
          58.3049,
          283.3597,
          1858.1452,
          933.2594,
          341.6429,
          766.5484,
          24.9916,
          1366.5229,
          408.2895,
          549.9881
         ],
         "xaxis": "x",
         "y": [
          "Date_Place_1",
          "Date_Place_1",
          "Date_Place_1",
          "Date_Place_1",
          "Date_Place_1",
          "Date_Place_1",
          "Date_Place_1",
          "Date_Place_1",
          "Date_Place_1",
          "Date_Place_1",
          "Date_Place_1",
          "Date_Place_1",
          "Date_Place_1",
          "Date_Place_1",
          "Date_Place_1"
         ],
         "yaxis": "y"
        },
        {
         "alignmentgroup": "True",
         "base": [
          "1970-01-01T00:01:27.782749",
          "1970-01-01T00:01:28.391012",
          "1970-01-01T00:01:36.998433",
          "1970-01-01T00:01:52.380061"
         ],
         "hovertemplate": "VisitedAOI=%{y}<br>Dwell Start=%{base}<br>Dwell End=%{x}<extra></extra>",
         "legendgroup": "Date_Place_2",
         "marker": {
          "color": "#ab63fa",
          "pattern": {
           "shape": ""
          }
         },
         "name": "Date_Place_2",
         "offsetgroup": "Date_Place_2",
         "orientation": "h",
         "showlegend": true,
         "textposition": "auto",
         "type": "bar",
         "x": [
          433.2681,
          341.6508,
          474.9235,
          216.6146
         ],
         "xaxis": "x",
         "y": [
          "Date_Place_2",
          "Date_Place_2",
          "Date_Place_2",
          "Date_Place_2"
         ],
         "yaxis": "y"
        },
        {
         "alignmentgroup": "True",
         "base": [
          "1970-01-01T00:00:21.373473",
          "1970-01-01T00:01:17.208918",
          "1970-01-01T00:01:38.148286",
          "1970-01-01T00:01:47.322241",
          "1970-01-01T00:03:17.729015",
          "1970-01-01T00:03:22.778483",
          "1970-01-01T00:03:23.111720"
         ],
         "hovertemplate": "VisitedAOI=%{y}<br>Dwell Start=%{base}<br>Dwell End=%{x}<extra></extra>",
         "legendgroup": "Description_1",
         "marker": {
          "color": "#FFA15A",
          "pattern": {
           "shape": ""
          }
         },
         "name": "Description_1",
         "offsetgroup": "Description_1",
         "orientation": "h",
         "showlegend": true,
         "textposition": "auto",
         "type": "bar",
         "x": [
          1724.77,
          699.945,
          283.2935,
          16.6659,
          383.2689,
          283.2292,
          841.5571
         ],
         "xaxis": "x",
         "y": [
          "Description_1",
          "Description_1",
          "Description_1",
          "Description_1",
          "Description_1",
          "Description_1",
          "Description_1"
         ],
         "yaxis": "y"
        },
        {
         "alignmentgroup": "True",
         "base": [
          "1970-01-01T00:00:23.598207",
          "1970-01-01T00:01:27.291175",
          "1970-01-01T00:01:36.173517",
          "1970-01-01T00:01:36.265161",
          "1970-01-01T00:01:51.830114",
          "1970-01-01T00:01:52.596676",
          "1970-01-01T00:02:05.378618",
          "1970-01-01T00:02:57.539523",
          "1970-01-01T00:02:59.064386"
         ],
         "hovertemplate": "VisitedAOI=%{y}<br>Dwell Start=%{base}<br>Dwell End=%{x}<extra></extra>",
         "legendgroup": "Description_2",
         "marker": {
          "color": "#19d3f3",
          "pattern": {
           "shape": ""
          }
         },
         "name": "Description_2",
         "offsetgroup": "Description_2",
         "orientation": "h",
         "showlegend": true,
         "textposition": "auto",
         "type": "bar",
         "x": [
          11207.0939,
          474.9227,
          83.3038,
          574.9364,
          533.2552,
          2941.3511,
          4141.1902,
          741.571,
          4307.8239
         ],
         "xaxis": "x",
         "y": [
          "Description_2",
          "Description_2",
          "Description_2",
          "Description_2",
          "Description_2",
          "Description_2",
          "Description_2",
          "Description_2",
          "Description_2"
         ],
         "yaxis": "y"
        },
        {
         "alignmentgroup": "True",
         "base": [
          "1970-01-01T00:01:08.684879"
         ],
         "hovertemplate": "VisitedAOI=%{y}<br>Dwell Start=%{base}<br>Dwell End=%{x}<extra></extra>",
         "legendgroup": "Fav",
         "marker": {
          "color": "#FF6692",
          "pattern": {
           "shape": ""
          }
         },
         "name": "Fav",
         "offsetgroup": "Fav",
         "orientation": "h",
         "showlegend": true,
         "textposition": "auto",
         "type": "bar",
         "x": [
          724.9093
         ],
         "xaxis": "x",
         "y": [
          "Fav"
         ],
         "yaxis": "y"
        },
        {
         "alignmentgroup": "True",
         "base": [
          "1970-01-01T00:00:01.200701",
          "1970-01-01T00:00:01.783940",
          "1970-01-01T00:00:03.658723",
          "1970-01-01T00:00:04.525318",
          "1970-01-01T00:00:05.666830",
          "1970-01-01T00:01:24.524766",
          "1970-01-01T00:01:25.366339",
          "1970-01-01T00:01:43.955990",
          "1970-01-01T00:01:44.280926",
          "1970-01-01T00:03:19.153819",
          "1970-01-01T00:03:20.511998"
         ],
         "hovertemplate": "VisitedAOI=%{y}<br>Dwell Start=%{base}<br>Dwell End=%{x}<extra></extra>",
         "legendgroup": "Food",
         "marker": {
          "color": "#B6E880",
          "pattern": {
           "shape": ""
          }
         },
         "name": "Food",
         "offsetgroup": "Food",
         "orientation": "h",
         "showlegend": true,
         "textposition": "auto",
         "type": "bar",
         "x": [
          366.6245,
          549.9533,
          208.339899,
          366.6799,
          708.2621,
          366.6364,
          474.953,
          149.9466,
          2266.4254,
          1141.5458,
          333.3142
         ],
         "xaxis": "x",
         "y": [
          "Food",
          "Food",
          "Food",
          "Food",
          "Food",
          "Food",
          "Food",
          "Food",
          "Food",
          "Food",
          "Food"
         ],
         "yaxis": "y"
        },
        {
         "alignmentgroup": "True",
         "base": [
          "1970-01-01T00:00:07.216677",
          "1970-01-01T00:00:08.049900",
          "1970-01-01T00:00:08.649879",
          "1970-01-01T00:00:09.058128",
          "1970-01-01T00:01:19.275377",
          "1970-01-01T00:01:23.291614",
          "1970-01-01T00:01:39.964735",
          "1970-01-01T00:01:43.364365",
          "1970-01-01T00:01:46.863984",
          "1970-01-01T00:02:52.373442",
          "1970-01-01T00:03:18.995496"
         ],
         "hovertemplate": "VisitedAOI=%{y}<br>Dwell Start=%{base}<br>Dwell End=%{x}<extra></extra>",
         "legendgroup": "Gen_Info",
         "marker": {
          "color": "#FF97FF",
          "pattern": {
           "shape": ""
          }
         },
         "name": "Gen_Info",
         "offsetgroup": "Gen_Info",
         "orientation": "h",
         "showlegend": true,
         "textposition": "auto",
         "type": "bar",
         "x": [
          808.2542,
          524.985,
          341.6054,
          2324.7705,
          774.9142,
          874.8872,
          166.6811,
          558.2897,
          258.284,
          4774.4285,
          124.9838
         ],
         "xaxis": "x",
         "y": [
          "Gen_Info",
          "Gen_Info",
          "Gen_Info",
          "Gen_Info",
          "Gen_Info",
          "Gen_Info",
          "Gen_Info",
          "Gen_Info",
          "Gen_Info",
          "Gen_Info",
          "Gen_Info"
         ],
         "yaxis": "y"
        },
        {
         "alignmentgroup": "True",
         "base": [
          "1970-01-01T00:00:34.805301",
          "1970-01-01T00:00:35.755188",
          "1970-01-01T00:00:37.230003",
          "1970-01-01T00:00:41.146245",
          "1970-01-01T00:00:43.812620",
          "1970-01-01T00:00:47.037319",
          "1970-01-01T00:00:50.836860",
          "1970-01-01T00:00:54.353143",
          "1970-01-01T00:01:15.959056",
          "1970-01-01T00:01:26.266301",
          "1970-01-01T00:01:27.057832",
          "1970-01-01T00:01:32.532227",
          "1970-01-01T00:01:36.131850",
          "1970-01-01T00:01:49.472031",
          "1970-01-01T00:01:50.605232",
          "1970-01-01T00:01:51.630110",
          "1970-01-01T00:02:01.837363",
          "1970-01-01T00:02:03.987125",
          "1970-01-01T00:02:42.874447",
          "1970-01-01T00:02:44.132678",
          "1970-01-01T00:02:58.339439",
          "1970-01-01T00:03:04.772043",
          "1970-01-01T00:03:07.346750"
         ],
         "hovertemplate": "VisitedAOI=%{y}<br>Dwell Start=%{base}<br>Dwell End=%{x}<extra></extra>",
         "legendgroup": "Ingredients",
         "marker": {
          "color": "#FECB52",
          "pattern": {
           "shape": ""
          }
         },
         "name": "Ingredients",
         "offsetgroup": "Ingredients",
         "orientation": "h",
         "showlegend": true,
         "textposition": "auto",
         "type": "bar",
         "x": [
          933.2125,
          291.6571,
          3307.9965,
          1908.165,
          2899.6749,
          3474.5857,
          2733.0247,
          2508.0642,
          558.2783,
          149.9203,
          41.6624,
          3216.3153,
          41.6678,
          899.897701,
          891.5705,
          200.004,
          1924.7769,
          1391.493001,
          824.9136,
          6874.2088,
          674.9198,
          2449.7261,
          508.3272
         ],
         "xaxis": "x",
         "y": [
          "Ingredients",
          "Ingredients",
          "Ingredients",
          "Ingredients",
          "Ingredients",
          "Ingredients",
          "Ingredients",
          "Ingredients",
          "Ingredients",
          "Ingredients",
          "Ingredients",
          "Ingredients",
          "Ingredients",
          "Ingredients",
          "Ingredients",
          "Ingredients",
          "Ingredients",
          "Ingredients",
          "Ingredients",
          "Ingredients",
          "Ingredients",
          "Ingredients",
          "Ingredients"
         ],
         "yaxis": "y"
        },
        {
         "alignmentgroup": "True",
         "base": [
          "1970-01-01T00:00:53.603217",
          "1970-01-01T00:00:57.019513",
          "1970-01-01T00:01:15.367454",
          "1970-01-01T00:01:35.798565",
          "1970-01-01T00:01:49.030404",
          "1970-01-01T00:01:50.371929",
          "1970-01-01T00:02:09.569823",
          "1970-01-01T00:02:38.874894",
          "1970-01-01T00:02:39.216520",
          "1970-01-01T00:02:39.574796",
          "1970-01-01T00:02:41.107996",
          "1970-01-01T00:02:42.332847",
          "1970-01-01T00:02:51.006886",
          "1970-01-01T00:03:03.447227",
          "1970-01-01T00:03:03.647153",
          "1970-01-01T00:03:07.863411",
          "1970-01-01T00:03:12.054596",
          "1970-01-01T00:03:14.071047",
          "1970-01-01T00:03:23.994942",
          "1970-01-01T00:03:27.196558",
          "1970-01-01T00:03:28.471265",
          "1970-01-01T00:03:28.587889",
          "1970-01-01T00:03:28.754561"
         ],
         "hovertemplate": "VisitedAOI=%{y}<br>Dwell Start=%{base}<br>Dwell End=%{x}<extra></extra>",
         "legendgroup": "Instructions",
         "marker": {
          "color": "#636efa",
          "pattern": {
           "shape": ""
          }
         },
         "name": "Instructions",
         "offsetgroup": "Instructions",
         "orientation": "h",
         "showlegend": true,
         "textposition": "auto",
         "type": "bar",
         "x": [
          749.9256,
          10257.1966,
          591.6018,
          333.2849,
          424.9677,
          216.6405,
          29163.4014,
          41.7367,
          83.3337,
          25.0132,
          1183.1872,
          366.6216,
          383.3264,
          33.3193,
          1124.8907,
          3799.5499,
          1608.176,
          3541.267,
          1591.4981,
          874.7441,
          66.635,
          108.3965,
          124.9674
         ],
         "xaxis": "x",
         "y": [
          "Instructions",
          "Instructions",
          "Instructions",
          "Instructions",
          "Instructions",
          "Instructions",
          "Instructions",
          "Instructions",
          "Instructions",
          "Instructions",
          "Instructions",
          "Instructions",
          "Instructions",
          "Instructions",
          "Instructions",
          "Instructions",
          "Instructions",
          "Instructions",
          "Instructions",
          "Instructions",
          "Instructions",
          "Instructions",
          "Instructions"
         ],
         "yaxis": "y"
        },
        {
         "alignmentgroup": "True",
         "base": [
          "1970-01-01T00:01:13.351003",
          "1970-01-01T00:01:13.634305"
         ],
         "hovertemplate": "VisitedAOI=%{y}<br>Dwell Start=%{base}<br>Dwell End=%{x}<extra></extra>",
         "legendgroup": "Online",
         "marker": {
          "color": "#EF553B",
          "pattern": {
           "shape": ""
          }
         },
         "name": "Online",
         "offsetgroup": "Online",
         "orientation": "h",
         "showlegend": true,
         "textposition": "auto",
         "type": "bar",
         "x": [
          266.651,
          341.684
         ],
         "xaxis": "x",
         "y": [
          "Online",
          "Online"
         ],
         "yaxis": "y"
        },
        {
         "alignmentgroup": "True",
         "base": [
          "1970-01-01T00:00:11.382898",
          "1970-01-01T00:01:16.567331",
          "1970-01-01T00:01:18.067146",
          "1970-01-01T00:01:19.067062",
          "1970-01-01T00:01:20.050291",
          "1970-01-01T00:01:22.083436",
          "1970-01-01T00:01:22.533332",
          "1970-01-01T00:01:25.849628",
          "1970-01-01T00:01:31.840667",
          "1970-01-01T00:01:37.531675",
          "1970-01-01T00:01:39.264816",
          "1970-01-01T00:01:40.131416",
          "1970-01-01T00:02:51.390213",
          "1970-01-01T00:03:18.612217",
          "1970-01-01T00:03:21.053606",
          "1970-01-01T00:03:21.845171"
         ],
         "hovertemplate": "VisitedAOI=%{y}<br>Dwell Start=%{base}<br>Dwell End=%{x}<extra></extra>",
         "legendgroup": "Participants_Overview",
         "marker": {
          "color": "#00cc96",
          "pattern": {
           "shape": ""
          }
         },
         "name": "Participants_Overview",
         "offsetgroup": "Participants_Overview",
         "orientation": "h",
         "showlegend": true,
         "textposition": "auto",
         "type": "bar",
         "x": [
          3724.5999,
          558.3008,
          824.9483,
          208.3149,
          1749.7857,
          283.2429,
          758.2822,
          149.983,
          224.936,
          208.3255,
          699.9183,
          3232.9495,
          983.2297,
          383.2787,
          658.2413,
          175.0093
         ],
         "xaxis": "x",
         "y": [
          "Participants_Overview",
          "Participants_Overview",
          "Participants_Overview",
          "Participants_Overview",
          "Participants_Overview",
          "Participants_Overview",
          "Participants_Overview",
          "Participants_Overview",
          "Participants_Overview",
          "Participants_Overview",
          "Participants_Overview",
          "Participants_Overview",
          "Participants_Overview",
          "Participants_Overview",
          "Participants_Overview",
          "Participants_Overview"
         ],
         "yaxis": "y"
        },
        {
         "alignmentgroup": "True",
         "base": [
          "1970-01-01T00:01:09.793090",
          "1970-01-01T00:01:09.968096",
          "1970-01-01T00:01:55.754711"
         ],
         "hovertemplate": "VisitedAOI=%{y}<br>Dwell Start=%{base}<br>Dwell End=%{x}<extra></extra>",
         "legendgroup": "Participant_Bio",
         "marker": {
          "color": "#ab63fa",
          "pattern": {
           "shape": ""
          }
         },
         "name": "Participant_Bio",
         "offsetgroup": "Participant_Bio",
         "orientation": "h",
         "showlegend": true,
         "textposition": "auto",
         "type": "bar",
         "x": [
          149.9709,
          3357.9083,
          1691.4319
         ],
         "xaxis": "x",
         "y": [
          "Participant_Bio",
          "Participant_Bio",
          "Participant_Bio"
         ],
         "yaxis": "y"
        },
        {
         "alignmentgroup": "True",
         "base": [
          "1970-01-01T00:01:07.276710",
          "1970-01-01T00:01:08.101612",
          "1970-01-01T00:01:57.546132"
         ],
         "hovertemplate": "VisitedAOI=%{y}<br>Dwell Start=%{base}<br>Dwell End=%{x}<extra></extra>",
         "legendgroup": "Participant_Profile_Picture",
         "marker": {
          "color": "#FFA15A",
          "pattern": {
           "shape": ""
          }
         },
         "name": "Participant_Profile_Picture",
         "offsetgroup": "Participant_Profile_Picture",
         "orientation": "h",
         "showlegend": true,
         "textposition": "auto",
         "type": "bar",
         "x": [
          299.9661,
          583.2672,
          1074.9799
         ],
         "xaxis": "x",
         "y": [
          "Participant_Profile_Picture",
          "Participant_Profile_Picture",
          "Participant_Profile_Picture"
         ],
         "yaxis": "y"
        },
        {
         "alignmentgroup": "True",
         "base": [
          "1970-01-01T00:01:14.459213"
         ],
         "hovertemplate": "VisitedAOI=%{y}<br>Dwell Start=%{base}<br>Dwell End=%{x}<extra></extra>",
         "legendgroup": "Place",
         "marker": {
          "color": "#19d3f3",
          "pattern": {
           "shape": ""
          }
         },
         "name": "Place",
         "offsetgroup": "Place",
         "orientation": "h",
         "showlegend": true,
         "textposition": "auto",
         "type": "bar",
         "x": [
          508.3105
         ],
         "xaxis": "x",
         "y": [
          "Place"
         ],
         "yaxis": "y"
        },
        {
         "alignmentgroup": "True",
         "base": [
          "1970-01-01T00:00:00.117453",
          "1970-01-01T00:00:36.630095",
          "1970-01-01T00:00:40.571300",
          "1970-01-01T00:00:43.054410",
          "1970-01-01T00:00:46.745638",
          "1970-01-01T00:00:50.511904",
          "1970-01-01T00:01:27.124547",
          "1970-01-01T00:01:51.496803",
          "1970-01-01T00:02:03.762139",
          "1970-01-01T00:03:07.221770"
         ],
         "hovertemplate": "VisitedAOI=%{y}<br>Dwell Start=%{base}<br>Dwell End=%{x}<extra></extra>",
         "legendgroup": "Responsabilities",
         "marker": {
          "color": "#FF6692",
          "pattern": {
           "shape": ""
          }
         },
         "name": "Responsabilities",
         "offsetgroup": "Responsabilities",
         "orientation": "h",
         "showlegend": true,
         "textposition": "auto",
         "type": "bar",
         "x": [
          258.3255,
          599.9079,
          574.9454,
          758.2102,
          291.6801,
          283.291,
          124.912,
          124.9738,
          224.985199,
          124.98
         ],
         "xaxis": "x",
         "y": [
          "Responsabilities",
          "Responsabilities",
          "Responsabilities",
          "Responsabilities",
          "Responsabilities",
          "Responsabilities",
          "Responsabilities",
          "Responsabilities",
          "Responsabilities",
          "Responsabilities"
         ],
         "yaxis": "y"
        },
        {
         "alignmentgroup": "True",
         "base": [
          "1970-01-01T00:01:14.967523"
         ],
         "hovertemplate": "VisitedAOI=%{y}<br>Dwell Start=%{base}<br>Dwell End=%{x}<extra></extra>",
         "legendgroup": "Status",
         "marker": {
          "color": "#B6E880",
          "pattern": {
           "shape": ""
          }
         },
         "name": "Status",
         "offsetgroup": "Status",
         "orientation": "h",
         "showlegend": true,
         "textposition": "auto",
         "type": "bar",
         "x": [
          324.9599
         ],
         "xaxis": "x",
         "y": [
          "Status"
         ],
         "yaxis": "y"
        },
        {
         "alignmentgroup": "True",
         "base": [
          "1970-01-01T00:01:14.000933"
         ],
         "hovertemplate": "VisitedAOI=%{y}<br>Dwell Start=%{base}<br>Dwell End=%{x}<extra></extra>",
         "legendgroup": "Verified",
         "marker": {
          "color": "#FF97FF",
          "pattern": {
           "shape": ""
          }
         },
         "name": "Verified",
         "offsetgroup": "Verified",
         "orientation": "h",
         "showlegend": true,
         "textposition": "auto",
         "type": "bar",
         "x": [
          458.2797
         ],
         "xaxis": "x",
         "y": [
          "Verified"
         ],
         "yaxis": "y"
        }
       ],
       "layout": {
        "autosize": true,
        "barmode": "overlay",
        "legend": {
         "title": {
          "text": "VisitedAOI"
         },
         "tracegroupgap": 0
        },
        "template": {
         "data": {
          "bar": [
           {
            "error_x": {
             "color": "#2a3f5f"
            },
            "error_y": {
             "color": "#2a3f5f"
            },
            "marker": {
             "line": {
              "color": "#E5ECF6",
              "width": 0.5
             },
             "pattern": {
              "fillmode": "overlay",
              "size": 10,
              "solidity": 0.2
             }
            },
            "type": "bar"
           }
          ],
          "barpolar": [
           {
            "marker": {
             "line": {
              "color": "#E5ECF6",
              "width": 0.5
             },
             "pattern": {
              "fillmode": "overlay",
              "size": 10,
              "solidity": 0.2
             }
            },
            "type": "barpolar"
           }
          ],
          "carpet": [
           {
            "aaxis": {
             "endlinecolor": "#2a3f5f",
             "gridcolor": "white",
             "linecolor": "white",
             "minorgridcolor": "white",
             "startlinecolor": "#2a3f5f"
            },
            "baxis": {
             "endlinecolor": "#2a3f5f",
             "gridcolor": "white",
             "linecolor": "white",
             "minorgridcolor": "white",
             "startlinecolor": "#2a3f5f"
            },
            "type": "carpet"
           }
          ],
          "choropleth": [
           {
            "colorbar": {
             "outlinewidth": 0,
             "ticks": ""
            },
            "type": "choropleth"
           }
          ],
          "contour": [
           {
            "colorbar": {
             "outlinewidth": 0,
             "ticks": ""
            },
            "colorscale": [
             [
              0,
              "#0d0887"
             ],
             [
              0.1111111111111111,
              "#46039f"
             ],
             [
              0.2222222222222222,
              "#7201a8"
             ],
             [
              0.3333333333333333,
              "#9c179e"
             ],
             [
              0.4444444444444444,
              "#bd3786"
             ],
             [
              0.5555555555555556,
              "#d8576b"
             ],
             [
              0.6666666666666666,
              "#ed7953"
             ],
             [
              0.7777777777777778,
              "#fb9f3a"
             ],
             [
              0.8888888888888888,
              "#fdca26"
             ],
             [
              1,
              "#f0f921"
             ]
            ],
            "type": "contour"
           }
          ],
          "contourcarpet": [
           {
            "colorbar": {
             "outlinewidth": 0,
             "ticks": ""
            },
            "type": "contourcarpet"
           }
          ],
          "heatmap": [
           {
            "colorbar": {
             "outlinewidth": 0,
             "ticks": ""
            },
            "colorscale": [
             [
              0,
              "#0d0887"
             ],
             [
              0.1111111111111111,
              "#46039f"
             ],
             [
              0.2222222222222222,
              "#7201a8"
             ],
             [
              0.3333333333333333,
              "#9c179e"
             ],
             [
              0.4444444444444444,
              "#bd3786"
             ],
             [
              0.5555555555555556,
              "#d8576b"
             ],
             [
              0.6666666666666666,
              "#ed7953"
             ],
             [
              0.7777777777777778,
              "#fb9f3a"
             ],
             [
              0.8888888888888888,
              "#fdca26"
             ],
             [
              1,
              "#f0f921"
             ]
            ],
            "type": "heatmap"
           }
          ],
          "heatmapgl": [
           {
            "colorbar": {
             "outlinewidth": 0,
             "ticks": ""
            },
            "colorscale": [
             [
              0,
              "#0d0887"
             ],
             [
              0.1111111111111111,
              "#46039f"
             ],
             [
              0.2222222222222222,
              "#7201a8"
             ],
             [
              0.3333333333333333,
              "#9c179e"
             ],
             [
              0.4444444444444444,
              "#bd3786"
             ],
             [
              0.5555555555555556,
              "#d8576b"
             ],
             [
              0.6666666666666666,
              "#ed7953"
             ],
             [
              0.7777777777777778,
              "#fb9f3a"
             ],
             [
              0.8888888888888888,
              "#fdca26"
             ],
             [
              1,
              "#f0f921"
             ]
            ],
            "type": "heatmapgl"
           }
          ],
          "histogram": [
           {
            "marker": {
             "pattern": {
              "fillmode": "overlay",
              "size": 10,
              "solidity": 0.2
             }
            },
            "type": "histogram"
           }
          ],
          "histogram2d": [
           {
            "colorbar": {
             "outlinewidth": 0,
             "ticks": ""
            },
            "colorscale": [
             [
              0,
              "#0d0887"
             ],
             [
              0.1111111111111111,
              "#46039f"
             ],
             [
              0.2222222222222222,
              "#7201a8"
             ],
             [
              0.3333333333333333,
              "#9c179e"
             ],
             [
              0.4444444444444444,
              "#bd3786"
             ],
             [
              0.5555555555555556,
              "#d8576b"
             ],
             [
              0.6666666666666666,
              "#ed7953"
             ],
             [
              0.7777777777777778,
              "#fb9f3a"
             ],
             [
              0.8888888888888888,
              "#fdca26"
             ],
             [
              1,
              "#f0f921"
             ]
            ],
            "type": "histogram2d"
           }
          ],
          "histogram2dcontour": [
           {
            "colorbar": {
             "outlinewidth": 0,
             "ticks": ""
            },
            "colorscale": [
             [
              0,
              "#0d0887"
             ],
             [
              0.1111111111111111,
              "#46039f"
             ],
             [
              0.2222222222222222,
              "#7201a8"
             ],
             [
              0.3333333333333333,
              "#9c179e"
             ],
             [
              0.4444444444444444,
              "#bd3786"
             ],
             [
              0.5555555555555556,
              "#d8576b"
             ],
             [
              0.6666666666666666,
              "#ed7953"
             ],
             [
              0.7777777777777778,
              "#fb9f3a"
             ],
             [
              0.8888888888888888,
              "#fdca26"
             ],
             [
              1,
              "#f0f921"
             ]
            ],
            "type": "histogram2dcontour"
           }
          ],
          "mesh3d": [
           {
            "colorbar": {
             "outlinewidth": 0,
             "ticks": ""
            },
            "type": "mesh3d"
           }
          ],
          "parcoords": [
           {
            "line": {
             "colorbar": {
              "outlinewidth": 0,
              "ticks": ""
             }
            },
            "type": "parcoords"
           }
          ],
          "pie": [
           {
            "automargin": true,
            "type": "pie"
           }
          ],
          "scatter": [
           {
            "fillpattern": {
             "fillmode": "overlay",
             "size": 10,
             "solidity": 0.2
            },
            "type": "scatter"
           }
          ],
          "scatter3d": [
           {
            "line": {
             "colorbar": {
              "outlinewidth": 0,
              "ticks": ""
             }
            },
            "marker": {
             "colorbar": {
              "outlinewidth": 0,
              "ticks": ""
             }
            },
            "type": "scatter3d"
           }
          ],
          "scattercarpet": [
           {
            "marker": {
             "colorbar": {
              "outlinewidth": 0,
              "ticks": ""
             }
            },
            "type": "scattercarpet"
           }
          ],
          "scattergeo": [
           {
            "marker": {
             "colorbar": {
              "outlinewidth": 0,
              "ticks": ""
             }
            },
            "type": "scattergeo"
           }
          ],
          "scattergl": [
           {
            "marker": {
             "colorbar": {
              "outlinewidth": 0,
              "ticks": ""
             }
            },
            "type": "scattergl"
           }
          ],
          "scattermapbox": [
           {
            "marker": {
             "colorbar": {
              "outlinewidth": 0,
              "ticks": ""
             }
            },
            "type": "scattermapbox"
           }
          ],
          "scatterpolar": [
           {
            "marker": {
             "colorbar": {
              "outlinewidth": 0,
              "ticks": ""
             }
            },
            "type": "scatterpolar"
           }
          ],
          "scatterpolargl": [
           {
            "marker": {
             "colorbar": {
              "outlinewidth": 0,
              "ticks": ""
             }
            },
            "type": "scatterpolargl"
           }
          ],
          "scatterternary": [
           {
            "marker": {
             "colorbar": {
              "outlinewidth": 0,
              "ticks": ""
             }
            },
            "type": "scatterternary"
           }
          ],
          "surface": [
           {
            "colorbar": {
             "outlinewidth": 0,
             "ticks": ""
            },
            "colorscale": [
             [
              0,
              "#0d0887"
             ],
             [
              0.1111111111111111,
              "#46039f"
             ],
             [
              0.2222222222222222,
              "#7201a8"
             ],
             [
              0.3333333333333333,
              "#9c179e"
             ],
             [
              0.4444444444444444,
              "#bd3786"
             ],
             [
              0.5555555555555556,
              "#d8576b"
             ],
             [
              0.6666666666666666,
              "#ed7953"
             ],
             [
              0.7777777777777778,
              "#fb9f3a"
             ],
             [
              0.8888888888888888,
              "#fdca26"
             ],
             [
              1,
              "#f0f921"
             ]
            ],
            "type": "surface"
           }
          ],
          "table": [
           {
            "cells": {
             "fill": {
              "color": "#EBF0F8"
             },
             "line": {
              "color": "white"
             }
            },
            "header": {
             "fill": {
              "color": "#C8D4E3"
             },
             "line": {
              "color": "white"
             }
            },
            "type": "table"
           }
          ]
         },
         "layout": {
          "annotationdefaults": {
           "arrowcolor": "#2a3f5f",
           "arrowhead": 0,
           "arrowwidth": 1
          },
          "autotypenumbers": "strict",
          "coloraxis": {
           "colorbar": {
            "outlinewidth": 0,
            "ticks": ""
           }
          },
          "colorscale": {
           "diverging": [
            [
             0,
             "#8e0152"
            ],
            [
             0.1,
             "#c51b7d"
            ],
            [
             0.2,
             "#de77ae"
            ],
            [
             0.3,
             "#f1b6da"
            ],
            [
             0.4,
             "#fde0ef"
            ],
            [
             0.5,
             "#f7f7f7"
            ],
            [
             0.6,
             "#e6f5d0"
            ],
            [
             0.7,
             "#b8e186"
            ],
            [
             0.8,
             "#7fbc41"
            ],
            [
             0.9,
             "#4d9221"
            ],
            [
             1,
             "#276419"
            ]
           ],
           "sequential": [
            [
             0,
             "#0d0887"
            ],
            [
             0.1111111111111111,
             "#46039f"
            ],
            [
             0.2222222222222222,
             "#7201a8"
            ],
            [
             0.3333333333333333,
             "#9c179e"
            ],
            [
             0.4444444444444444,
             "#bd3786"
            ],
            [
             0.5555555555555556,
             "#d8576b"
            ],
            [
             0.6666666666666666,
             "#ed7953"
            ],
            [
             0.7777777777777778,
             "#fb9f3a"
            ],
            [
             0.8888888888888888,
             "#fdca26"
            ],
            [
             1,
             "#f0f921"
            ]
           ],
           "sequentialminus": [
            [
             0,
             "#0d0887"
            ],
            [
             0.1111111111111111,
             "#46039f"
            ],
            [
             0.2222222222222222,
             "#7201a8"
            ],
            [
             0.3333333333333333,
             "#9c179e"
            ],
            [
             0.4444444444444444,
             "#bd3786"
            ],
            [
             0.5555555555555556,
             "#d8576b"
            ],
            [
             0.6666666666666666,
             "#ed7953"
            ],
            [
             0.7777777777777778,
             "#fb9f3a"
            ],
            [
             0.8888888888888888,
             "#fdca26"
            ],
            [
             1,
             "#f0f921"
            ]
           ]
          },
          "colorway": [
           "#636efa",
           "#EF553B",
           "#00cc96",
           "#ab63fa",
           "#FFA15A",
           "#19d3f3",
           "#FF6692",
           "#B6E880",
           "#FF97FF",
           "#FECB52"
          ],
          "font": {
           "color": "#2a3f5f"
          },
          "geo": {
           "bgcolor": "white",
           "lakecolor": "white",
           "landcolor": "#E5ECF6",
           "showlakes": true,
           "showland": true,
           "subunitcolor": "white"
          },
          "hoverlabel": {
           "align": "left"
          },
          "hovermode": "closest",
          "mapbox": {
           "style": "light"
          },
          "paper_bgcolor": "white",
          "plot_bgcolor": "#E5ECF6",
          "polar": {
           "angularaxis": {
            "gridcolor": "white",
            "linecolor": "white",
            "ticks": ""
           },
           "bgcolor": "#E5ECF6",
           "radialaxis": {
            "gridcolor": "white",
            "linecolor": "white",
            "ticks": ""
           }
          },
          "scene": {
           "xaxis": {
            "backgroundcolor": "#E5ECF6",
            "gridcolor": "white",
            "gridwidth": 2,
            "linecolor": "white",
            "showbackground": true,
            "ticks": "",
            "zerolinecolor": "white"
           },
           "yaxis": {
            "backgroundcolor": "#E5ECF6",
            "gridcolor": "white",
            "gridwidth": 2,
            "linecolor": "white",
            "showbackground": true,
            "ticks": "",
            "zerolinecolor": "white"
           },
           "zaxis": {
            "backgroundcolor": "#E5ECF6",
            "gridcolor": "white",
            "gridwidth": 2,
            "linecolor": "white",
            "showbackground": true,
            "ticks": "",
            "zerolinecolor": "white"
           }
          },
          "shapedefaults": {
           "line": {
            "color": "#2a3f5f"
           }
          },
          "ternary": {
           "aaxis": {
            "gridcolor": "white",
            "linecolor": "white",
            "ticks": ""
           },
           "baxis": {
            "gridcolor": "white",
            "linecolor": "white",
            "ticks": ""
           },
           "bgcolor": "#E5ECF6",
           "caxis": {
            "gridcolor": "white",
            "linecolor": "white",
            "ticks": ""
           }
          },
          "title": {
           "x": 0.05
          },
          "xaxis": {
           "automargin": true,
           "gridcolor": "white",
           "linecolor": "white",
           "ticks": "",
           "title": {
            "standoff": 15
           },
           "zerolinecolor": "white",
           "zerolinewidth": 2
          },
          "yaxis": {
           "automargin": true,
           "gridcolor": "white",
           "linecolor": "white",
           "ticks": "",
           "title": {
            "standoff": 15
           },
           "zerolinecolor": "white",
           "zerolinewidth": 2
          }
         }
        },
        "title": {
         "text": "Participant: P01, Task: Slide1"
        },
        "xaxis": {
         "anchor": "y",
         "autorange": true,
         "domain": [
          0,
          1
         ],
         "range": [
          "1969-12-31 23:59:48.5196",
          "1970-01-01 00:03:40.4774"
         ],
         "tickformat": "%Q",
         "type": "date"
        },
        "yaxis": {
         "anchor": "x",
         "autorange": true,
         "categoryarray": [
          "Verified",
          "Status",
          "Responsabilities",
          "Place",
          "Participant_Profile_Picture",
          "Participant_Bio",
          "Participants_Overview",
          "Online",
          "Instructions",
          "Ingredients",
          "Gen_Info",
          "Food",
          "Fav",
          "Description_2",
          "Description_1",
          "Date_Place_2",
          "Date_Place_1",
          "CTA_1",
          "Chat"
         ],
         "categoryorder": "array",
         "domain": [
          0,
          1
         ],
         "range": [
          -0.5,
          18.5
         ],
         "title": {
          "text": "VisitedAOI"
         },
         "type": "category"
        }
       }
      },
      "image/png": "[encoded data removed]",
      "text/html": [
       "<div>                            <div id=\"f1c98871-594a-497b-9803-b60accc086ab\" class=\"plotly-graph-div\" style=\"height:600px; width:100%;\"></div>            <script type=\"text/javascript\">                require([\"plotly\"], function(Plotly) {                    window.PLOTLYENV=window.PLOTLYENV || {};                                    if (document.getElementById(\"f1c98871-594a-497b-9803-b60accc086ab\")) {                    Plotly.newPlot(                        \"f1c98871-594a-497b-9803-b60accc086ab\",                        [{\"alignmentgroup\":\"True\",\"base\":[\"1970-01-01T00:01:09.409789\"],\"hovertemplate\":\"VisitedAOI=%{y}\\u003cbr\\u003eDwell Start=%{base}\\u003cbr\\u003eDwell End=%{x}\\u003cextra\\u003e\\u003c\\u002fextra\\u003e\",\"legendgroup\":\"Chat\",\"marker\":{\"color\":\"#636efa\",\"pattern\":{\"shape\":\"\"}},\"name\":\"Chat\",\"offsetgroup\":\"Chat\",\"orientation\":\"h\",\"showlegend\":true,\"textposition\":\"auto\",\"x\":[316.6278],\"xaxis\":\"x\",\"y\":[\"Chat\"],\"yaxis\":\"y\",\"type\":\"bar\"},{\"alignmentgroup\":\"True\",\"base\":[\"1970-01-01T00:00:00.742406\",\"1970-01-01T00:00:06.425090\",\"1970-01-01T00:01:24.166502\",\"1970-01-01T00:01:44.139262\",\"1970-01-01T00:01:46.547351\",\"1970-01-01T00:03:20.295365\"],\"hovertemplate\":\"VisitedAOI=%{y}\\u003cbr\\u003eDwell Start=%{base}\\u003cbr\\u003eDwell End=%{x}\\u003cextra\\u003e\\u003c\\u002fextra\\u003e\",\"legendgroup\":\"CTA_1\",\"marker\":{\"color\":\"#EF553B\",\"pattern\":{\"shape\":\"\"}},\"name\":\"CTA_1\",\"offsetgroup\":\"CTA_1\",\"orientation\":\"h\",\"showlegend\":true,\"textposition\":\"auto\",\"x\":[358.262,791.5866,324.9319,141.6636,316.6332,216.6328],\"xaxis\":\"x\",\"y\":[\"CTA_1\",\"CTA_1\",\"CTA_1\",\"CTA_1\",\"CTA_1\",\"CTA_1\"],\"yaxis\":\"y\",\"type\":\"bar\"},{\"alignmentgroup\":\"True\",\"base\":[\"1970-01-01T00:00:15.140828\",\"1970-01-01T00:00:17.590573\",\"1970-01-01T00:00:17.865550\",\"1970-01-01T00:00:20.506884\",\"1970-01-01T00:00:20.656854\",\"1970-01-01T00:01:17.908863\",\"1970-01-01T00:01:21.800077\",\"1970-01-01T00:01:28.807621\",\"1970-01-01T00:01:30.907408\",\"1970-01-01T00:01:37.806643\",\"1970-01-01T00:01:38.456617\",\"1970-01-01T00:01:47.180598\",\"1970-01-01T00:01:47.388900\",\"1970-01-01T00:03:18.170608\",\"1970-01-01T00:03:22.228495\"],\"hovertemplate\":\"VisitedAOI=%{y}\\u003cbr\\u003eDwell Start=%{base}\\u003cbr\\u003eDwell End=%{x}\\u003cextra\\u003e\\u003c\\u002fextra\\u003e\",\"legendgroup\":\"Date_Place_1\",\"marker\":{\"color\":\"#00cc96\",\"pattern\":{\"shape\":\"\"}},\"name\":\"Date_Place_1\",\"offsetgroup\":\"Date_Place_1\",\"orientation\":\"h\",\"showlegend\":true,\"textposition\":\"auto\",\"x\":[2191.4516,33.3314,2524.6854,25.0035,633.314,58.3049,283.3597,1858.1452,933.2594,341.6429,766.5484,24.9916,1366.5229,408.2895,549.9881],\"xaxis\":\"x\",\"y\":[\"Date_Place_1\",\"Date_Place_1\",\"Date_Place_1\",\"Date_Place_1\",\"Date_Place_1\",\"Date_Place_1\",\"Date_Place_1\",\"Date_Place_1\",\"Date_Place_1\",\"Date_Place_1\",\"Date_Place_1\",\"Date_Place_1\",\"Date_Place_1\",\"Date_Place_1\",\"Date_Place_1\"],\"yaxis\":\"y\",\"type\":\"bar\"},{\"alignmentgroup\":\"True\",\"base\":[\"1970-01-01T00:01:27.782749\",\"1970-01-01T00:01:28.391012\",\"1970-01-01T00:01:36.998433\",\"1970-01-01T00:01:52.380061\"],\"hovertemplate\":\"VisitedAOI=%{y}\\u003cbr\\u003eDwell Start=%{base}\\u003cbr\\u003eDwell End=%{x}\\u003cextra\\u003e\\u003c\\u002fextra\\u003e\",\"legendgroup\":\"Date_Place_2\",\"marker\":{\"color\":\"#ab63fa\",\"pattern\":{\"shape\":\"\"}},\"name\":\"Date_Place_2\",\"offsetgroup\":\"Date_Place_2\",\"orientation\":\"h\",\"showlegend\":true,\"textposition\":\"auto\",\"x\":[433.2681,341.6508,474.9235,216.6146],\"xaxis\":\"x\",\"y\":[\"Date_Place_2\",\"Date_Place_2\",\"Date_Place_2\",\"Date_Place_2\"],\"yaxis\":\"y\",\"type\":\"bar\"},{\"alignmentgroup\":\"True\",\"base\":[\"1970-01-01T00:00:21.373473\",\"1970-01-01T00:01:17.208918\",\"1970-01-01T00:01:38.148286\",\"1970-01-01T00:01:47.322241\",\"1970-01-01T00:03:17.729015\",\"1970-01-01T00:03:22.778483\",\"1970-01-01T00:03:23.111720\"],\"hovertemplate\":\"VisitedAOI=%{y}\\u003cbr\\u003eDwell Start=%{base}\\u003cbr\\u003eDwell End=%{x}\\u003cextra\\u003e\\u003c\\u002fextra\\u003e\",\"legendgroup\":\"Description_1\",\"marker\":{\"color\":\"#FFA15A\",\"pattern\":{\"shape\":\"\"}},\"name\":\"Description_1\",\"offsetgroup\":\"Description_1\",\"orientation\":\"h\",\"showlegend\":true,\"textposition\":\"auto\",\"x\":[1724.77,699.945,283.2935,16.6659,383.2689,283.2292,841.5571],\"xaxis\":\"x\",\"y\":[\"Description_1\",\"Description_1\",\"Description_1\",\"Description_1\",\"Description_1\",\"Description_1\",\"Description_1\"],\"yaxis\":\"y\",\"type\":\"bar\"},{\"alignmentgroup\":\"True\",\"base\":[\"1970-01-01T00:00:23.598207\",\"1970-01-01T00:01:27.291175\",\"1970-01-01T00:01:36.173517\",\"1970-01-01T00:01:36.265161\",\"1970-01-01T00:01:51.830114\",\"1970-01-01T00:01:52.596676\",\"1970-01-01T00:02:05.378618\",\"1970-01-01T00:02:57.539523\",\"1970-01-01T00:02:59.064386\"],\"hovertemplate\":\"VisitedAOI=%{y}\\u003cbr\\u003eDwell Start=%{base}\\u003cbr\\u003eDwell End=%{x}\\u003cextra\\u003e\\u003c\\u002fextra\\u003e\",\"legendgroup\":\"Description_2\",\"marker\":{\"color\":\"#19d3f3\",\"pattern\":{\"shape\":\"\"}},\"name\":\"Description_2\",\"offsetgroup\":\"Description_2\",\"orientation\":\"h\",\"showlegend\":true,\"textposition\":\"auto\",\"x\":[11207.0939,474.9227,83.3038,574.9364,533.2552,2941.3511,4141.1902,741.571,4307.8239],\"xaxis\":\"x\",\"y\":[\"Description_2\",\"Description_2\",\"Description_2\",\"Description_2\",\"Description_2\",\"Description_2\",\"Description_2\",\"Description_2\",\"Description_2\"],\"yaxis\":\"y\",\"type\":\"bar\"},{\"alignmentgroup\":\"True\",\"base\":[\"1970-01-01T00:01:08.684879\"],\"hovertemplate\":\"VisitedAOI=%{y}\\u003cbr\\u003eDwell Start=%{base}\\u003cbr\\u003eDwell End=%{x}\\u003cextra\\u003e\\u003c\\u002fextra\\u003e\",\"legendgroup\":\"Fav\",\"marker\":{\"color\":\"#FF6692\",\"pattern\":{\"shape\":\"\"}},\"name\":\"Fav\",\"offsetgroup\":\"Fav\",\"orientation\":\"h\",\"showlegend\":true,\"textposition\":\"auto\",\"x\":[724.9093],\"xaxis\":\"x\",\"y\":[\"Fav\"],\"yaxis\":\"y\",\"type\":\"bar\"},{\"alignmentgroup\":\"True\",\"base\":[\"1970-01-01T00:00:01.200701\",\"1970-01-01T00:00:01.783940\",\"1970-01-01T00:00:03.658723\",\"1970-01-01T00:00:04.525318\",\"1970-01-01T00:00:05.666830\",\"1970-01-01T00:01:24.524766\",\"1970-01-01T00:01:25.366339\",\"1970-01-01T00:01:43.955990\",\"1970-01-01T00:01:44.280926\",\"1970-01-01T00:03:19.153819\",\"1970-01-01T00:03:20.511998\"],\"hovertemplate\":\"VisitedAOI=%{y}\\u003cbr\\u003eDwell Start=%{base}\\u003cbr\\u003eDwell End=%{x}\\u003cextra\\u003e\\u003c\\u002fextra\\u003e\",\"legendgroup\":\"Food\",\"marker\":{\"color\":\"#B6E880\",\"pattern\":{\"shape\":\"\"}},\"name\":\"Food\",\"offsetgroup\":\"Food\",\"orientation\":\"h\",\"showlegend\":true,\"textposition\":\"auto\",\"x\":[366.6245,549.9533,208.339899,366.6799,708.2621,366.6364,474.953,149.9466,2266.4254,1141.5458,333.3142],\"xaxis\":\"x\",\"y\":[\"Food\",\"Food\",\"Food\",\"Food\",\"Food\",\"Food\",\"Food\",\"Food\",\"Food\",\"Food\",\"Food\"],\"yaxis\":\"y\",\"type\":\"bar\"},{\"alignmentgroup\":\"True\",\"base\":[\"1970-01-01T00:00:07.216677\",\"1970-01-01T00:00:08.049900\",\"1970-01-01T00:00:08.649879\",\"1970-01-01T00:00:09.058128\",\"1970-01-01T00:01:19.275377\",\"1970-01-01T00:01:23.291614\",\"1970-01-01T00:01:39.964735\",\"1970-01-01T00:01:43.364365\",\"1970-01-01T00:01:46.863984\",\"1970-01-01T00:02:52.373442\",\"1970-01-01T00:03:18.995496\"],\"hovertemplate\":\"VisitedAOI=%{y}\\u003cbr\\u003eDwell Start=%{base}\\u003cbr\\u003eDwell End=%{x}\\u003cextra\\u003e\\u003c\\u002fextra\\u003e\",\"legendgroup\":\"Gen_Info\",\"marker\":{\"color\":\"#FF97FF\",\"pattern\":{\"shape\":\"\"}},\"name\":\"Gen_Info\",\"offsetgroup\":\"Gen_Info\",\"orientation\":\"h\",\"showlegend\":true,\"textposition\":\"auto\",\"x\":[808.2542,524.985,341.6054,2324.7705,774.9142,874.8872,166.6811,558.2897,258.284,4774.4285,124.9838],\"xaxis\":\"x\",\"y\":[\"Gen_Info\",\"Gen_Info\",\"Gen_Info\",\"Gen_Info\",\"Gen_Info\",\"Gen_Info\",\"Gen_Info\",\"Gen_Info\",\"Gen_Info\",\"Gen_Info\",\"Gen_Info\"],\"yaxis\":\"y\",\"type\":\"bar\"},{\"alignmentgroup\":\"True\",\"base\":[\"1970-01-01T00:00:34.805301\",\"1970-01-01T00:00:35.755188\",\"1970-01-01T00:00:37.230003\",\"1970-01-01T00:00:41.146245\",\"1970-01-01T00:00:43.812620\",\"1970-01-01T00:00:47.037319\",\"1970-01-01T00:00:50.836860\",\"1970-01-01T00:00:54.353143\",\"1970-01-01T00:01:15.959056\",\"1970-01-01T00:01:26.266301\",\"1970-01-01T00:01:27.057832\",\"1970-01-01T00:01:32.532227\",\"1970-01-01T00:01:36.131850\",\"1970-01-01T00:01:49.472031\",\"1970-01-01T00:01:50.605232\",\"1970-01-01T00:01:51.630110\",\"1970-01-01T00:02:01.837363\",\"1970-01-01T00:02:03.987125\",\"1970-01-01T00:02:42.874447\",\"1970-01-01T00:02:44.132678\",\"1970-01-01T00:02:58.339439\",\"1970-01-01T00:03:04.772043\",\"1970-01-01T00:03:07.346750\"],\"hovertemplate\":\"VisitedAOI=%{y}\\u003cbr\\u003eDwell Start=%{base}\\u003cbr\\u003eDwell End=%{x}\\u003cextra\\u003e\\u003c\\u002fextra\\u003e\",\"legendgroup\":\"Ingredients\",\"marker\":{\"color\":\"#FECB52\",\"pattern\":{\"shape\":\"\"}},\"name\":\"Ingredients\",\"offsetgroup\":\"Ingredients\",\"orientation\":\"h\",\"showlegend\":true,\"textposition\":\"auto\",\"x\":[933.2125,291.6571,3307.9965,1908.165,2899.6749,3474.5857,2733.0247,2508.0642,558.2783,149.9203,41.6624,3216.3153,41.6678,899.897701,891.5705,200.004,1924.7769,1391.493001,824.9136,6874.2088,674.9198,2449.7261,508.3272],\"xaxis\":\"x\",\"y\":[\"Ingredients\",\"Ingredients\",\"Ingredients\",\"Ingredients\",\"Ingredients\",\"Ingredients\",\"Ingredients\",\"Ingredients\",\"Ingredients\",\"Ingredients\",\"Ingredients\",\"Ingredients\",\"Ingredients\",\"Ingredients\",\"Ingredients\",\"Ingredients\",\"Ingredients\",\"Ingredients\",\"Ingredients\",\"Ingredients\",\"Ingredients\",\"Ingredients\",\"Ingredients\"],\"yaxis\":\"y\",\"type\":\"bar\"},{\"alignmentgroup\":\"True\",\"base\":[\"1970-01-01T00:00:53.603217\",\"1970-01-01T00:00:57.019513\",\"1970-01-01T00:01:15.367454\",\"1970-01-01T00:01:35.798565\",\"1970-01-01T00:01:49.030404\",\"1970-01-01T00:01:50.371929\",\"1970-01-01T00:02:09.569823\",\"1970-01-01T00:02:38.874894\",\"1970-01-01T00:02:39.216520\",\"1970-01-01T00:02:39.574796\",\"1970-01-01T00:02:41.107996\",\"1970-01-01T00:02:42.332847\",\"1970-01-01T00:02:51.006886\",\"1970-01-01T00:03:03.447227\",\"1970-01-01T00:03:03.647153\",\"1970-01-01T00:03:07.863411\",\"1970-01-01T00:03:12.054596\",\"1970-01-01T00:03:14.071047\",\"1970-01-01T00:03:23.994942\",\"1970-01-01T00:03:27.196558\",\"1970-01-01T00:03:28.471265\",\"1970-01-01T00:03:28.587889\",\"1970-01-01T00:03:28.754561\"],\"hovertemplate\":\"VisitedAOI=%{y}\\u003cbr\\u003eDwell Start=%{base}\\u003cbr\\u003eDwell End=%{x}\\u003cextra\\u003e\\u003c\\u002fextra\\u003e\",\"legendgroup\":\"Instructions\",\"marker\":{\"color\":\"#636efa\",\"pattern\":{\"shape\":\"\"}},\"name\":\"Instructions\",\"offsetgroup\":\"Instructions\",\"orientation\":\"h\",\"showlegend\":true,\"textposition\":\"auto\",\"x\":[749.9256,10257.1966,591.6018,333.2849,424.9677,216.6405,29163.4014,41.7367,83.3337,25.0132,1183.1872,366.6216,383.3264,33.3193,1124.8907,3799.5499,1608.176,3541.267,1591.4981,874.7441,66.635,108.3965,124.9674],\"xaxis\":\"x\",\"y\":[\"Instructions\",\"Instructions\",\"Instructions\",\"Instructions\",\"Instructions\",\"Instructions\",\"Instructions\",\"Instructions\",\"Instructions\",\"Instructions\",\"Instructions\",\"Instructions\",\"Instructions\",\"Instructions\",\"Instructions\",\"Instructions\",\"Instructions\",\"Instructions\",\"Instructions\",\"Instructions\",\"Instructions\",\"Instructions\",\"Instructions\"],\"yaxis\":\"y\",\"type\":\"bar\"},{\"alignmentgroup\":\"True\",\"base\":[\"1970-01-01T00:01:13.351003\",\"1970-01-01T00:01:13.634305\"],\"hovertemplate\":\"VisitedAOI=%{y}\\u003cbr\\u003eDwell Start=%{base}\\u003cbr\\u003eDwell End=%{x}\\u003cextra\\u003e\\u003c\\u002fextra\\u003e\",\"legendgroup\":\"Online\",\"marker\":{\"color\":\"#EF553B\",\"pattern\":{\"shape\":\"\"}},\"name\":\"Online\",\"offsetgroup\":\"Online\",\"orientation\":\"h\",\"showlegend\":true,\"textposition\":\"auto\",\"x\":[266.651,341.684],\"xaxis\":\"x\",\"y\":[\"Online\",\"Online\"],\"yaxis\":\"y\",\"type\":\"bar\"},{\"alignmentgroup\":\"True\",\"base\":[\"1970-01-01T00:00:11.382898\",\"1970-01-01T00:01:16.567331\",\"1970-01-01T00:01:18.067146\",\"1970-01-01T00:01:19.067062\",\"1970-01-01T00:01:20.050291\",\"1970-01-01T00:01:22.083436\",\"1970-01-01T00:01:22.533332\",\"1970-01-01T00:01:25.849628\",\"1970-01-01T00:01:31.840667\",\"1970-01-01T00:01:37.531675\",\"1970-01-01T00:01:39.264816\",\"1970-01-01T00:01:40.131416\",\"1970-01-01T00:02:51.390213\",\"1970-01-01T00:03:18.612217\",\"1970-01-01T00:03:21.053606\",\"1970-01-01T00:03:21.845171\"],\"hovertemplate\":\"VisitedAOI=%{y}\\u003cbr\\u003eDwell Start=%{base}\\u003cbr\\u003eDwell End=%{x}\\u003cextra\\u003e\\u003c\\u002fextra\\u003e\",\"legendgroup\":\"Participants_Overview\",\"marker\":{\"color\":\"#00cc96\",\"pattern\":{\"shape\":\"\"}},\"name\":\"Participants_Overview\",\"offsetgroup\":\"Participants_Overview\",\"orientation\":\"h\",\"showlegend\":true,\"textposition\":\"auto\",\"x\":[3724.5999,558.3008,824.9483,208.3149,1749.7857,283.2429,758.2822,149.983,224.936,208.3255,699.9183,3232.9495,983.2297,383.2787,658.2413,175.0093],\"xaxis\":\"x\",\"y\":[\"Participants_Overview\",\"Participants_Overview\",\"Participants_Overview\",\"Participants_Overview\",\"Participants_Overview\",\"Participants_Overview\",\"Participants_Overview\",\"Participants_Overview\",\"Participants_Overview\",\"Participants_Overview\",\"Participants_Overview\",\"Participants_Overview\",\"Participants_Overview\",\"Participants_Overview\",\"Participants_Overview\",\"Participants_Overview\"],\"yaxis\":\"y\",\"type\":\"bar\"},{\"alignmentgroup\":\"True\",\"base\":[\"1970-01-01T00:01:09.793090\",\"1970-01-01T00:01:09.968096\",\"1970-01-01T00:01:55.754711\"],\"hovertemplate\":\"VisitedAOI=%{y}\\u003cbr\\u003eDwell Start=%{base}\\u003cbr\\u003eDwell End=%{x}\\u003cextra\\u003e\\u003c\\u002fextra\\u003e\",\"legendgroup\":\"Participant_Bio\",\"marker\":{\"color\":\"#ab63fa\",\"pattern\":{\"shape\":\"\"}},\"name\":\"Participant_Bio\",\"offsetgroup\":\"Participant_Bio\",\"orientation\":\"h\",\"showlegend\":true,\"textposition\":\"auto\",\"x\":[149.9709,3357.9083,1691.4319],\"xaxis\":\"x\",\"y\":[\"Participant_Bio\",\"Participant_Bio\",\"Participant_Bio\"],\"yaxis\":\"y\",\"type\":\"bar\"},{\"alignmentgroup\":\"True\",\"base\":[\"1970-01-01T00:01:07.276710\",\"1970-01-01T00:01:08.101612\",\"1970-01-01T00:01:57.546132\"],\"hovertemplate\":\"VisitedAOI=%{y}\\u003cbr\\u003eDwell Start=%{base}\\u003cbr\\u003eDwell End=%{x}\\u003cextra\\u003e\\u003c\\u002fextra\\u003e\",\"legendgroup\":\"Participant_Profile_Picture\",\"marker\":{\"color\":\"#FFA15A\",\"pattern\":{\"shape\":\"\"}},\"name\":\"Participant_Profile_Picture\",\"offsetgroup\":\"Participant_Profile_Picture\",\"orientation\":\"h\",\"showlegend\":true,\"textposition\":\"auto\",\"x\":[299.9661,583.2672,1074.9799],\"xaxis\":\"x\",\"y\":[\"Participant_Profile_Picture\",\"Participant_Profile_Picture\",\"Participant_Profile_Picture\"],\"yaxis\":\"y\",\"type\":\"bar\"},{\"alignmentgroup\":\"True\",\"base\":[\"1970-01-01T00:01:14.459213\"],\"hovertemplate\":\"VisitedAOI=%{y}\\u003cbr\\u003eDwell Start=%{base}\\u003cbr\\u003eDwell End=%{x}\\u003cextra\\u003e\\u003c\\u002fextra\\u003e\",\"legendgroup\":\"Place\",\"marker\":{\"color\":\"#19d3f3\",\"pattern\":{\"shape\":\"\"}},\"name\":\"Place\",\"offsetgroup\":\"Place\",\"orientation\":\"h\",\"showlegend\":true,\"textposition\":\"auto\",\"x\":[508.3105],\"xaxis\":\"x\",\"y\":[\"Place\"],\"yaxis\":\"y\",\"type\":\"bar\"},{\"alignmentgroup\":\"True\",\"base\":[\"1970-01-01T00:00:00.117453\",\"1970-01-01T00:00:36.630095\",\"1970-01-01T00:00:40.571300\",\"1970-01-01T00:00:43.054410\",\"1970-01-01T00:00:46.745638\",\"1970-01-01T00:00:50.511904\",\"1970-01-01T00:01:27.124547\",\"1970-01-01T00:01:51.496803\",\"1970-01-01T00:02:03.762139\",\"1970-01-01T00:03:07.221770\"],\"hovertemplate\":\"VisitedAOI=%{y}\\u003cbr\\u003eDwell Start=%{base}\\u003cbr\\u003eDwell End=%{x}\\u003cextra\\u003e\\u003c\\u002fextra\\u003e\",\"legendgroup\":\"Responsabilities\",\"marker\":{\"color\":\"#FF6692\",\"pattern\":{\"shape\":\"\"}},\"name\":\"Responsabilities\",\"offsetgroup\":\"Responsabilities\",\"orientation\":\"h\",\"showlegend\":true,\"textposition\":\"auto\",\"x\":[258.3255,599.9079,574.9454,758.2102,291.6801,283.291,124.912,124.9738,224.985199,124.98],\"xaxis\":\"x\",\"y\":[\"Responsabilities\",\"Responsabilities\",\"Responsabilities\",\"Responsabilities\",\"Responsabilities\",\"Responsabilities\",\"Responsabilities\",\"Responsabilities\",\"Responsabilities\",\"Responsabilities\"],\"yaxis\":\"y\",\"type\":\"bar\"},{\"alignmentgroup\":\"True\",\"base\":[\"1970-01-01T00:01:14.967523\"],\"hovertemplate\":\"VisitedAOI=%{y}\\u003cbr\\u003eDwell Start=%{base}\\u003cbr\\u003eDwell End=%{x}\\u003cextra\\u003e\\u003c\\u002fextra\\u003e\",\"legendgroup\":\"Status\",\"marker\":{\"color\":\"#B6E880\",\"pattern\":{\"shape\":\"\"}},\"name\":\"Status\",\"offsetgroup\":\"Status\",\"orientation\":\"h\",\"showlegend\":true,\"textposition\":\"auto\",\"x\":[324.9599],\"xaxis\":\"x\",\"y\":[\"Status\"],\"yaxis\":\"y\",\"type\":\"bar\"},{\"alignmentgroup\":\"True\",\"base\":[\"1970-01-01T00:01:14.000933\"],\"hovertemplate\":\"VisitedAOI=%{y}\\u003cbr\\u003eDwell Start=%{base}\\u003cbr\\u003eDwell End=%{x}\\u003cextra\\u003e\\u003c\\u002fextra\\u003e\",\"legendgroup\":\"Verified\",\"marker\":{\"color\":\"#FF97FF\",\"pattern\":{\"shape\":\"\"}},\"name\":\"Verified\",\"offsetgroup\":\"Verified\",\"orientation\":\"h\",\"showlegend\":true,\"textposition\":\"auto\",\"x\":[458.2797],\"xaxis\":\"x\",\"y\":[\"Verified\"],\"yaxis\":\"y\",\"type\":\"bar\"}],                        {\"template\":{\"data\":{\"histogram2dcontour\":[{\"type\":\"histogram2dcontour\",\"colorbar\":{\"outlinewidth\":0,\"ticks\":\"\"},\"colorscale\":[[0.0,\"#0d0887\"],[0.1111111111111111,\"#46039f\"],[0.2222222222222222,\"#7201a8\"],[0.3333333333333333,\"#9c179e\"],[0.4444444444444444,\"#bd3786\"],[0.5555555555555556,\"#d8576b\"],[0.6666666666666666,\"#ed7953\"],[0.7777777777777778,\"#fb9f3a\"],[0.8888888888888888,\"#fdca26\"],[1.0,\"#f0f921\"]]}],\"choropleth\":[{\"type\":\"choropleth\",\"colorbar\":{\"outlinewidth\":0,\"ticks\":\"\"}}],\"histogram2d\":[{\"type\":\"histogram2d\",\"colorbar\":{\"outlinewidth\":0,\"ticks\":\"\"},\"colorscale\":[[0.0,\"#0d0887\"],[0.1111111111111111,\"#46039f\"],[0.2222222222222222,\"#7201a8\"],[0.3333333333333333,\"#9c179e\"],[0.4444444444444444,\"#bd3786\"],[0.5555555555555556,\"#d8576b\"],[0.6666666666666666,\"#ed7953\"],[0.7777777777777778,\"#fb9f3a\"],[0.8888888888888888,\"#fdca26\"],[1.0,\"#f0f921\"]]}],\"heatmap\":[{\"type\":\"heatmap\",\"colorbar\":{\"outlinewidth\":0,\"ticks\":\"\"},\"colorscale\":[[0.0,\"#0d0887\"],[0.1111111111111111,\"#46039f\"],[0.2222222222222222,\"#7201a8\"],[0.3333333333333333,\"#9c179e\"],[0.4444444444444444,\"#bd3786\"],[0.5555555555555556,\"#d8576b\"],[0.6666666666666666,\"#ed7953\"],[0.7777777777777778,\"#fb9f3a\"],[0.8888888888888888,\"#fdca26\"],[1.0,\"#f0f921\"]]}],\"heatmapgl\":[{\"type\":\"heatmapgl\",\"colorbar\":{\"outlinewidth\":0,\"ticks\":\"\"},\"colorscale\":[[0.0,\"#0d0887\"],[0.1111111111111111,\"#46039f\"],[0.2222222222222222,\"#7201a8\"],[0.3333333333333333,\"#9c179e\"],[0.4444444444444444,\"#bd3786\"],[0.5555555555555556,\"#d8576b\"],[0.6666666666666666,\"#ed7953\"],[0.7777777777777778,\"#fb9f3a\"],[0.8888888888888888,\"#fdca26\"],[1.0,\"#f0f921\"]]}],\"contourcarpet\":[{\"type\":\"contourcarpet\",\"colorbar\":{\"outlinewidth\":0,\"ticks\":\"\"}}],\"contour\":[{\"type\":\"contour\",\"colorbar\":{\"outlinewidth\":0,\"ticks\":\"\"},\"colorscale\":[[0.0,\"#0d0887\"],[0.1111111111111111,\"#46039f\"],[0.2222222222222222,\"#7201a8\"],[0.3333333333333333,\"#9c179e\"],[0.4444444444444444,\"#bd3786\"],[0.5555555555555556,\"#d8576b\"],[0.6666666666666666,\"#ed7953\"],[0.7777777777777778,\"#fb9f3a\"],[0.8888888888888888,\"#fdca26\"],[1.0,\"#f0f921\"]]}],\"surface\":[{\"type\":\"surface\",\"colorbar\":{\"outlinewidth\":0,\"ticks\":\"\"},\"colorscale\":[[0.0,\"#0d0887\"],[0.1111111111111111,\"#46039f\"],[0.2222222222222222,\"#7201a8\"],[0.3333333333333333,\"#9c179e\"],[0.4444444444444444,\"#bd3786\"],[0.5555555555555556,\"#d8576b\"],[0.6666666666666666,\"#ed7953\"],[0.7777777777777778,\"#fb9f3a\"],[0.8888888888888888,\"#fdca26\"],[1.0,\"#f0f921\"]]}],\"mesh3d\":[{\"type\":\"mesh3d\",\"colorbar\":{\"outlinewidth\":0,\"ticks\":\"\"}}],\"scatter\":[{\"fillpattern\":{\"fillmode\":\"overlay\",\"size\":10,\"solidity\":0.2},\"type\":\"scatter\"}],\"parcoords\":[{\"type\":\"parcoords\",\"line\":{\"colorbar\":{\"outlinewidth\":0,\"ticks\":\"\"}}}],\"scatterpolargl\":[{\"type\":\"scatterpolargl\",\"marker\":{\"colorbar\":{\"outlinewidth\":0,\"ticks\":\"\"}}}],\"bar\":[{\"error_x\":{\"color\":\"#2a3f5f\"},\"error_y\":{\"color\":\"#2a3f5f\"},\"marker\":{\"line\":{\"color\":\"#E5ECF6\",\"width\":0.5},\"pattern\":{\"fillmode\":\"overlay\",\"size\":10,\"solidity\":0.2}},\"type\":\"bar\"}],\"scattergeo\":[{\"type\":\"scattergeo\",\"marker\":{\"colorbar\":{\"outlinewidth\":0,\"ticks\":\"\"}}}],\"scatterpolar\":[{\"type\":\"scatterpolar\",\"marker\":{\"colorbar\":{\"outlinewidth\":0,\"ticks\":\"\"}}}],\"histogram\":[{\"marker\":{\"pattern\":{\"fillmode\":\"overlay\",\"size\":10,\"solidity\":0.2}},\"type\":\"histogram\"}],\"scattergl\":[{\"type\":\"scattergl\",\"marker\":{\"colorbar\":{\"outlinewidth\":0,\"ticks\":\"\"}}}],\"scatter3d\":[{\"type\":\"scatter3d\",\"line\":{\"colorbar\":{\"outlinewidth\":0,\"ticks\":\"\"}},\"marker\":{\"colorbar\":{\"outlinewidth\":0,\"ticks\":\"\"}}}],\"scattermapbox\":[{\"type\":\"scattermapbox\",\"marker\":{\"colorbar\":{\"outlinewidth\":0,\"ticks\":\"\"}}}],\"scatterternary\":[{\"type\":\"scatterternary\",\"marker\":{\"colorbar\":{\"outlinewidth\":0,\"ticks\":\"\"}}}],\"scattercarpet\":[{\"type\":\"scattercarpet\",\"marker\":{\"colorbar\":{\"outlinewidth\":0,\"ticks\":\"\"}}}],\"carpet\":[{\"aaxis\":{\"endlinecolor\":\"#2a3f5f\",\"gridcolor\":\"white\",\"linecolor\":\"white\",\"minorgridcolor\":\"white\",\"startlinecolor\":\"#2a3f5f\"},\"baxis\":{\"endlinecolor\":\"#2a3f5f\",\"gridcolor\":\"white\",\"linecolor\":\"white\",\"minorgridcolor\":\"white\",\"startlinecolor\":\"#2a3f5f\"},\"type\":\"carpet\"}],\"table\":[{\"cells\":{\"fill\":{\"color\":\"#EBF0F8\"},\"line\":{\"color\":\"white\"}},\"header\":{\"fill\":{\"color\":\"#C8D4E3\"},\"line\":{\"color\":\"white\"}},\"type\":\"table\"}],\"barpolar\":[{\"marker\":{\"line\":{\"color\":\"#E5ECF6\",\"width\":0.5},\"pattern\":{\"fillmode\":\"overlay\",\"size\":10,\"solidity\":0.2}},\"type\":\"barpolar\"}],\"pie\":[{\"automargin\":true,\"type\":\"pie\"}]},\"layout\":{\"autotypenumbers\":\"strict\",\"colorway\":[\"#636efa\",\"#EF553B\",\"#00cc96\",\"#ab63fa\",\"#FFA15A\",\"#19d3f3\",\"#FF6692\",\"#B6E880\",\"#FF97FF\",\"#FECB52\"],\"font\":{\"color\":\"#2a3f5f\"},\"hovermode\":\"closest\",\"hoverlabel\":{\"align\":\"left\"},\"paper_bgcolor\":\"white\",\"plot_bgcolor\":\"#E5ECF6\",\"polar\":{\"bgcolor\":\"#E5ECF6\",\"angularaxis\":{\"gridcolor\":\"white\",\"linecolor\":\"white\",\"ticks\":\"\"},\"radialaxis\":{\"gridcolor\":\"white\",\"linecolor\":\"white\",\"ticks\":\"\"}},\"ternary\":{\"bgcolor\":\"#E5ECF6\",\"aaxis\":{\"gridcolor\":\"white\",\"linecolor\":\"white\",\"ticks\":\"\"},\"baxis\":{\"gridcolor\":\"white\",\"linecolor\":\"white\",\"ticks\":\"\"},\"caxis\":{\"gridcolor\":\"white\",\"linecolor\":\"white\",\"ticks\":\"\"}},\"coloraxis\":{\"colorbar\":{\"outlinewidth\":0,\"ticks\":\"\"}},\"colorscale\":{\"sequential\":[[0.0,\"#0d0887\"],[0.1111111111111111,\"#46039f\"],[0.2222222222222222,\"#7201a8\"],[0.3333333333333333,\"#9c179e\"],[0.4444444444444444,\"#bd3786\"],[0.5555555555555556,\"#d8576b\"],[0.6666666666666666,\"#ed7953\"],[0.7777777777777778,\"#fb9f3a\"],[0.8888888888888888,\"#fdca26\"],[1.0,\"#f0f921\"]],\"sequentialminus\":[[0.0,\"#0d0887\"],[0.1111111111111111,\"#46039f\"],[0.2222222222222222,\"#7201a8\"],[0.3333333333333333,\"#9c179e\"],[0.4444444444444444,\"#bd3786\"],[0.5555555555555556,\"#d8576b\"],[0.6666666666666666,\"#ed7953\"],[0.7777777777777778,\"#fb9f3a\"],[0.8888888888888888,\"#fdca26\"],[1.0,\"#f0f921\"]],\"diverging\":[[0,\"#8e0152\"],[0.1,\"#c51b7d\"],[0.2,\"#de77ae\"],[0.3,\"#f1b6da\"],[0.4,\"#fde0ef\"],[0.5,\"#f7f7f7\"],[0.6,\"#e6f5d0\"],[0.7,\"#b8e186\"],[0.8,\"#7fbc41\"],[0.9,\"#4d9221\"],[1,\"#276419\"]]},\"xaxis\":{\"gridcolor\":\"white\",\"linecolor\":\"white\",\"ticks\":\"\",\"title\":{\"standoff\":15},\"zerolinecolor\":\"white\",\"automargin\":true,\"zerolinewidth\":2},\"yaxis\":{\"gridcolor\":\"white\",\"linecolor\":\"white\",\"ticks\":\"\",\"title\":{\"standoff\":15},\"zerolinecolor\":\"white\",\"automargin\":true,\"zerolinewidth\":2},\"scene\":{\"xaxis\":{\"backgroundcolor\":\"#E5ECF6\",\"gridcolor\":\"white\",\"linecolor\":\"white\",\"showbackground\":true,\"ticks\":\"\",\"zerolinecolor\":\"white\",\"gridwidth\":2},\"yaxis\":{\"backgroundcolor\":\"#E5ECF6\",\"gridcolor\":\"white\",\"linecolor\":\"white\",\"showbackground\":true,\"ticks\":\"\",\"zerolinecolor\":\"white\",\"gridwidth\":2},\"zaxis\":{\"backgroundcolor\":\"#E5ECF6\",\"gridcolor\":\"white\",\"linecolor\":\"white\",\"showbackground\":true,\"ticks\":\"\",\"zerolinecolor\":\"white\",\"gridwidth\":2}},\"shapedefaults\":{\"line\":{\"color\":\"#2a3f5f\"}},\"annotationdefaults\":{\"arrowcolor\":\"#2a3f5f\",\"arrowhead\":0,\"arrowwidth\":1},\"geo\":{\"bgcolor\":\"white\",\"landcolor\":\"#E5ECF6\",\"subunitcolor\":\"white\",\"showland\":true,\"showlakes\":true,\"lakecolor\":\"white\"},\"title\":{\"x\":0.05},\"mapbox\":{\"style\":\"light\"}}},\"xaxis\":{\"anchor\":\"y\",\"domain\":[0.0,1.0],\"type\":\"date\",\"tickformat\":\"%Q\"},\"yaxis\":{\"anchor\":\"x\",\"domain\":[0.0,1.0],\"title\":{\"text\":\"VisitedAOI\"},\"categoryorder\":\"array\",\"categoryarray\":[\"Verified\",\"Status\",\"Responsabilities\",\"Place\",\"Participant_Profile_Picture\",\"Participant_Bio\",\"Participants_Overview\",\"Online\",\"Instructions\",\"Ingredients\",\"Gen_Info\",\"Food\",\"Fav\",\"Description_2\",\"Description_1\",\"Date_Place_2\",\"Date_Place_1\",\"CTA_1\",\"Chat\"]},\"legend\":{\"title\":{\"text\":\"VisitedAOI\"},\"tracegroupgap\":0},\"title\":{\"text\":\"Participant: P01, Task: Slide1\"},\"barmode\":\"overlay\",\"autosize\":true,\"height\":600},                        {\"responsive\": true}                    ).then(function(){\n",
       "                            \n",
       "var gd = document.getElementById('f1c98871-594a-497b-9803-b60accc086ab');\n",
       "var x = new MutationObserver(function (mutations, observer) {{\n",
       "        var display = window.getComputedStyle(gd).display;\n",
       "        if (!display || display === 'none') {{\n",
       "            console.log([gd, 'removed!']);\n",
       "            Plotly.purge(gd);\n",
       "            observer.disconnect();\n",
       "        }}\n",
       "}});\n",
       "\n",
       "// Listen for the removal of the full notebook cells\n",
       "var notebookContainer = gd.closest('#notebook-container');\n",
       "if (notebookContainer) {{\n",
       "    x.observe(notebookContainer, {childList: true});\n",
       "}}\n",
       "\n",
       "// Listen for the clearing of the current output cell\n",
       "var outputEl = gd.closest('.output');\n",
       "if (outputEl) {{\n",
       "    x.observe(outputEl, {childList: true});\n",
       "}}\n",
       "\n",
       "                        })                };                });            </script>        </div>"
      ]
     },
     "metadata": {},
     "output_type": "display_data"
    },
    {
     "data": {
      "application/vnd.plotly.v1+json": {
       "config": {
        "plotlyServerURL": "https://plot.ly"
       },
       "data": [
        {
         "alignmentgroup": "True",
         "base": [
          "1970-01-01T00:00:45.222895",
          "1970-01-01T00:01:00.871217",
          "1970-01-01T00:01:02.587680",
          "1970-01-01T00:01:17.119437",
          "1970-01-01T00:01:54.307047",
          "1970-01-01T00:01:55.665220"
         ],
         "hovertemplate": "VisitedAOI=%{y}<br>Dwell Start=%{base}<br>Dwell End=%{x}<extra></extra>",
         "legendgroup": "Chat",
         "marker": {
          "color": "#636efa",
          "pattern": {
           "shape": ""
          }
         },
         "name": "Chat",
         "offsetgroup": "Chat",
         "orientation": "h",
         "showlegend": true,
         "textposition": "auto",
         "type": "bar",
         "x": [
          449.9357,
          574.9401,
          583.3223,
          258.311,
          183.2888,
          166.6357
         ],
         "xaxis": "x",
         "y": [
          "Chat",
          "Chat",
          "Chat",
          "Chat",
          "Chat",
          "Chat"
         ],
         "yaxis": "y"
        },
        {
         "alignmentgroup": "True",
         "base": [
          "1970-01-01T00:00:04.902317",
          "1970-01-01T00:01:13.186539",
          "1970-01-01T00:01:16.027946",
          "1970-01-01T00:01:17.761035",
          "1970-01-01T00:01:46.541244",
          "1970-01-01T00:01:49.382571",
          "1970-01-01T00:02:02.822790"
         ],
         "hovertemplate": "VisitedAOI=%{y}<br>Dwell Start=%{base}<br>Dwell End=%{x}<extra></extra>",
         "legendgroup": "CTA_1",
         "marker": {
          "color": "#EF553B",
          "pattern": {
           "shape": ""
          }
         },
         "name": "CTA_1",
         "offsetgroup": "CTA_1",
         "orientation": "h",
         "showlegend": true,
         "textposition": "auto",
         "type": "bar",
         "x": [
          25.0066,
          166.6845,
          358.2671,
          199.9797,
          83.3278,
          174.9826,
          149.9755
         ],
         "xaxis": "x",
         "y": [
          "CTA_1",
          "CTA_1",
          "CTA_1",
          "CTA_1",
          "CTA_1",
          "CTA_1",
          "CTA_1"
         ],
         "yaxis": "y"
        },
        {
         "alignmentgroup": "True",
         "base": [
          "1970-01-01T00:00:11.109996",
          "1970-01-01T00:00:14.401281",
          "1970-01-01T00:00:49.505761",
          "1970-01-01T00:01:13.486537",
          "1970-01-01T00:01:14.478074",
          "1970-01-01T00:01:18.810949",
          "1970-01-01T00:01:19.419222",
          "1970-01-01T00:01:23.843695",
          "1970-01-01T00:01:47.982739",
          "1970-01-01T00:01:50.315806",
          "1970-01-01T00:02:01.747900",
          "1970-01-01T00:02:02.339491"
         ],
         "hovertemplate": "VisitedAOI=%{y}<br>Dwell Start=%{base}<br>Dwell End=%{x}<extra></extra>",
         "legendgroup": "Date_Place_1",
         "marker": {
          "color": "#00cc96",
          "pattern": {
           "shape": ""
          }
         },
         "name": "Date_Place_1",
         "offsetgroup": "Date_Place_1",
         "orientation": "h",
         "showlegend": true,
         "textposition": "auto",
         "type": "bar",
         "x": [
          1441.4929,
          441.6068,
          325.0135,
          358.3033,
          24.9929,
          224.9551,
          733.2244,
          1124.892,
          449.9515,
          574.9222,
          183.3151,
          183.3119
         ],
         "xaxis": "x",
         "y": [
          "Date_Place_1",
          "Date_Place_1",
          "Date_Place_1",
          "Date_Place_1",
          "Date_Place_1",
          "Date_Place_1",
          "Date_Place_1",
          "Date_Place_1",
          "Date_Place_1",
          "Date_Place_1",
          "Date_Place_1",
          "Date_Place_1"
         ],
         "yaxis": "y"
        },
        {
         "alignmentgroup": "True",
         "base": [
          "1970-01-01T00:00:15.434497",
          "1970-01-01T00:00:16.251098",
          "1970-01-01T00:00:16.734343",
          "1970-01-01T00:00:51.380553",
          "1970-01-01T00:00:51.730514",
          "1970-01-01T00:01:26.035163",
          "1970-01-01T00:01:28.518191",
          "1970-01-01T00:01:53.432118"
         ],
         "hovertemplate": "VisitedAOI=%{y}<br>Dwell Start=%{base}<br>Dwell End=%{x}<extra></extra>",
         "legendgroup": "Date_Place_2",
         "marker": {
          "color": "#ab63fa",
          "pattern": {
           "shape": ""
          }
         },
         "name": "Date_Place_2",
         "offsetgroup": "Date_Place_2",
         "orientation": "h",
         "showlegend": true,
         "textposition": "auto",
         "type": "bar",
         "x": [
          108.3331,
          24.9921,
          274.9747,
          24.9963,
          258.3046,
          333.2998,
          191.6817,
          133.3293
         ],
         "xaxis": "x",
         "y": [
          "Date_Place_2",
          "Date_Place_2",
          "Date_Place_2",
          "Date_Place_2",
          "Date_Place_2",
          "Date_Place_2",
          "Date_Place_2",
          "Date_Place_2"
         ],
         "yaxis": "y"
        },
        {
         "alignmentgroup": "True",
         "base": [
          "1970-01-01T00:00:12.551489",
          "1970-01-01T00:01:14.519727",
          "1970-01-01T00:01:19.069251",
          "1970-01-01T00:01:24.968587",
          "1970-01-01T00:01:48.432691",
          "1970-01-01T00:02:01.356260",
          "1970-01-01T00:02:01.439571"
         ],
         "hovertemplate": "VisitedAOI=%{y}<br>Dwell Start=%{base}<br>Dwell End=%{x}<extra></extra>",
         "legendgroup": "Description_1",
         "marker": {
          "color": "#FFA15A",
          "pattern": {
           "shape": ""
          }
         },
         "name": "Description_1",
         "offsetgroup": "Description_1",
         "orientation": "h",
         "showlegend": true,
         "textposition": "auto",
         "type": "bar",
         "x": [
          1849.7919,
          424.9616,
          341.656,
          249.9764,
          249.9565,
          8.3432,
          308.3283
         ],
         "xaxis": "x",
         "y": [
          "Description_1",
          "Description_1",
          "Description_1",
          "Description_1",
          "Description_1",
          "Description_1",
          "Description_1"
         ],
         "yaxis": "y"
        },
        {
         "alignmentgroup": "True",
         "base": [
          "1970-01-01T00:00:16.276090",
          "1970-01-01T00:00:17.009318",
          "1970-01-01T00:01:28.259929",
          "1970-01-01T00:01:53.223832"
         ],
         "hovertemplate": "VisitedAOI=%{y}<br>Dwell Start=%{base}<br>Dwell End=%{x}<extra></extra>",
         "legendgroup": "Description_2",
         "marker": {
          "color": "#19d3f3",
          "pattern": {
           "shape": ""
          }
         },
         "name": "Description_2",
         "offsetgroup": "Description_2",
         "orientation": "h",
         "showlegend": true,
         "textposition": "auto",
         "type": "bar",
         "x": [
          458.2535,
          3416.2791,
          258.2615,
          208.2861
         ],
         "xaxis": "x",
         "y": [
          "Description_2",
          "Description_2",
          "Description_2",
          "Description_2"
         ],
         "yaxis": "y"
        },
        {
         "alignmentgroup": "True",
         "base": [
          "1970-01-01T00:00:44.522967",
          "1970-01-01T00:00:45.981133",
          "1970-01-01T00:01:00.412959",
          "1970-01-01T00:01:00.612971",
          "1970-01-01T00:01:01.454469",
          "1970-01-01T00:01:02.121089",
          "1970-01-01T00:01:16.727853",
          "1970-01-01T00:01:51.740641",
          "1970-01-01T00:01:52.015604",
          "1970-01-01T00:02:05.955754"
         ],
         "hovertemplate": "VisitedAOI=%{y}<br>Dwell Start=%{base}<br>Dwell End=%{x}<extra></extra>",
         "legendgroup": "Fav",
         "marker": {
          "color": "#FF6692",
          "pattern": {
           "shape": ""
          }
         },
         "name": "Fav",
         "offsetgroup": "Fav",
         "orientation": "h",
         "showlegend": true,
         "textposition": "auto",
         "type": "bar",
         "x": [
          666.6232,
          549.9409,
          183.2802,
          258.246,
          341.6409,
          116.6444,
          391.5834,
          233.343,
          758.2958,
          133.3398
         ],
         "xaxis": "x",
         "y": [
          "Fav",
          "Fav",
          "Fav",
          "Fav",
          "Fav",
          "Fav",
          "Fav",
          "Fav",
          "Fav",
          "Fav"
         ],
         "yaxis": "y"
        },
        {
         "alignmentgroup": "True",
         "base": [
          "1970-01-01T00:00:00.811085",
          "1970-01-01T00:00:04.019119",
          "1970-01-01T00:00:15.042869",
          "1970-01-01T00:01:12.220008",
          "1970-01-01T00:01:20.310754",
          "1970-01-01T00:01:22.535613",
          "1970-01-01T00:01:46.249640",
          "1970-01-01T00:01:46.757877",
          "1970-01-01T00:02:02.972766"
         ],
         "hovertemplate": "VisitedAOI=%{y}<br>Dwell Start=%{base}<br>Dwell End=%{x}<extra></extra>",
         "legendgroup": "Food",
         "marker": {
          "color": "#B6E880",
          "pattern": {
           "shape": ""
          }
         },
         "name": "Food",
         "offsetgroup": "Food",
         "orientation": "h",
         "showlegend": true,
         "textposition": "auto",
         "type": "bar",
         "x": [
          275.0266,
          874.8657,
          358.2876,
          274.9407,
          191.6559,
          358.1935,
          249.9806,
          241.6795,
          299.9392
         ],
         "xaxis": "x",
         "y": [
          "Food",
          "Food",
          "Food",
          "Food",
          "Food",
          "Food",
          "Food",
          "Food",
          "Food"
         ],
         "yaxis": "y"
        },
        {
         "alignmentgroup": "True",
         "base": [
          "1970-01-01T00:00:05.693887",
          "1970-01-01T00:00:07.152101",
          "1970-01-01T00:00:07.568702",
          "1970-01-01T00:00:48.897497",
          "1970-01-01T00:01:10.711845",
          "1970-01-01T00:01:11.861720",
          "1970-01-01T00:01:12.045000",
          "1970-01-01T00:01:15.819581",
          "1970-01-01T00:01:16.419527",
          "1970-01-01T00:01:16.586210",
          "1970-01-01T00:01:17.977680",
          "1970-01-01T00:01:20.502410",
          "1970-01-01T00:01:27.468306",
          "1970-01-01T00:01:46.632885",
          "1970-01-01T00:01:48.982627"
         ],
         "hovertemplate": "VisitedAOI=%{y}<br>Dwell Start=%{base}<br>Dwell End=%{x}<extra></extra>",
         "legendgroup": "Gen_Info",
         "marker": {
          "color": "#FF97FF",
          "pattern": {
           "shape": ""
          }
         },
         "name": "Gen_Info",
         "offsetgroup": "Gen_Info",
         "orientation": "h",
         "showlegend": true,
         "textposition": "auto",
         "type": "bar",
         "x": [
          841.6007,
          208.2742,
          8.3368,
          433.2803,
          141.6398,
          166.6111,
          175.0082,
          208.3652,
          74.990099,
          8.302,
          291.6627,
          2024.7939,
          624.9343,
          91.6433,
          399.9447
         ],
         "xaxis": "x",
         "y": [
          "Gen_Info",
          "Gen_Info",
          "Gen_Info",
          "Gen_Info",
          "Gen_Info",
          "Gen_Info",
          "Gen_Info",
          "Gen_Info",
          "Gen_Info",
          "Gen_Info",
          "Gen_Info",
          "Gen_Info",
          "Gen_Info",
          "Gen_Info",
          "Gen_Info"
         ],
         "yaxis": "y"
        },
        {
         "alignmentgroup": "True",
         "base": [
          "1970-01-01T00:00:00.377808",
          "1970-01-01T00:00:20.433924",
          "1970-01-01T00:00:21.517159",
          "1970-01-01T00:00:22.925311",
          "1970-01-01T00:00:23.400280",
          "1970-01-01T00:00:27.116526",
          "1970-01-01T00:00:49.830774",
          "1970-01-01T00:00:50.572334",
          "1970-01-01T00:01:12.686601",
          "1970-01-01T00:01:25.676852",
          "1970-01-01T00:01:28.709873",
          "1970-01-01T00:01:53.007181",
          "1970-01-01T00:02:03.414367"
         ],
         "hovertemplate": "VisitedAOI=%{y}<br>Dwell Start=%{base}<br>Dwell End=%{x}<extra></extra>",
         "legendgroup": "Ingredients",
         "marker": {
          "color": "#FECB52",
          "pattern": {
           "shape": ""
          }
         },
         "name": "Ingredients",
         "offsetgroup": "Ingredients",
         "orientation": "h",
         "showlegend": true,
         "textposition": "auto",
         "type": "bar",
         "x": [
          383.2816,
          158.3096,
          366.6012,
          133.3342,
          1133.2073,
          1058.2344,
          133.2693,
          449.9267,
          449.9425,
          291.6203,
          441.6107,
          216.6512,
          199.9882
         ],
         "xaxis": "x",
         "y": [
          "Ingredients",
          "Ingredients",
          "Ingredients",
          "Ingredients",
          "Ingredients",
          "Ingredients",
          "Ingredients",
          "Ingredients",
          "Ingredients",
          "Ingredients",
          "Ingredients",
          "Ingredients",
          "Ingredients"
         ],
         "yaxis": "y"
        },
        {
         "alignmentgroup": "True",
         "base": [
          "1970-01-01T00:00:28.174760",
          "1970-01-01T00:00:31.241085",
          "1970-01-01T00:00:31.824361",
          "1970-01-01T00:00:37.457071",
          "1970-01-01T00:00:55.321814",
          "1970-01-01T00:01:25.285216",
          "1970-01-01T00:01:29.284784",
          "1970-01-01T00:01:51.565656",
          "1970-01-01T00:01:52.823854",
          "1970-01-01T00:01:53.590432",
          "1970-01-01T00:02:03.647703",
          "1970-01-01T00:02:07.760384"
         ],
         "hovertemplate": "VisitedAOI=%{y}<br>Dwell Start=%{base}<br>Dwell End=%{x}<extra></extra>",
         "legendgroup": "Instructions",
         "marker": {
          "color": "#636efa",
          "pattern": {
           "shape": ""
          }
         },
         "name": "Instructions",
         "offsetgroup": "Instructions",
         "orientation": "h",
         "showlegend": true,
         "textposition": "auto",
         "type": "bar",
         "x": [
          2958.0284,
          541.606,
          5549.3903,
          5024.4972,
          174.9844,
          391.6363,
          1108.1994,
          133.3422,
          183.3272,
          466.6704,
          491.5995,
          216.4088
         ],
         "xaxis": "x",
         "y": [
          "Instructions",
          "Instructions",
          "Instructions",
          "Instructions",
          "Instructions",
          "Instructions",
          "Instructions",
          "Instructions",
          "Instructions",
          "Instructions",
          "Instructions",
          "Instructions"
         ],
         "yaxis": "y"
        },
        {
         "alignmentgroup": "True",
         "base": [
          "1970-01-01T00:00:46.731064",
          "1970-01-01T00:00:54.521879",
          "1970-01-01T00:00:55.571806",
          "1970-01-01T00:01:02.512731",
          "1970-01-01T00:01:38.483747",
          "1970-01-01T00:01:41.150136",
          "1970-01-01T00:01:42.191673",
          "1970-01-01T00:01:55.106950",
          "1970-01-01T00:01:56.440135",
          "1970-01-01T00:02:00.364725",
          "1970-01-01T00:02:05.205860",
          "1970-01-01T00:02:05.514122"
         ],
         "hovertemplate": "VisitedAOI=%{y}<br>Dwell Start=%{base}<br>Dwell End=%{x}<extra></extra>",
         "legendgroup": "Online",
         "marker": {
          "color": "#EF553B",
          "pattern": {
           "shape": ""
          }
         },
         "name": "Online",
         "offsetgroup": "Online",
         "orientation": "h",
         "showlegend": true,
         "textposition": "auto",
         "type": "bar",
         "x": [
          158.3305,
          291.6523,
          249.9466,
          8.2885,
          266.666,
          74.9763,
          299.9669,
          333.2982,
          374.9971,
          524.9176,
          274.9883,
          316.6495
         ],
         "xaxis": "x",
         "y": [
          "Online",
          "Online",
          "Online",
          "Online",
          "Online",
          "Online",
          "Online",
          "Online",
          "Online",
          "Online",
          "Online",
          "Online"
         ],
         "yaxis": "y"
        },
        {
         "alignmentgroup": "True",
         "base": [
          "1970-01-01T00:00:06.677127",
          "1970-01-01T00:00:07.585364",
          "1970-01-01T00:00:14.901213",
          "1970-01-01T00:00:48.730840",
          "1970-01-01T00:00:49.372445",
          "1970-01-01T00:01:10.461835",
          "1970-01-01T00:01:10.945149",
          "1970-01-01T00:01:13.878139",
          "1970-01-01T00:01:15.003008",
          "1970-01-01T00:01:16.527886",
          "1970-01-01T00:01:17.569392",
          "1970-01-01T00:01:18.269343",
          "1970-01-01T00:01:22.952149",
          "1970-01-01T00:01:27.101676",
          "1970-01-01T00:01:34.700867",
          "1970-01-01T00:01:47.082879",
          "1970-01-01T00:01:48.740973",
          "1970-01-01T00:01:49.699215",
          "1970-01-01T00:01:50.915759",
          "1970-01-01T00:02:02.089550",
          "1970-01-01T00:02:02.589480"
         ],
         "hovertemplate": "VisitedAOI=%{y}<br>Dwell Start=%{base}<br>Dwell End=%{x}<extra></extra>",
         "legendgroup": "Participants_Overview",
         "marker": {
          "color": "#00cc96",
          "pattern": {
           "shape": ""
          }
         },
         "name": "Participants_Overview",
         "offsetgroup": "Participants_Overview",
         "orientation": "h",
         "showlegend": true,
         "textposition": "auto",
         "type": "bar",
         "x": [
          441.632801,
          3457.9619,
          141.656,
          166.6572,
          116.6543,
          166.6796,
          899.89,
          341.6703,
          816.5733,
          41.632999,
          25.0234,
          541.606,
          858.2353,
          366.6296,
          533.2552,
          883.1816,
          158.3457,
          566.5789,
          649.8968,
          124.9369,
          124.9769
         ],
         "xaxis": "x",
         "y": [
          "Participants_Overview",
          "Participants_Overview",
          "Participants_Overview",
          "Participants_Overview",
          "Participants_Overview",
          "Participants_Overview",
          "Participants_Overview",
          "Participants_Overview",
          "Participants_Overview",
          "Participants_Overview",
          "Participants_Overview",
          "Participants_Overview",
          "Participants_Overview",
          "Participants_Overview",
          "Participants_Overview",
          "Participants_Overview",
          "Participants_Overview",
          "Participants_Overview",
          "Participants_Overview",
          "Participants_Overview",
          "Participants_Overview"
         ],
         "yaxis": "y"
        },
        {
         "alignmentgroup": "True",
         "base": [
          "1970-01-01T00:00:45.672831",
          "1970-01-01T00:00:46.531074",
          "1970-01-01T00:00:47.605985",
          "1970-01-01T00:00:48.197579",
          "1970-01-01T00:00:54.205306",
          "1970-01-01T00:00:54.363574",
          "1970-01-01T00:00:55.821753",
          "1970-01-01T00:01:01.829428",
          "1970-01-01T00:01:02.037787",
          "1970-01-01T00:01:03.171002",
          "1970-01-01T00:01:32.942703",
          "1970-01-01T00:01:36.084041",
          "1970-01-01T00:01:43.641531",
          "1970-01-01T00:01:54.173729",
          "1970-01-01T00:01:54.682000",
          "1970-01-01T00:01:55.831856",
          "1970-01-01T00:02:04.405929",
          "1970-01-01T00:02:06.089094"
         ],
         "hovertemplate": "VisitedAOI=%{y}<br>Dwell Start=%{base}<br>Dwell End=%{x}<extra></extra>",
         "legendgroup": "Participant_Bio",
         "marker": {
          "color": "#ab63fa",
          "pattern": {
           "shape": ""
          }
         },
         "name": "Participant_Bio",
         "offsetgroup": "Participant_Bio",
         "orientation": "h",
         "showlegend": true,
         "textposition": "auto",
         "type": "bar",
         "x": [
          308.3023,
          41.6913,
          433.2607,
          433.3183,
          8.3027,
          99.9953,
          199.9957,
          133.3197,
          83.3026,
          4624.4499,
          858.238,
          791.5497,
          958.2726,
          99.9776,
          324.9455,
          216.6403,
          383.326799,
          491.629
         ],
         "xaxis": "x",
         "y": [
          "Participant_Bio",
          "Participant_Bio",
          "Participant_Bio",
          "Participant_Bio",
          "Participant_Bio",
          "Participant_Bio",
          "Participant_Bio",
          "Participant_Bio",
          "Participant_Bio",
          "Participant_Bio",
          "Participant_Bio",
          "Participant_Bio",
          "Participant_Bio",
          "Participant_Bio",
          "Participant_Bio",
          "Participant_Bio",
          "Participant_Bio",
          "Participant_Bio"
         ],
         "yaxis": "y"
        },
        {
         "alignmentgroup": "True",
         "base": [
          "1970-01-01T00:00:42.548187",
          "1970-01-01T00:00:44.264677",
          "1970-01-01T00:00:52.088850",
          "1970-01-01T00:00:53.347008",
          "1970-01-01T00:00:56.021749",
          "1970-01-01T00:00:59.263075",
          "1970-01-01T00:01:31.017931",
          "1970-01-01T00:01:32.551081",
          "1970-01-01T00:01:35.417478",
          "1970-01-01T00:01:44.791431",
          "1970-01-01T00:01:45.149718",
          "1970-01-01T00:02:04.205957"
         ],
         "hovertemplate": "VisitedAOI=%{y}<br>Dwell Start=%{base}<br>Dwell End=%{x}<extra></extra>",
         "legendgroup": "Participant_Profile_Picture",
         "marker": {
          "color": "#FFA15A",
          "pattern": {
           "shape": ""
          }
         },
         "name": "Participant_Profile_Picture",
         "offsetgroup": "Participant_Profile_Picture",
         "orientation": "h",
         "showlegend": true,
         "textposition": "auto",
         "type": "bar",
         "x": [
          933.2301,
          258.2893,
          258.2695,
          683.3319,
          591.5761,
          1149.8841,
          933.2736,
          299.9541,
          624.8853,
          41.6219,
          158.2943,
          149.9704
         ],
         "xaxis": "x",
         "y": [
          "Participant_Profile_Picture",
          "Participant_Profile_Picture",
          "Participant_Profile_Picture",
          "Participant_Profile_Picture",
          "Participant_Profile_Picture",
          "Participant_Profile_Picture",
          "Participant_Profile_Picture",
          "Participant_Profile_Picture",
          "Participant_Profile_Picture",
          "Participant_Profile_Picture",
          "Participant_Profile_Picture",
          "Participant_Profile_Picture"
         ],
         "yaxis": "y"
        },
        {
         "alignmentgroup": "True",
         "base": [
          "1970-01-01T00:01:07.953776",
          "1970-01-01T00:01:08.737017",
          "1970-01-01T00:01:33.834293",
          "1970-01-01T00:01:36.908919",
          "1970-01-01T00:01:37.525520",
          "1970-01-01T00:01:39.375315",
          "1970-01-01T00:01:40.941839",
          "1970-01-01T00:01:42.166696",
          "1970-01-01T00:01:42.991609",
          "1970-01-01T00:01:56.073496",
          "1970-01-01T00:01:57.073397",
          "1970-01-01T00:01:58.089941",
          "1970-01-01T00:01:59.264825",
          "1970-01-01T00:01:59.739754",
          "1970-01-01T00:02:00.897965"
         ],
         "hovertemplate": "VisitedAOI=%{y}<br>Dwell Start=%{base}<br>Dwell End=%{x}<extra></extra>",
         "legendgroup": "Place",
         "marker": {
          "color": "#19d3f3",
          "pattern": {
           "shape": ""
          }
         },
         "name": "Place",
         "offsetgroup": "Place",
         "orientation": "h",
         "showlegend": true,
         "textposition": "auto",
         "type": "bar",
         "x": [
          183.3455,
          483.2845,
          408.274,
          324.9801,
          266.6536,
          691.5951,
          174.9824,
          24.9774,
          274.9635,
          324.9765,
          199.9783,
          191.6559,
          266.6338,
          574.9492,
          349.9843
         ],
         "xaxis": "x",
         "y": [
          "Place",
          "Place",
          "Place",
          "Place",
          "Place",
          "Place",
          "Place",
          "Place",
          "Place",
          "Place",
          "Place",
          "Place",
          "Place",
          "Place",
          "Place"
         ],
         "yaxis": "y"
        },
        {
         "alignmentgroup": "True",
         "base": [
          "1970-01-01T00:00:20.650565",
          "1970-01-01T00:00:22.575352",
          "1970-01-01T00:00:23.058646",
          "1970-01-01T00:00:24.600139",
          "1970-01-01T00:00:49.964044",
          "1970-01-01T00:00:51.022261"
         ],
         "hovertemplate": "VisitedAOI=%{y}<br>Dwell Start=%{base}<br>Dwell End=%{x}<extra></extra>",
         "legendgroup": "Responsabilities",
         "marker": {
          "color": "#FF6692",
          "pattern": {
           "shape": ""
          }
         },
         "name": "Responsabilities",
         "offsetgroup": "Responsabilities",
         "orientation": "h",
         "showlegend": true,
         "textposition": "auto",
         "type": "bar",
         "x": [
          866.5934,
          349.9597,
          299.9577,
          2516.3867,
          608.2904,
          199.9781
         ],
         "xaxis": "x",
         "y": [
          "Responsabilities",
          "Responsabilities",
          "Responsabilities",
          "Responsabilities",
          "Responsabilities",
          "Responsabilities"
         ],
         "yaxis": "y"
        },
        {
         "alignmentgroup": "True",
         "base": [
          "1970-01-01T00:01:37.792174",
          "1970-01-01T00:01:40.066910",
          "1970-01-01T00:01:41.400126",
          "1970-01-01T00:01:43.283236",
          "1970-01-01T00:01:57.323389"
         ],
         "hovertemplate": "VisitedAOI=%{y}<br>Dwell Start=%{base}<br>Dwell End=%{x}<extra></extra>",
         "legendgroup": "Status",
         "marker": {
          "color": "#B6E880",
          "pattern": {
           "shape": ""
          }
         },
         "name": "Status",
         "offsetgroup": "Status",
         "orientation": "h",
         "showlegend": true,
         "textposition": "auto",
         "type": "bar",
         "x": [
          658.2576,
          566.6144,
          766.5696,
          116.6839,
          716.5545
         ],
         "xaxis": "x",
         "y": [
          "Status",
          "Status",
          "Status",
          "Status",
          "Status"
         ],
         "yaxis": "y"
        },
        {
         "alignmentgroup": "True",
         "base": [
          "1970-01-01T00:00:46.922731",
          "1970-01-01T00:00:54.963504",
          "1970-01-01T00:01:08.212123",
          "1970-01-01T00:01:09.220301",
          "1970-01-01T00:01:34.275884",
          "1970-01-01T00:01:37.250578",
          "1970-01-01T00:01:39.008721",
          "1970-01-01T00:01:40.700206",
          "1970-01-01T00:01:42.541730",
          "1970-01-01T00:01:58.314918",
          "1970-01-01T00:02:04.997541"
         ],
         "hovertemplate": "VisitedAOI=%{y}<br>Dwell Start=%{base}<br>Dwell End=%{x}<extra></extra>",
         "legendgroup": "Verified",
         "marker": {
          "color": "#FF97FF",
          "pattern": {
           "shape": ""
          }
         },
         "name": "Verified",
         "offsetgroup": "Verified",
         "orientation": "h",
         "showlegend": true,
         "textposition": "auto",
         "type": "bar",
         "x": [
          416.6079,
          291.627801,
          491.5652,
          291.6752,
          341.6215,
          274.9424,
          324.9659,
          216.6345,
          366.5469,
          924.9383,
          208.3194
         ],
         "xaxis": "x",
         "y": [
          "Verified",
          "Verified",
          "Verified",
          "Verified",
          "Verified",
          "Verified",
          "Verified",
          "Verified",
          "Verified",
          "Verified",
          "Verified"
         ],
         "yaxis": "y"
        }
       ],
       "layout": {
        "autosize": true,
        "barmode": "overlay",
        "legend": {
         "title": {
          "text": "VisitedAOI"
         },
         "tracegroupgap": 0
        },
        "template": {
         "data": {
          "bar": [
           {
            "error_x": {
             "color": "#2a3f5f"
            },
            "error_y": {
             "color": "#2a3f5f"
            },
            "marker": {
             "line": {
              "color": "#E5ECF6",
              "width": 0.5
             },
             "pattern": {
              "fillmode": "overlay",
              "size": 10,
              "solidity": 0.2
             }
            },
            "type": "bar"
           }
          ],
          "barpolar": [
           {
            "marker": {
             "line": {
              "color": "#E5ECF6",
              "width": 0.5
             },
             "pattern": {
              "fillmode": "overlay",
              "size": 10,
              "solidity": 0.2
             }
            },
            "type": "barpolar"
           }
          ],
          "carpet": [
           {
            "aaxis": {
             "endlinecolor": "#2a3f5f",
             "gridcolor": "white",
             "linecolor": "white",
             "minorgridcolor": "white",
             "startlinecolor": "#2a3f5f"
            },
            "baxis": {
             "endlinecolor": "#2a3f5f",
             "gridcolor": "white",
             "linecolor": "white",
             "minorgridcolor": "white",
             "startlinecolor": "#2a3f5f"
            },
            "type": "carpet"
           }
          ],
          "choropleth": [
           {
            "colorbar": {
             "outlinewidth": 0,
             "ticks": ""
            },
            "type": "choropleth"
           }
          ],
          "contour": [
           {
            "colorbar": {
             "outlinewidth": 0,
             "ticks": ""
            },
            "colorscale": [
             [
              0,
              "#0d0887"
             ],
             [
              0.1111111111111111,
              "#46039f"
             ],
             [
              0.2222222222222222,
              "#7201a8"
             ],
             [
              0.3333333333333333,
              "#9c179e"
             ],
             [
              0.4444444444444444,
              "#bd3786"
             ],
             [
              0.5555555555555556,
              "#d8576b"
             ],
             [
              0.6666666666666666,
              "#ed7953"
             ],
             [
              0.7777777777777778,
              "#fb9f3a"
             ],
             [
              0.8888888888888888,
              "#fdca26"
             ],
             [
              1,
              "#f0f921"
             ]
            ],
            "type": "contour"
           }
          ],
          "contourcarpet": [
           {
            "colorbar": {
             "outlinewidth": 0,
             "ticks": ""
            },
            "type": "contourcarpet"
           }
          ],
          "heatmap": [
           {
            "colorbar": {
             "outlinewidth": 0,
             "ticks": ""
            },
            "colorscale": [
             [
              0,
              "#0d0887"
             ],
             [
              0.1111111111111111,
              "#46039f"
             ],
             [
              0.2222222222222222,
              "#7201a8"
             ],
             [
              0.3333333333333333,
              "#9c179e"
             ],
             [
              0.4444444444444444,
              "#bd3786"
             ],
             [
              0.5555555555555556,
              "#d8576b"
             ],
             [
              0.6666666666666666,
              "#ed7953"
             ],
             [
              0.7777777777777778,
              "#fb9f3a"
             ],
             [
              0.8888888888888888,
              "#fdca26"
             ],
             [
              1,
              "#f0f921"
             ]
            ],
            "type": "heatmap"
           }
          ],
          "heatmapgl": [
           {
            "colorbar": {
             "outlinewidth": 0,
             "ticks": ""
            },
            "colorscale": [
             [
              0,
              "#0d0887"
             ],
             [
              0.1111111111111111,
              "#46039f"
             ],
             [
              0.2222222222222222,
              "#7201a8"
             ],
             [
              0.3333333333333333,
              "#9c179e"
             ],
             [
              0.4444444444444444,
              "#bd3786"
             ],
             [
              0.5555555555555556,
              "#d8576b"
             ],
             [
              0.6666666666666666,
              "#ed7953"
             ],
             [
              0.7777777777777778,
              "#fb9f3a"
             ],
             [
              0.8888888888888888,
              "#fdca26"
             ],
             [
              1,
              "#f0f921"
             ]
            ],
            "type": "heatmapgl"
           }
          ],
          "histogram": [
           {
            "marker": {
             "pattern": {
              "fillmode": "overlay",
              "size": 10,
              "solidity": 0.2
             }
            },
            "type": "histogram"
           }
          ],
          "histogram2d": [
           {
            "colorbar": {
             "outlinewidth": 0,
             "ticks": ""
            },
            "colorscale": [
             [
              0,
              "#0d0887"
             ],
             [
              0.1111111111111111,
              "#46039f"
             ],
             [
              0.2222222222222222,
              "#7201a8"
             ],
             [
              0.3333333333333333,
              "#9c179e"
             ],
             [
              0.4444444444444444,
              "#bd3786"
             ],
             [
              0.5555555555555556,
              "#d8576b"
             ],
             [
              0.6666666666666666,
              "#ed7953"
             ],
             [
              0.7777777777777778,
              "#fb9f3a"
             ],
             [
              0.8888888888888888,
              "#fdca26"
             ],
             [
              1,
              "#f0f921"
             ]
            ],
            "type": "histogram2d"
           }
          ],
          "histogram2dcontour": [
           {
            "colorbar": {
             "outlinewidth": 0,
             "ticks": ""
            },
            "colorscale": [
             [
              0,
              "#0d0887"
             ],
             [
              0.1111111111111111,
              "#46039f"
             ],
             [
              0.2222222222222222,
              "#7201a8"
             ],
             [
              0.3333333333333333,
              "#9c179e"
             ],
             [
              0.4444444444444444,
              "#bd3786"
             ],
             [
              0.5555555555555556,
              "#d8576b"
             ],
             [
              0.6666666666666666,
              "#ed7953"
             ],
             [
              0.7777777777777778,
              "#fb9f3a"
             ],
             [
              0.8888888888888888,
              "#fdca26"
             ],
             [
              1,
              "#f0f921"
             ]
            ],
            "type": "histogram2dcontour"
           }
          ],
          "mesh3d": [
           {
            "colorbar": {
             "outlinewidth": 0,
             "ticks": ""
            },
            "type": "mesh3d"
           }
          ],
          "parcoords": [
           {
            "line": {
             "colorbar": {
              "outlinewidth": 0,
              "ticks": ""
             }
            },
            "type": "parcoords"
           }
          ],
          "pie": [
           {
            "automargin": true,
            "type": "pie"
           }
          ],
          "scatter": [
           {
            "fillpattern": {
             "fillmode": "overlay",
             "size": 10,
             "solidity": 0.2
            },
            "type": "scatter"
           }
          ],
          "scatter3d": [
           {
            "line": {
             "colorbar": {
              "outlinewidth": 0,
              "ticks": ""
             }
            },
            "marker": {
             "colorbar": {
              "outlinewidth": 0,
              "ticks": ""
             }
            },
            "type": "scatter3d"
           }
          ],
          "scattercarpet": [
           {
            "marker": {
             "colorbar": {
              "outlinewidth": 0,
              "ticks": ""
             }
            },
            "type": "scattercarpet"
           }
          ],
          "scattergeo": [
           {
            "marker": {
             "colorbar": {
              "outlinewidth": 0,
              "ticks": ""
             }
            },
            "type": "scattergeo"
           }
          ],
          "scattergl": [
           {
            "marker": {
             "colorbar": {
              "outlinewidth": 0,
              "ticks": ""
             }
            },
            "type": "scattergl"
           }
          ],
          "scattermapbox": [
           {
            "marker": {
             "colorbar": {
              "outlinewidth": 0,
              "ticks": ""
             }
            },
            "type": "scattermapbox"
           }
          ],
          "scatterpolar": [
           {
            "marker": {
             "colorbar": {
              "outlinewidth": 0,
              "ticks": ""
             }
            },
            "type": "scatterpolar"
           }
          ],
          "scatterpolargl": [
           {
            "marker": {
             "colorbar": {
              "outlinewidth": 0,
              "ticks": ""
             }
            },
            "type": "scatterpolargl"
           }
          ],
          "scatterternary": [
           {
            "marker": {
             "colorbar": {
              "outlinewidth": 0,
              "ticks": ""
             }
            },
            "type": "scatterternary"
           }
          ],
          "surface": [
           {
            "colorbar": {
             "outlinewidth": 0,
             "ticks": ""
            },
            "colorscale": [
             [
              0,
              "#0d0887"
             ],
             [
              0.1111111111111111,
              "#46039f"
             ],
             [
              0.2222222222222222,
              "#7201a8"
             ],
             [
              0.3333333333333333,
              "#9c179e"
             ],
             [
              0.4444444444444444,
              "#bd3786"
             ],
             [
              0.5555555555555556,
              "#d8576b"
             ],
             [
              0.6666666666666666,
              "#ed7953"
             ],
             [
              0.7777777777777778,
              "#fb9f3a"
             ],
             [
              0.8888888888888888,
              "#fdca26"
             ],
             [
              1,
              "#f0f921"
             ]
            ],
            "type": "surface"
           }
          ],
          "table": [
           {
            "cells": {
             "fill": {
              "color": "#EBF0F8"
             },
             "line": {
              "color": "white"
             }
            },
            "header": {
             "fill": {
              "color": "#C8D4E3"
             },
             "line": {
              "color": "white"
             }
            },
            "type": "table"
           }
          ]
         },
         "layout": {
          "annotationdefaults": {
           "arrowcolor": "#2a3f5f",
           "arrowhead": 0,
           "arrowwidth": 1
          },
          "autotypenumbers": "strict",
          "coloraxis": {
           "colorbar": {
            "outlinewidth": 0,
            "ticks": ""
           }
          },
          "colorscale": {
           "diverging": [
            [
             0,
             "#8e0152"
            ],
            [
             0.1,
             "#c51b7d"
            ],
            [
             0.2,
             "#de77ae"
            ],
            [
             0.3,
             "#f1b6da"
            ],
            [
             0.4,
             "#fde0ef"
            ],
            [
             0.5,
             "#f7f7f7"
            ],
            [
             0.6,
             "#e6f5d0"
            ],
            [
             0.7,
             "#b8e186"
            ],
            [
             0.8,
             "#7fbc41"
            ],
            [
             0.9,
             "#4d9221"
            ],
            [
             1,
             "#276419"
            ]
           ],
           "sequential": [
            [
             0,
             "#0d0887"
            ],
            [
             0.1111111111111111,
             "#46039f"
            ],
            [
             0.2222222222222222,
             "#7201a8"
            ],
            [
             0.3333333333333333,
             "#9c179e"
            ],
            [
             0.4444444444444444,
             "#bd3786"
            ],
            [
             0.5555555555555556,
             "#d8576b"
            ],
            [
             0.6666666666666666,
             "#ed7953"
            ],
            [
             0.7777777777777778,
             "#fb9f3a"
            ],
            [
             0.8888888888888888,
             "#fdca26"
            ],
            [
             1,
             "#f0f921"
            ]
           ],
           "sequentialminus": [
            [
             0,
             "#0d0887"
            ],
            [
             0.1111111111111111,
             "#46039f"
            ],
            [
             0.2222222222222222,
             "#7201a8"
            ],
            [
             0.3333333333333333,
             "#9c179e"
            ],
            [
             0.4444444444444444,
             "#bd3786"
            ],
            [
             0.5555555555555556,
             "#d8576b"
            ],
            [
             0.6666666666666666,
             "#ed7953"
            ],
            [
             0.7777777777777778,
             "#fb9f3a"
            ],
            [
             0.8888888888888888,
             "#fdca26"
            ],
            [
             1,
             "#f0f921"
            ]
           ]
          },
          "colorway": [
           "#636efa",
           "#EF553B",
           "#00cc96",
           "#ab63fa",
           "#FFA15A",
           "#19d3f3",
           "#FF6692",
           "#B6E880",
           "#FF97FF",
           "#FECB52"
          ],
          "font": {
           "color": "#2a3f5f"
          },
          "geo": {
           "bgcolor": "white",
           "lakecolor": "white",
           "landcolor": "#E5ECF6",
           "showlakes": true,
           "showland": true,
           "subunitcolor": "white"
          },
          "hoverlabel": {
           "align": "left"
          },
          "hovermode": "closest",
          "mapbox": {
           "style": "light"
          },
          "paper_bgcolor": "white",
          "plot_bgcolor": "#E5ECF6",
          "polar": {
           "angularaxis": {
            "gridcolor": "white",
            "linecolor": "white",
            "ticks": ""
           },
           "bgcolor": "#E5ECF6",
           "radialaxis": {
            "gridcolor": "white",
            "linecolor": "white",
            "ticks": ""
           }
          },
          "scene": {
           "xaxis": {
            "backgroundcolor": "#E5ECF6",
            "gridcolor": "white",
            "gridwidth": 2,
            "linecolor": "white",
            "showbackground": true,
            "ticks": "",
            "zerolinecolor": "white"
           },
           "yaxis": {
            "backgroundcolor": "#E5ECF6",
            "gridcolor": "white",
            "gridwidth": 2,
            "linecolor": "white",
            "showbackground": true,
            "ticks": "",
            "zerolinecolor": "white"
           },
           "zaxis": {
            "backgroundcolor": "#E5ECF6",
            "gridcolor": "white",
            "gridwidth": 2,
            "linecolor": "white",
            "showbackground": true,
            "ticks": "",
            "zerolinecolor": "white"
           }
          },
          "shapedefaults": {
           "line": {
            "color": "#2a3f5f"
           }
          },
          "ternary": {
           "aaxis": {
            "gridcolor": "white",
            "linecolor": "white",
            "ticks": ""
           },
           "baxis": {
            "gridcolor": "white",
            "linecolor": "white",
            "ticks": ""
           },
           "bgcolor": "#E5ECF6",
           "caxis": {
            "gridcolor": "white",
            "linecolor": "white",
            "ticks": ""
           }
          },
          "title": {
           "x": 0.05
          },
          "xaxis": {
           "automargin": true,
           "gridcolor": "white",
           "linecolor": "white",
           "ticks": "",
           "title": {
            "standoff": 15
           },
           "zerolinecolor": "white",
           "zerolinewidth": 2
          },
          "yaxis": {
           "automargin": true,
           "gridcolor": "white",
           "linecolor": "white",
           "ticks": "",
           "title": {
            "standoff": 15
           },
           "zerolinecolor": "white",
           "zerolinewidth": 2
          }
         }
        },
        "title": {
         "text": "Participant: P02, Task: Slide1"
        },
        "xaxis": {
         "anchor": "y",
         "autorange": true,
         "domain": [
          0,
          1
         ],
         "range": [
          "1969-12-31 23:59:53.289",
          "1970-01-01 00:02:15.0656"
         ],
         "tickformat": "%Q",
         "type": "date"
        },
        "yaxis": {
         "anchor": "x",
         "autorange": true,
         "categoryarray": [
          "Verified",
          "Status",
          "Responsabilities",
          "Place",
          "Participant_Profile_Picture",
          "Participant_Bio",
          "Participants_Overview",
          "Online",
          "Instructions",
          "Ingredients",
          "Gen_Info",
          "Food",
          "Fav",
          "Description_2",
          "Description_1",
          "Date_Place_2",
          "Date_Place_1",
          "CTA_1",
          "Chat"
         ],
         "categoryorder": "array",
         "domain": [
          0,
          1
         ],
         "range": [
          -0.5,
          18.5
         ],
         "title": {
          "text": "VisitedAOI"
         },
         "type": "category"
        }
       }
      },
      "image/png": "[encoded data removed]",
      "text/html": [
       "<div>                            <div id=\"06305012-2902-4da7-91fc-e33b4953a744\" class=\"plotly-graph-div\" style=\"height:600px; width:100%;\"></div>            <script type=\"text/javascript\">                require([\"plotly\"], function(Plotly) {                    window.PLOTLYENV=window.PLOTLYENV || {};                                    if (document.getElementById(\"06305012-2902-4da7-91fc-e33b4953a744\")) {                    Plotly.newPlot(                        \"06305012-2902-4da7-91fc-e33b4953a744\",                        [{\"alignmentgroup\":\"True\",\"base\":[\"1970-01-01T00:00:45.222895\",\"1970-01-01T00:01:00.871217\",\"1970-01-01T00:01:02.587680\",\"1970-01-01T00:01:17.119437\",\"1970-01-01T00:01:54.307047\",\"1970-01-01T00:01:55.665220\"],\"hovertemplate\":\"VisitedAOI=%{y}\\u003cbr\\u003eDwell Start=%{base}\\u003cbr\\u003eDwell End=%{x}\\u003cextra\\u003e\\u003c\\u002fextra\\u003e\",\"legendgroup\":\"Chat\",\"marker\":{\"color\":\"#636efa\",\"pattern\":{\"shape\":\"\"}},\"name\":\"Chat\",\"offsetgroup\":\"Chat\",\"orientation\":\"h\",\"showlegend\":true,\"textposition\":\"auto\",\"x\":[449.9357,574.9401,583.3223,258.311,183.2888,166.6357],\"xaxis\":\"x\",\"y\":[\"Chat\",\"Chat\",\"Chat\",\"Chat\",\"Chat\",\"Chat\"],\"yaxis\":\"y\",\"type\":\"bar\"},{\"alignmentgroup\":\"True\",\"base\":[\"1970-01-01T00:00:04.902317\",\"1970-01-01T00:01:13.186539\",\"1970-01-01T00:01:16.027946\",\"1970-01-01T00:01:17.761035\",\"1970-01-01T00:01:46.541244\",\"1970-01-01T00:01:49.382571\",\"1970-01-01T00:02:02.822790\"],\"hovertemplate\":\"VisitedAOI=%{y}\\u003cbr\\u003eDwell Start=%{base}\\u003cbr\\u003eDwell End=%{x}\\u003cextra\\u003e\\u003c\\u002fextra\\u003e\",\"legendgroup\":\"CTA_1\",\"marker\":{\"color\":\"#EF553B\",\"pattern\":{\"shape\":\"\"}},\"name\":\"CTA_1\",\"offsetgroup\":\"CTA_1\",\"orientation\":\"h\",\"showlegend\":true,\"textposition\":\"auto\",\"x\":[25.0066,166.6845,358.2671,199.9797,83.3278,174.9826,149.9755],\"xaxis\":\"x\",\"y\":[\"CTA_1\",\"CTA_1\",\"CTA_1\",\"CTA_1\",\"CTA_1\",\"CTA_1\",\"CTA_1\"],\"yaxis\":\"y\",\"type\":\"bar\"},{\"alignmentgroup\":\"True\",\"base\":[\"1970-01-01T00:00:11.109996\",\"1970-01-01T00:00:14.401281\",\"1970-01-01T00:00:49.505761\",\"1970-01-01T00:01:13.486537\",\"1970-01-01T00:01:14.478074\",\"1970-01-01T00:01:18.810949\",\"1970-01-01T00:01:19.419222\",\"1970-01-01T00:01:23.843695\",\"1970-01-01T00:01:47.982739\",\"1970-01-01T00:01:50.315806\",\"1970-01-01T00:02:01.747900\",\"1970-01-01T00:02:02.339491\"],\"hovertemplate\":\"VisitedAOI=%{y}\\u003cbr\\u003eDwell Start=%{base}\\u003cbr\\u003eDwell End=%{x}\\u003cextra\\u003e\\u003c\\u002fextra\\u003e\",\"legendgroup\":\"Date_Place_1\",\"marker\":{\"color\":\"#00cc96\",\"pattern\":{\"shape\":\"\"}},\"name\":\"Date_Place_1\",\"offsetgroup\":\"Date_Place_1\",\"orientation\":\"h\",\"showlegend\":true,\"textposition\":\"auto\",\"x\":[1441.4929,441.6068,325.0135,358.3033,24.9929,224.9551,733.2244,1124.892,449.9515,574.9222,183.3151,183.3119],\"xaxis\":\"x\",\"y\":[\"Date_Place_1\",\"Date_Place_1\",\"Date_Place_1\",\"Date_Place_1\",\"Date_Place_1\",\"Date_Place_1\",\"Date_Place_1\",\"Date_Place_1\",\"Date_Place_1\",\"Date_Place_1\",\"Date_Place_1\",\"Date_Place_1\"],\"yaxis\":\"y\",\"type\":\"bar\"},{\"alignmentgroup\":\"True\",\"base\":[\"1970-01-01T00:00:15.434497\",\"1970-01-01T00:00:16.251098\",\"1970-01-01T00:00:16.734343\",\"1970-01-01T00:00:51.380553\",\"1970-01-01T00:00:51.730514\",\"1970-01-01T00:01:26.035163\",\"1970-01-01T00:01:28.518191\",\"1970-01-01T00:01:53.432118\"],\"hovertemplate\":\"VisitedAOI=%{y}\\u003cbr\\u003eDwell Start=%{base}\\u003cbr\\u003eDwell End=%{x}\\u003cextra\\u003e\\u003c\\u002fextra\\u003e\",\"legendgroup\":\"Date_Place_2\",\"marker\":{\"color\":\"#ab63fa\",\"pattern\":{\"shape\":\"\"}},\"name\":\"Date_Place_2\",\"offsetgroup\":\"Date_Place_2\",\"orientation\":\"h\",\"showlegend\":true,\"textposition\":\"auto\",\"x\":[108.3331,24.9921,274.9747,24.9963,258.3046,333.2998,191.6817,133.3293],\"xaxis\":\"x\",\"y\":[\"Date_Place_2\",\"Date_Place_2\",\"Date_Place_2\",\"Date_Place_2\",\"Date_Place_2\",\"Date_Place_2\",\"Date_Place_2\",\"Date_Place_2\"],\"yaxis\":\"y\",\"type\":\"bar\"},{\"alignmentgroup\":\"True\",\"base\":[\"1970-01-01T00:00:12.551489\",\"1970-01-01T00:01:14.519727\",\"1970-01-01T00:01:19.069251\",\"1970-01-01T00:01:24.968587\",\"1970-01-01T00:01:48.432691\",\"1970-01-01T00:02:01.356260\",\"1970-01-01T00:02:01.439571\"],\"hovertemplate\":\"VisitedAOI=%{y}\\u003cbr\\u003eDwell Start=%{base}\\u003cbr\\u003eDwell End=%{x}\\u003cextra\\u003e\\u003c\\u002fextra\\u003e\",\"legendgroup\":\"Description_1\",\"marker\":{\"color\":\"#FFA15A\",\"pattern\":{\"shape\":\"\"}},\"name\":\"Description_1\",\"offsetgroup\":\"Description_1\",\"orientation\":\"h\",\"showlegend\":true,\"textposition\":\"auto\",\"x\":[1849.7919,424.9616,341.656,249.9764,249.9565,8.3432,308.3283],\"xaxis\":\"x\",\"y\":[\"Description_1\",\"Description_1\",\"Description_1\",\"Description_1\",\"Description_1\",\"Description_1\",\"Description_1\"],\"yaxis\":\"y\",\"type\":\"bar\"},{\"alignmentgroup\":\"True\",\"base\":[\"1970-01-01T00:00:16.276090\",\"1970-01-01T00:00:17.009318\",\"1970-01-01T00:01:28.259929\",\"1970-01-01T00:01:53.223832\"],\"hovertemplate\":\"VisitedAOI=%{y}\\u003cbr\\u003eDwell Start=%{base}\\u003cbr\\u003eDwell End=%{x}\\u003cextra\\u003e\\u003c\\u002fextra\\u003e\",\"legendgroup\":\"Description_2\",\"marker\":{\"color\":\"#19d3f3\",\"pattern\":{\"shape\":\"\"}},\"name\":\"Description_2\",\"offsetgroup\":\"Description_2\",\"orientation\":\"h\",\"showlegend\":true,\"textposition\":\"auto\",\"x\":[458.2535,3416.2791,258.2615,208.2861],\"xaxis\":\"x\",\"y\":[\"Description_2\",\"Description_2\",\"Description_2\",\"Description_2\"],\"yaxis\":\"y\",\"type\":\"bar\"},{\"alignmentgroup\":\"True\",\"base\":[\"1970-01-01T00:00:44.522967\",\"1970-01-01T00:00:45.981133\",\"1970-01-01T00:01:00.412959\",\"1970-01-01T00:01:00.612971\",\"1970-01-01T00:01:01.454469\",\"1970-01-01T00:01:02.121089\",\"1970-01-01T00:01:16.727853\",\"1970-01-01T00:01:51.740641\",\"1970-01-01T00:01:52.015604\",\"1970-01-01T00:02:05.955754\"],\"hovertemplate\":\"VisitedAOI=%{y}\\u003cbr\\u003eDwell Start=%{base}\\u003cbr\\u003eDwell End=%{x}\\u003cextra\\u003e\\u003c\\u002fextra\\u003e\",\"legendgroup\":\"Fav\",\"marker\":{\"color\":\"#FF6692\",\"pattern\":{\"shape\":\"\"}},\"name\":\"Fav\",\"offsetgroup\":\"Fav\",\"orientation\":\"h\",\"showlegend\":true,\"textposition\":\"auto\",\"x\":[666.6232,549.9409,183.2802,258.246,341.6409,116.6444,391.5834,233.343,758.2958,133.3398],\"xaxis\":\"x\",\"y\":[\"Fav\",\"Fav\",\"Fav\",\"Fav\",\"Fav\",\"Fav\",\"Fav\",\"Fav\",\"Fav\",\"Fav\"],\"yaxis\":\"y\",\"type\":\"bar\"},{\"alignmentgroup\":\"True\",\"base\":[\"1970-01-01T00:00:00.811085\",\"1970-01-01T00:00:04.019119\",\"1970-01-01T00:00:15.042869\",\"1970-01-01T00:01:12.220008\",\"1970-01-01T00:01:20.310754\",\"1970-01-01T00:01:22.535613\",\"1970-01-01T00:01:46.249640\",\"1970-01-01T00:01:46.757877\",\"1970-01-01T00:02:02.972766\"],\"hovertemplate\":\"VisitedAOI=%{y}\\u003cbr\\u003eDwell Start=%{base}\\u003cbr\\u003eDwell End=%{x}\\u003cextra\\u003e\\u003c\\u002fextra\\u003e\",\"legendgroup\":\"Food\",\"marker\":{\"color\":\"#B6E880\",\"pattern\":{\"shape\":\"\"}},\"name\":\"Food\",\"offsetgroup\":\"Food\",\"orientation\":\"h\",\"showlegend\":true,\"textposition\":\"auto\",\"x\":[275.0266,874.8657,358.2876,274.9407,191.6559,358.1935,249.9806,241.6795,299.9392],\"xaxis\":\"x\",\"y\":[\"Food\",\"Food\",\"Food\",\"Food\",\"Food\",\"Food\",\"Food\",\"Food\",\"Food\"],\"yaxis\":\"y\",\"type\":\"bar\"},{\"alignmentgroup\":\"True\",\"base\":[\"1970-01-01T00:00:05.693887\",\"1970-01-01T00:00:07.152101\",\"1970-01-01T00:00:07.568702\",\"1970-01-01T00:00:48.897497\",\"1970-01-01T00:01:10.711845\",\"1970-01-01T00:01:11.861720\",\"1970-01-01T00:01:12.045000\",\"1970-01-01T00:01:15.819581\",\"1970-01-01T00:01:16.419527\",\"1970-01-01T00:01:16.586210\",\"1970-01-01T00:01:17.977680\",\"1970-01-01T00:01:20.502410\",\"1970-01-01T00:01:27.468306\",\"1970-01-01T00:01:46.632885\",\"1970-01-01T00:01:48.982627\"],\"hovertemplate\":\"VisitedAOI=%{y}\\u003cbr\\u003eDwell Start=%{base}\\u003cbr\\u003eDwell End=%{x}\\u003cextra\\u003e\\u003c\\u002fextra\\u003e\",\"legendgroup\":\"Gen_Info\",\"marker\":{\"color\":\"#FF97FF\",\"pattern\":{\"shape\":\"\"}},\"name\":\"Gen_Info\",\"offsetgroup\":\"Gen_Info\",\"orientation\":\"h\",\"showlegend\":true,\"textposition\":\"auto\",\"x\":[841.6007,208.2742,8.3368,433.2803,141.6398,166.6111,175.0082,208.3652,74.990099,8.302,291.6627,2024.7939,624.9343,91.6433,399.9447],\"xaxis\":\"x\",\"y\":[\"Gen_Info\",\"Gen_Info\",\"Gen_Info\",\"Gen_Info\",\"Gen_Info\",\"Gen_Info\",\"Gen_Info\",\"Gen_Info\",\"Gen_Info\",\"Gen_Info\",\"Gen_Info\",\"Gen_Info\",\"Gen_Info\",\"Gen_Info\",\"Gen_Info\"],\"yaxis\":\"y\",\"type\":\"bar\"},{\"alignmentgroup\":\"True\",\"base\":[\"1970-01-01T00:00:00.377808\",\"1970-01-01T00:00:20.433924\",\"1970-01-01T00:00:21.517159\",\"1970-01-01T00:00:22.925311\",\"1970-01-01T00:00:23.400280\",\"1970-01-01T00:00:27.116526\",\"1970-01-01T00:00:49.830774\",\"1970-01-01T00:00:50.572334\",\"1970-01-01T00:01:12.686601\",\"1970-01-01T00:01:25.676852\",\"1970-01-01T00:01:28.709873\",\"1970-01-01T00:01:53.007181\",\"1970-01-01T00:02:03.414367\"],\"hovertemplate\":\"VisitedAOI=%{y}\\u003cbr\\u003eDwell Start=%{base}\\u003cbr\\u003eDwell End=%{x}\\u003cextra\\u003e\\u003c\\u002fextra\\u003e\",\"legendgroup\":\"Ingredients\",\"marker\":{\"color\":\"#FECB52\",\"pattern\":{\"shape\":\"\"}},\"name\":\"Ingredients\",\"offsetgroup\":\"Ingredients\",\"orientation\":\"h\",\"showlegend\":true,\"textposition\":\"auto\",\"x\":[383.2816,158.3096,366.6012,133.3342,1133.2073,1058.2344,133.2693,449.9267,449.9425,291.6203,441.6107,216.6512,199.9882],\"xaxis\":\"x\",\"y\":[\"Ingredients\",\"Ingredients\",\"Ingredients\",\"Ingredients\",\"Ingredients\",\"Ingredients\",\"Ingredients\",\"Ingredients\",\"Ingredients\",\"Ingredients\",\"Ingredients\",\"Ingredients\",\"Ingredients\"],\"yaxis\":\"y\",\"type\":\"bar\"},{\"alignmentgroup\":\"True\",\"base\":[\"1970-01-01T00:00:28.174760\",\"1970-01-01T00:00:31.241085\",\"1970-01-01T00:00:31.824361\",\"1970-01-01T00:00:37.457071\",\"1970-01-01T00:00:55.321814\",\"1970-01-01T00:01:25.285216\",\"1970-01-01T00:01:29.284784\",\"1970-01-01T00:01:51.565656\",\"1970-01-01T00:01:52.823854\",\"1970-01-01T00:01:53.590432\",\"1970-01-01T00:02:03.647703\",\"1970-01-01T00:02:07.760384\"],\"hovertemplate\":\"VisitedAOI=%{y}\\u003cbr\\u003eDwell Start=%{base}\\u003cbr\\u003eDwell End=%{x}\\u003cextra\\u003e\\u003c\\u002fextra\\u003e\",\"legendgroup\":\"Instructions\",\"marker\":{\"color\":\"#636efa\",\"pattern\":{\"shape\":\"\"}},\"name\":\"Instructions\",\"offsetgroup\":\"Instructions\",\"orientation\":\"h\",\"showlegend\":true,\"textposition\":\"auto\",\"x\":[2958.0284,541.606,5549.3903,5024.4972,174.9844,391.6363,1108.1994,133.3422,183.3272,466.6704,491.5995,216.4088],\"xaxis\":\"x\",\"y\":[\"Instructions\",\"Instructions\",\"Instructions\",\"Instructions\",\"Instructions\",\"Instructions\",\"Instructions\",\"Instructions\",\"Instructions\",\"Instructions\",\"Instructions\",\"Instructions\"],\"yaxis\":\"y\",\"type\":\"bar\"},{\"alignmentgroup\":\"True\",\"base\":[\"1970-01-01T00:00:46.731064\",\"1970-01-01T00:00:54.521879\",\"1970-01-01T00:00:55.571806\",\"1970-01-01T00:01:02.512731\",\"1970-01-01T00:01:38.483747\",\"1970-01-01T00:01:41.150136\",\"1970-01-01T00:01:42.191673\",\"1970-01-01T00:01:55.106950\",\"1970-01-01T00:01:56.440135\",\"1970-01-01T00:02:00.364725\",\"1970-01-01T00:02:05.205860\",\"1970-01-01T00:02:05.514122\"],\"hovertemplate\":\"VisitedAOI=%{y}\\u003cbr\\u003eDwell Start=%{base}\\u003cbr\\u003eDwell End=%{x}\\u003cextra\\u003e\\u003c\\u002fextra\\u003e\",\"legendgroup\":\"Online\",\"marker\":{\"color\":\"#EF553B\",\"pattern\":{\"shape\":\"\"}},\"name\":\"Online\",\"offsetgroup\":\"Online\",\"orientation\":\"h\",\"showlegend\":true,\"textposition\":\"auto\",\"x\":[158.3305,291.6523,249.9466,8.2885,266.666,74.9763,299.9669,333.2982,374.9971,524.9176,274.9883,316.6495],\"xaxis\":\"x\",\"y\":[\"Online\",\"Online\",\"Online\",\"Online\",\"Online\",\"Online\",\"Online\",\"Online\",\"Online\",\"Online\",\"Online\",\"Online\"],\"yaxis\":\"y\",\"type\":\"bar\"},{\"alignmentgroup\":\"True\",\"base\":[\"1970-01-01T00:00:06.677127\",\"1970-01-01T00:00:07.585364\",\"1970-01-01T00:00:14.901213\",\"1970-01-01T00:00:48.730840\",\"1970-01-01T00:00:49.372445\",\"1970-01-01T00:01:10.461835\",\"1970-01-01T00:01:10.945149\",\"1970-01-01T00:01:13.878139\",\"1970-01-01T00:01:15.003008\",\"1970-01-01T00:01:16.527886\",\"1970-01-01T00:01:17.569392\",\"1970-01-01T00:01:18.269343\",\"1970-01-01T00:01:22.952149\",\"1970-01-01T00:01:27.101676\",\"1970-01-01T00:01:34.700867\",\"1970-01-01T00:01:47.082879\",\"1970-01-01T00:01:48.740973\",\"1970-01-01T00:01:49.699215\",\"1970-01-01T00:01:50.915759\",\"1970-01-01T00:02:02.089550\",\"1970-01-01T00:02:02.589480\"],\"hovertemplate\":\"VisitedAOI=%{y}\\u003cbr\\u003eDwell Start=%{base}\\u003cbr\\u003eDwell End=%{x}\\u003cextra\\u003e\\u003c\\u002fextra\\u003e\",\"legendgroup\":\"Participants_Overview\",\"marker\":{\"color\":\"#00cc96\",\"pattern\":{\"shape\":\"\"}},\"name\":\"Participants_Overview\",\"offsetgroup\":\"Participants_Overview\",\"orientation\":\"h\",\"showlegend\":true,\"textposition\":\"auto\",\"x\":[441.632801,3457.9619,141.656,166.6572,116.6543,166.6796,899.89,341.6703,816.5733,41.632999,25.0234,541.606,858.2353,366.6296,533.2552,883.1816,158.3457,566.5789,649.8968,124.9369,124.9769],\"xaxis\":\"x\",\"y\":[\"Participants_Overview\",\"Participants_Overview\",\"Participants_Overview\",\"Participants_Overview\",\"Participants_Overview\",\"Participants_Overview\",\"Participants_Overview\",\"Participants_Overview\",\"Participants_Overview\",\"Participants_Overview\",\"Participants_Overview\",\"Participants_Overview\",\"Participants_Overview\",\"Participants_Overview\",\"Participants_Overview\",\"Participants_Overview\",\"Participants_Overview\",\"Participants_Overview\",\"Participants_Overview\",\"Participants_Overview\",\"Participants_Overview\"],\"yaxis\":\"y\",\"type\":\"bar\"},{\"alignmentgroup\":\"True\",\"base\":[\"1970-01-01T00:00:45.672831\",\"1970-01-01T00:00:46.531074\",\"1970-01-01T00:00:47.605985\",\"1970-01-01T00:00:48.197579\",\"1970-01-01T00:00:54.205306\",\"1970-01-01T00:00:54.363574\",\"1970-01-01T00:00:55.821753\",\"1970-01-01T00:01:01.829428\",\"1970-01-01T00:01:02.037787\",\"1970-01-01T00:01:03.171002\",\"1970-01-01T00:01:32.942703\",\"1970-01-01T00:01:36.084041\",\"1970-01-01T00:01:43.641531\",\"1970-01-01T00:01:54.173729\",\"1970-01-01T00:01:54.682000\",\"1970-01-01T00:01:55.831856\",\"1970-01-01T00:02:04.405929\",\"1970-01-01T00:02:06.089094\"],\"hovertemplate\":\"VisitedAOI=%{y}\\u003cbr\\u003eDwell Start=%{base}\\u003cbr\\u003eDwell End=%{x}\\u003cextra\\u003e\\u003c\\u002fextra\\u003e\",\"legendgroup\":\"Participant_Bio\",\"marker\":{\"color\":\"#ab63fa\",\"pattern\":{\"shape\":\"\"}},\"name\":\"Participant_Bio\",\"offsetgroup\":\"Participant_Bio\",\"orientation\":\"h\",\"showlegend\":true,\"textposition\":\"auto\",\"x\":[308.3023,41.6913,433.2607,433.3183,8.3027,99.9953,199.9957,133.3197,83.3026,4624.4499,858.238,791.5497,958.2726,99.9776,324.9455,216.6403,383.326799,491.629],\"xaxis\":\"x\",\"y\":[\"Participant_Bio\",\"Participant_Bio\",\"Participant_Bio\",\"Participant_Bio\",\"Participant_Bio\",\"Participant_Bio\",\"Participant_Bio\",\"Participant_Bio\",\"Participant_Bio\",\"Participant_Bio\",\"Participant_Bio\",\"Participant_Bio\",\"Participant_Bio\",\"Participant_Bio\",\"Participant_Bio\",\"Participant_Bio\",\"Participant_Bio\",\"Participant_Bio\"],\"yaxis\":\"y\",\"type\":\"bar\"},{\"alignmentgroup\":\"True\",\"base\":[\"1970-01-01T00:00:42.548187\",\"1970-01-01T00:00:44.264677\",\"1970-01-01T00:00:52.088850\",\"1970-01-01T00:00:53.347008\",\"1970-01-01T00:00:56.021749\",\"1970-01-01T00:00:59.263075\",\"1970-01-01T00:01:31.017931\",\"1970-01-01T00:01:32.551081\",\"1970-01-01T00:01:35.417478\",\"1970-01-01T00:01:44.791431\",\"1970-01-01T00:01:45.149718\",\"1970-01-01T00:02:04.205957\"],\"hovertemplate\":\"VisitedAOI=%{y}\\u003cbr\\u003eDwell Start=%{base}\\u003cbr\\u003eDwell End=%{x}\\u003cextra\\u003e\\u003c\\u002fextra\\u003e\",\"legendgroup\":\"Participant_Profile_Picture\",\"marker\":{\"color\":\"#FFA15A\",\"pattern\":{\"shape\":\"\"}},\"name\":\"Participant_Profile_Picture\",\"offsetgroup\":\"Participant_Profile_Picture\",\"orientation\":\"h\",\"showlegend\":true,\"textposition\":\"auto\",\"x\":[933.2301,258.2893,258.2695,683.3319,591.5761,1149.8841,933.2736,299.9541,624.8853,41.6219,158.2943,149.9704],\"xaxis\":\"x\",\"y\":[\"Participant_Profile_Picture\",\"Participant_Profile_Picture\",\"Participant_Profile_Picture\",\"Participant_Profile_Picture\",\"Participant_Profile_Picture\",\"Participant_Profile_Picture\",\"Participant_Profile_Picture\",\"Participant_Profile_Picture\",\"Participant_Profile_Picture\",\"Participant_Profile_Picture\",\"Participant_Profile_Picture\",\"Participant_Profile_Picture\"],\"yaxis\":\"y\",\"type\":\"bar\"},{\"alignmentgroup\":\"True\",\"base\":[\"1970-01-01T00:01:07.953776\",\"1970-01-01T00:01:08.737017\",\"1970-01-01T00:01:33.834293\",\"1970-01-01T00:01:36.908919\",\"1970-01-01T00:01:37.525520\",\"1970-01-01T00:01:39.375315\",\"1970-01-01T00:01:40.941839\",\"1970-01-01T00:01:42.166696\",\"1970-01-01T00:01:42.991609\",\"1970-01-01T00:01:56.073496\",\"1970-01-01T00:01:57.073397\",\"1970-01-01T00:01:58.089941\",\"1970-01-01T00:01:59.264825\",\"1970-01-01T00:01:59.739754\",\"1970-01-01T00:02:00.897965\"],\"hovertemplate\":\"VisitedAOI=%{y}\\u003cbr\\u003eDwell Start=%{base}\\u003cbr\\u003eDwell End=%{x}\\u003cextra\\u003e\\u003c\\u002fextra\\u003e\",\"legendgroup\":\"Place\",\"marker\":{\"color\":\"#19d3f3\",\"pattern\":{\"shape\":\"\"}},\"name\":\"Place\",\"offsetgroup\":\"Place\",\"orientation\":\"h\",\"showlegend\":true,\"textposition\":\"auto\",\"x\":[183.3455,483.2845,408.274,324.9801,266.6536,691.5951,174.9824,24.9774,274.9635,324.9765,199.9783,191.6559,266.6338,574.9492,349.9843],\"xaxis\":\"x\",\"y\":[\"Place\",\"Place\",\"Place\",\"Place\",\"Place\",\"Place\",\"Place\",\"Place\",\"Place\",\"Place\",\"Place\",\"Place\",\"Place\",\"Place\",\"Place\"],\"yaxis\":\"y\",\"type\":\"bar\"},{\"alignmentgroup\":\"True\",\"base\":[\"1970-01-01T00:00:20.650565\",\"1970-01-01T00:00:22.575352\",\"1970-01-01T00:00:23.058646\",\"1970-01-01T00:00:24.600139\",\"1970-01-01T00:00:49.964044\",\"1970-01-01T00:00:51.022261\"],\"hovertemplate\":\"VisitedAOI=%{y}\\u003cbr\\u003eDwell Start=%{base}\\u003cbr\\u003eDwell End=%{x}\\u003cextra\\u003e\\u003c\\u002fextra\\u003e\",\"legendgroup\":\"Responsabilities\",\"marker\":{\"color\":\"#FF6692\",\"pattern\":{\"shape\":\"\"}},\"name\":\"Responsabilities\",\"offsetgroup\":\"Responsabilities\",\"orientation\":\"h\",\"showlegend\":true,\"textposition\":\"auto\",\"x\":[866.5934,349.9597,299.9577,2516.3867,608.2904,199.9781],\"xaxis\":\"x\",\"y\":[\"Responsabilities\",\"Responsabilities\",\"Responsabilities\",\"Responsabilities\",\"Responsabilities\",\"Responsabilities\"],\"yaxis\":\"y\",\"type\":\"bar\"},{\"alignmentgroup\":\"True\",\"base\":[\"1970-01-01T00:01:37.792174\",\"1970-01-01T00:01:40.066910\",\"1970-01-01T00:01:41.400126\",\"1970-01-01T00:01:43.283236\",\"1970-01-01T00:01:57.323389\"],\"hovertemplate\":\"VisitedAOI=%{y}\\u003cbr\\u003eDwell Start=%{base}\\u003cbr\\u003eDwell End=%{x}\\u003cextra\\u003e\\u003c\\u002fextra\\u003e\",\"legendgroup\":\"Status\",\"marker\":{\"color\":\"#B6E880\",\"pattern\":{\"shape\":\"\"}},\"name\":\"Status\",\"offsetgroup\":\"Status\",\"orientation\":\"h\",\"showlegend\":true,\"textposition\":\"auto\",\"x\":[658.2576,566.6144,766.5696,116.6839,716.5545],\"xaxis\":\"x\",\"y\":[\"Status\",\"Status\",\"Status\",\"Status\",\"Status\"],\"yaxis\":\"y\",\"type\":\"bar\"},{\"alignmentgroup\":\"True\",\"base\":[\"1970-01-01T00:00:46.922731\",\"1970-01-01T00:00:54.963504\",\"1970-01-01T00:01:08.212123\",\"1970-01-01T00:01:09.220301\",\"1970-01-01T00:01:34.275884\",\"1970-01-01T00:01:37.250578\",\"1970-01-01T00:01:39.008721\",\"1970-01-01T00:01:40.700206\",\"1970-01-01T00:01:42.541730\",\"1970-01-01T00:01:58.314918\",\"1970-01-01T00:02:04.997541\"],\"hovertemplate\":\"VisitedAOI=%{y}\\u003cbr\\u003eDwell Start=%{base}\\u003cbr\\u003eDwell End=%{x}\\u003cextra\\u003e\\u003c\\u002fextra\\u003e\",\"legendgroup\":\"Verified\",\"marker\":{\"color\":\"#FF97FF\",\"pattern\":{\"shape\":\"\"}},\"name\":\"Verified\",\"offsetgroup\":\"Verified\",\"orientation\":\"h\",\"showlegend\":true,\"textposition\":\"auto\",\"x\":[416.6079,291.627801,491.5652,291.6752,341.6215,274.9424,324.9659,216.6345,366.5469,924.9383,208.3194],\"xaxis\":\"x\",\"y\":[\"Verified\",\"Verified\",\"Verified\",\"Verified\",\"Verified\",\"Verified\",\"Verified\",\"Verified\",\"Verified\",\"Verified\",\"Verified\"],\"yaxis\":\"y\",\"type\":\"bar\"}],                        {\"template\":{\"data\":{\"histogram2dcontour\":[{\"type\":\"histogram2dcontour\",\"colorbar\":{\"outlinewidth\":0,\"ticks\":\"\"},\"colorscale\":[[0.0,\"#0d0887\"],[0.1111111111111111,\"#46039f\"],[0.2222222222222222,\"#7201a8\"],[0.3333333333333333,\"#9c179e\"],[0.4444444444444444,\"#bd3786\"],[0.5555555555555556,\"#d8576b\"],[0.6666666666666666,\"#ed7953\"],[0.7777777777777778,\"#fb9f3a\"],[0.8888888888888888,\"#fdca26\"],[1.0,\"#f0f921\"]]}],\"choropleth\":[{\"type\":\"choropleth\",\"colorbar\":{\"outlinewidth\":0,\"ticks\":\"\"}}],\"histogram2d\":[{\"type\":\"histogram2d\",\"colorbar\":{\"outlinewidth\":0,\"ticks\":\"\"},\"colorscale\":[[0.0,\"#0d0887\"],[0.1111111111111111,\"#46039f\"],[0.2222222222222222,\"#7201a8\"],[0.3333333333333333,\"#9c179e\"],[0.4444444444444444,\"#bd3786\"],[0.5555555555555556,\"#d8576b\"],[0.6666666666666666,\"#ed7953\"],[0.7777777777777778,\"#fb9f3a\"],[0.8888888888888888,\"#fdca26\"],[1.0,\"#f0f921\"]]}],\"heatmap\":[{\"type\":\"heatmap\",\"colorbar\":{\"outlinewidth\":0,\"ticks\":\"\"},\"colorscale\":[[0.0,\"#0d0887\"],[0.1111111111111111,\"#46039f\"],[0.2222222222222222,\"#7201a8\"],[0.3333333333333333,\"#9c179e\"],[0.4444444444444444,\"#bd3786\"],[0.5555555555555556,\"#d8576b\"],[0.6666666666666666,\"#ed7953\"],[0.7777777777777778,\"#fb9f3a\"],[0.8888888888888888,\"#fdca26\"],[1.0,\"#f0f921\"]]}],\"heatmapgl\":[{\"type\":\"heatmapgl\",\"colorbar\":{\"outlinewidth\":0,\"ticks\":\"\"},\"colorscale\":[[0.0,\"#0d0887\"],[0.1111111111111111,\"#46039f\"],[0.2222222222222222,\"#7201a8\"],[0.3333333333333333,\"#9c179e\"],[0.4444444444444444,\"#bd3786\"],[0.5555555555555556,\"#d8576b\"],[0.6666666666666666,\"#ed7953\"],[0.7777777777777778,\"#fb9f3a\"],[0.8888888888888888,\"#fdca26\"],[1.0,\"#f0f921\"]]}],\"contourcarpet\":[{\"type\":\"contourcarpet\",\"colorbar\":{\"outlinewidth\":0,\"ticks\":\"\"}}],\"contour\":[{\"type\":\"contour\",\"colorbar\":{\"outlinewidth\":0,\"ticks\":\"\"},\"colorscale\":[[0.0,\"#0d0887\"],[0.1111111111111111,\"#46039f\"],[0.2222222222222222,\"#7201a8\"],[0.3333333333333333,\"#9c179e\"],[0.4444444444444444,\"#bd3786\"],[0.5555555555555556,\"#d8576b\"],[0.6666666666666666,\"#ed7953\"],[0.7777777777777778,\"#fb9f3a\"],[0.8888888888888888,\"#fdca26\"],[1.0,\"#f0f921\"]]}],\"surface\":[{\"type\":\"surface\",\"colorbar\":{\"outlinewidth\":0,\"ticks\":\"\"},\"colorscale\":[[0.0,\"#0d0887\"],[0.1111111111111111,\"#46039f\"],[0.2222222222222222,\"#7201a8\"],[0.3333333333333333,\"#9c179e\"],[0.4444444444444444,\"#bd3786\"],[0.5555555555555556,\"#d8576b\"],[0.6666666666666666,\"#ed7953\"],[0.7777777777777778,\"#fb9f3a\"],[0.8888888888888888,\"#fdca26\"],[1.0,\"#f0f921\"]]}],\"mesh3d\":[{\"type\":\"mesh3d\",\"colorbar\":{\"outlinewidth\":0,\"ticks\":\"\"}}],\"scatter\":[{\"fillpattern\":{\"fillmode\":\"overlay\",\"size\":10,\"solidity\":0.2},\"type\":\"scatter\"}],\"parcoords\":[{\"type\":\"parcoords\",\"line\":{\"colorbar\":{\"outlinewidth\":0,\"ticks\":\"\"}}}],\"scatterpolargl\":[{\"type\":\"scatterpolargl\",\"marker\":{\"colorbar\":{\"outlinewidth\":0,\"ticks\":\"\"}}}],\"bar\":[{\"error_x\":{\"color\":\"#2a3f5f\"},\"error_y\":{\"color\":\"#2a3f5f\"},\"marker\":{\"line\":{\"color\":\"#E5ECF6\",\"width\":0.5},\"pattern\":{\"fillmode\":\"overlay\",\"size\":10,\"solidity\":0.2}},\"type\":\"bar\"}],\"scattergeo\":[{\"type\":\"scattergeo\",\"marker\":{\"colorbar\":{\"outlinewidth\":0,\"ticks\":\"\"}}}],\"scatterpolar\":[{\"type\":\"scatterpolar\",\"marker\":{\"colorbar\":{\"outlinewidth\":0,\"ticks\":\"\"}}}],\"histogram\":[{\"marker\":{\"pattern\":{\"fillmode\":\"overlay\",\"size\":10,\"solidity\":0.2}},\"type\":\"histogram\"}],\"scattergl\":[{\"type\":\"scattergl\",\"marker\":{\"colorbar\":{\"outlinewidth\":0,\"ticks\":\"\"}}}],\"scatter3d\":[{\"type\":\"scatter3d\",\"line\":{\"colorbar\":{\"outlinewidth\":0,\"ticks\":\"\"}},\"marker\":{\"colorbar\":{\"outlinewidth\":0,\"ticks\":\"\"}}}],\"scattermapbox\":[{\"type\":\"scattermapbox\",\"marker\":{\"colorbar\":{\"outlinewidth\":0,\"ticks\":\"\"}}}],\"scatterternary\":[{\"type\":\"scatterternary\",\"marker\":{\"colorbar\":{\"outlinewidth\":0,\"ticks\":\"\"}}}],\"scattercarpet\":[{\"type\":\"scattercarpet\",\"marker\":{\"colorbar\":{\"outlinewidth\":0,\"ticks\":\"\"}}}],\"carpet\":[{\"aaxis\":{\"endlinecolor\":\"#2a3f5f\",\"gridcolor\":\"white\",\"linecolor\":\"white\",\"minorgridcolor\":\"white\",\"startlinecolor\":\"#2a3f5f\"},\"baxis\":{\"endlinecolor\":\"#2a3f5f\",\"gridcolor\":\"white\",\"linecolor\":\"white\",\"minorgridcolor\":\"white\",\"startlinecolor\":\"#2a3f5f\"},\"type\":\"carpet\"}],\"table\":[{\"cells\":{\"fill\":{\"color\":\"#EBF0F8\"},\"line\":{\"color\":\"white\"}},\"header\":{\"fill\":{\"color\":\"#C8D4E3\"},\"line\":{\"color\":\"white\"}},\"type\":\"table\"}],\"barpolar\":[{\"marker\":{\"line\":{\"color\":\"#E5ECF6\",\"width\":0.5},\"pattern\":{\"fillmode\":\"overlay\",\"size\":10,\"solidity\":0.2}},\"type\":\"barpolar\"}],\"pie\":[{\"automargin\":true,\"type\":\"pie\"}]},\"layout\":{\"autotypenumbers\":\"strict\",\"colorway\":[\"#636efa\",\"#EF553B\",\"#00cc96\",\"#ab63fa\",\"#FFA15A\",\"#19d3f3\",\"#FF6692\",\"#B6E880\",\"#FF97FF\",\"#FECB52\"],\"font\":{\"color\":\"#2a3f5f\"},\"hovermode\":\"closest\",\"hoverlabel\":{\"align\":\"left\"},\"paper_bgcolor\":\"white\",\"plot_bgcolor\":\"#E5ECF6\",\"polar\":{\"bgcolor\":\"#E5ECF6\",\"angularaxis\":{\"gridcolor\":\"white\",\"linecolor\":\"white\",\"ticks\":\"\"},\"radialaxis\":{\"gridcolor\":\"white\",\"linecolor\":\"white\",\"ticks\":\"\"}},\"ternary\":{\"bgcolor\":\"#E5ECF6\",\"aaxis\":{\"gridcolor\":\"white\",\"linecolor\":\"white\",\"ticks\":\"\"},\"baxis\":{\"gridcolor\":\"white\",\"linecolor\":\"white\",\"ticks\":\"\"},\"caxis\":{\"gridcolor\":\"white\",\"linecolor\":\"white\",\"ticks\":\"\"}},\"coloraxis\":{\"colorbar\":{\"outlinewidth\":0,\"ticks\":\"\"}},\"colorscale\":{\"sequential\":[[0.0,\"#0d0887\"],[0.1111111111111111,\"#46039f\"],[0.2222222222222222,\"#7201a8\"],[0.3333333333333333,\"#9c179e\"],[0.4444444444444444,\"#bd3786\"],[0.5555555555555556,\"#d8576b\"],[0.6666666666666666,\"#ed7953\"],[0.7777777777777778,\"#fb9f3a\"],[0.8888888888888888,\"#fdca26\"],[1.0,\"#f0f921\"]],\"sequentialminus\":[[0.0,\"#0d0887\"],[0.1111111111111111,\"#46039f\"],[0.2222222222222222,\"#7201a8\"],[0.3333333333333333,\"#9c179e\"],[0.4444444444444444,\"#bd3786\"],[0.5555555555555556,\"#d8576b\"],[0.6666666666666666,\"#ed7953\"],[0.7777777777777778,\"#fb9f3a\"],[0.8888888888888888,\"#fdca26\"],[1.0,\"#f0f921\"]],\"diverging\":[[0,\"#8e0152\"],[0.1,\"#c51b7d\"],[0.2,\"#de77ae\"],[0.3,\"#f1b6da\"],[0.4,\"#fde0ef\"],[0.5,\"#f7f7f7\"],[0.6,\"#e6f5d0\"],[0.7,\"#b8e186\"],[0.8,\"#7fbc41\"],[0.9,\"#4d9221\"],[1,\"#276419\"]]},\"xaxis\":{\"gridcolor\":\"white\",\"linecolor\":\"white\",\"ticks\":\"\",\"title\":{\"standoff\":15},\"zerolinecolor\":\"white\",\"automargin\":true,\"zerolinewidth\":2},\"yaxis\":{\"gridcolor\":\"white\",\"linecolor\":\"white\",\"ticks\":\"\",\"title\":{\"standoff\":15},\"zerolinecolor\":\"white\",\"automargin\":true,\"zerolinewidth\":2},\"scene\":{\"xaxis\":{\"backgroundcolor\":\"#E5ECF6\",\"gridcolor\":\"white\",\"linecolor\":\"white\",\"showbackground\":true,\"ticks\":\"\",\"zerolinecolor\":\"white\",\"gridwidth\":2},\"yaxis\":{\"backgroundcolor\":\"#E5ECF6\",\"gridcolor\":\"white\",\"linecolor\":\"white\",\"showbackground\":true,\"ticks\":\"\",\"zerolinecolor\":\"white\",\"gridwidth\":2},\"zaxis\":{\"backgroundcolor\":\"#E5ECF6\",\"gridcolor\":\"white\",\"linecolor\":\"white\",\"showbackground\":true,\"ticks\":\"\",\"zerolinecolor\":\"white\",\"gridwidth\":2}},\"shapedefaults\":{\"line\":{\"color\":\"#2a3f5f\"}},\"annotationdefaults\":{\"arrowcolor\":\"#2a3f5f\",\"arrowhead\":0,\"arrowwidth\":1},\"geo\":{\"bgcolor\":\"white\",\"landcolor\":\"#E5ECF6\",\"subunitcolor\":\"white\",\"showland\":true,\"showlakes\":true,\"lakecolor\":\"white\"},\"title\":{\"x\":0.05},\"mapbox\":{\"style\":\"light\"}}},\"xaxis\":{\"anchor\":\"y\",\"domain\":[0.0,1.0],\"type\":\"date\",\"tickformat\":\"%Q\"},\"yaxis\":{\"anchor\":\"x\",\"domain\":[0.0,1.0],\"title\":{\"text\":\"VisitedAOI\"},\"categoryorder\":\"array\",\"categoryarray\":[\"Verified\",\"Status\",\"Responsabilities\",\"Place\",\"Participant_Profile_Picture\",\"Participant_Bio\",\"Participants_Overview\",\"Online\",\"Instructions\",\"Ingredients\",\"Gen_Info\",\"Food\",\"Fav\",\"Description_2\",\"Description_1\",\"Date_Place_2\",\"Date_Place_1\",\"CTA_1\",\"Chat\"]},\"legend\":{\"title\":{\"text\":\"VisitedAOI\"},\"tracegroupgap\":0},\"title\":{\"text\":\"Participant: P02, Task: Slide1\"},\"barmode\":\"overlay\",\"autosize\":true,\"height\":600},                        {\"responsive\": true}                    ).then(function(){\n",
       "                            \n",
       "var gd = document.getElementById('06305012-2902-4da7-91fc-e33b4953a744');\n",
       "var x = new MutationObserver(function (mutations, observer) {{\n",
       "        var display = window.getComputedStyle(gd).display;\n",
       "        if (!display || display === 'none') {{\n",
       "            console.log([gd, 'removed!']);\n",
       "            Plotly.purge(gd);\n",
       "            observer.disconnect();\n",
       "        }}\n",
       "}});\n",
       "\n",
       "// Listen for the removal of the full notebook cells\n",
       "var notebookContainer = gd.closest('#notebook-container');\n",
       "if (notebookContainer) {{\n",
       "    x.observe(notebookContainer, {childList: true});\n",
       "}}\n",
       "\n",
       "// Listen for the clearing of the current output cell\n",
       "var outputEl = gd.closest('.output');\n",
       "if (outputEl) {{\n",
       "    x.observe(outputEl, {childList: true});\n",
       "}}\n",
       "\n",
       "                        })                };                });            </script>        </div>"
      ]
     },
     "metadata": {},
     "output_type": "display_data"
    },
    {
     "data": {
      "application/vnd.plotly.v1+json": {
       "config": {
        "plotlyServerURL": "https://plot.ly"
       },
       "data": [
        {
         "alignmentgroup": "True",
         "base": [
          "1970-01-01T00:01:12.613790",
          "1970-01-01T00:01:12.935502",
          "1970-01-01T00:01:27.618415",
          "1970-01-01T00:01:28.415376"
         ],
         "hovertemplate": "VisitedAOI=%{y}<br>Dwell Start=%{base}<br>Dwell End=%{x}<extra></extra>",
         "legendgroup": "Chat",
         "marker": {
          "color": "#636efa",
          "pattern": {
           "shape": ""
          }
         },
         "name": "Chat",
         "offsetgroup": "Chat",
         "orientation": "h",
         "showlegend": true,
         "textposition": "auto",
         "type": "bar",
         "x": [
          166.6663,
          100.0581,
          199.9415,
          283.3455
         ],
         "xaxis": "x",
         "y": [
          "Chat",
          "Chat",
          "Chat",
          "Chat"
         ],
         "yaxis": "y"
        },
        {
         "alignmentgroup": "True",
         "base": [
          "1970-01-01T00:00:03.413883",
          "1970-01-01T00:01:35.149524",
          "1970-01-01T00:01:39.694139"
         ],
         "hovertemplate": "VisitedAOI=%{y}<br>Dwell Start=%{base}<br>Dwell End=%{x}<extra></extra>",
         "legendgroup": "CTA_1",
         "marker": {
          "color": "#EF553B",
          "pattern": {
           "shape": ""
          }
         },
         "name": "CTA_1",
         "offsetgroup": "CTA_1",
         "orientation": "h",
         "showlegend": true,
         "textposition": "auto",
         "type": "bar",
         "x": [
          133.3599,
          41.6404,
          33.2832
         ],
         "xaxis": "x",
         "y": [
          "CTA_1",
          "CTA_1",
          "CTA_1"
         ],
         "yaxis": "y"
        },
        {
         "alignmentgroup": "True",
         "base": [
          "1970-01-01T00:00:00.122579",
          "1970-01-01T00:00:13.137943",
          "1970-01-01T00:00:14.712721",
          "1970-01-01T00:00:17.104098",
          "1970-01-01T00:00:19.237233",
          "1970-01-01T00:00:19.287192",
          "1970-01-01T00:00:19.495522",
          "1970-01-01T00:00:21.720276",
          "1970-01-01T00:00:52.553482",
          "1970-01-01T00:00:54.228778",
          "1970-01-01T00:00:54.553761",
          "1970-01-01T00:00:54.678824",
          "1970-01-01T00:01:37.534835",
          "1970-01-01T00:01:49.064636"
         ],
         "hovertemplate": "VisitedAOI=%{y}<br>Dwell Start=%{base}<br>Dwell End=%{x}<extra></extra>",
         "legendgroup": "Date_Place_1",
         "marker": {
          "color": "#00cc96",
          "pattern": {
           "shape": ""
          }
         },
         "name": "Date_Place_1",
         "offsetgroup": "Date_Place_1",
         "orientation": "h",
         "showlegend": true,
         "textposition": "auto",
         "type": "bar",
         "x": [
          116.6838,
          1166.4464,
          24.9918,
          199.9981,
          16.6457,
          133.3095,
          141.668,
          33.3469,
          91.6676,
          224.9977,
          116.6668,
          133.3043,
          50.0386,
          33.2862
         ],
         "xaxis": "x",
         "y": [
          "Date_Place_1",
          "Date_Place_1",
          "Date_Place_1",
          "Date_Place_1",
          "Date_Place_1",
          "Date_Place_1",
          "Date_Place_1",
          "Date_Place_1",
          "Date_Place_1",
          "Date_Place_1",
          "Date_Place_1",
          "Date_Place_1",
          "Date_Place_1",
          "Date_Place_1"
         ],
         "yaxis": "y"
        },
        {
         "alignmentgroup": "True",
         "base": [
          "1970-01-01T00:01:22.152300",
          "1970-01-01T00:01:24.810354",
          "1970-01-01T00:01:42.561621",
          "1970-01-01T00:01:48.476250"
         ],
         "hovertemplate": "VisitedAOI=%{y}<br>Dwell Start=%{base}<br>Dwell End=%{x}<extra></extra>",
         "legendgroup": "Date_Place_2",
         "marker": {
          "color": "#ab63fa",
          "pattern": {
           "shape": ""
          }
         },
         "name": "Date_Place_2",
         "offsetgroup": "Date_Place_2",
         "orientation": "h",
         "showlegend": true,
         "textposition": "auto",
         "type": "bar",
         "x": [
          258.3267,
          199.9894,
          191.6642,
          296.697401
         ],
         "xaxis": "x",
         "y": [
          "Date_Place_2",
          "Date_Place_2",
          "Date_Place_2",
          "Date_Place_2"
         ],
         "yaxis": "y"
        },
        {
         "alignmentgroup": "True",
         "base": [
          "1970-01-01T00:00:14.737713",
          "1970-01-01T00:00:15.579278",
          "1970-01-01T00:00:16.162536",
          "1970-01-01T00:00:17.320729",
          "1970-01-01T00:00:18.745582",
          "1970-01-01T00:00:20.187111",
          "1970-01-01T00:00:20.428760",
          "1970-01-01T00:00:20.478727",
          "1970-01-01T00:01:37.584874",
          "1970-01-01T00:01:49.422890"
         ],
         "hovertemplate": "VisitedAOI=%{y}<br>Dwell Start=%{base}<br>Dwell End=%{x}<extra></extra>",
         "legendgroup": "Description_1",
         "marker": {
          "color": "#FFA15A",
          "pattern": {
           "shape": ""
          }
         },
         "name": "Description_1",
         "offsetgroup": "Description_1",
         "orientation": "h",
         "showlegend": true,
         "textposition": "auto",
         "type": "bar",
         "x": [
          249.9506,
          441.6007,
          933.2395,
          958.2316,
          24.9896,
          166.6475,
          8.3064,
          8.3731,
          299.9631,
          429.7025
         ],
         "xaxis": "x",
         "y": [
          "Description_1",
          "Description_1",
          "Description_1",
          "Description_1",
          "Description_1",
          "Description_1",
          "Description_1",
          "Description_1",
          "Description_1",
          "Description_1"
         ],
         "yaxis": "y"
        },
        {
         "alignmentgroup": "True",
         "base": [
          "1970-01-01T00:00:00.447542",
          "1970-01-01T00:00:21.236985",
          "1970-01-01T00:00:22.286896",
          "1970-01-01T00:00:28.286234",
          "1970-01-01T00:00:38.060146",
          "1970-01-01T00:01:41.656964",
          "1970-01-01T00:01:46.546700",
          "1970-01-01T00:01:46.646693"
         ],
         "hovertemplate": "VisitedAOI=%{y}<br>Dwell Start=%{base}<br>Dwell End=%{x}<extra></extra>",
         "legendgroup": "Description_2",
         "marker": {
          "color": "#19d3f3",
          "pattern": {
           "shape": ""
          }
         },
         "name": "Description_2",
         "offsetgroup": "Description_2",
         "orientation": "h",
         "showlegend": true,
         "textposition": "auto",
         "type": "bar",
         "x": [
          116.6637,
          349.972,
          5757.7528,
          8232.4247,
          524.953,
          175.0028,
          8.3487,
          83.3129
         ],
         "xaxis": "x",
         "y": [
          "Description_2",
          "Description_2",
          "Description_2",
          "Description_2",
          "Description_2",
          "Description_2",
          "Description_2",
          "Description_2"
         ],
         "yaxis": "y"
        },
        {
         "alignmentgroup": "True",
         "base": [
          "1970-01-01T00:01:12.022209",
          "1970-01-01T00:01:12.547130",
          "1970-01-01T00:01:27.185120",
          "1970-01-01T00:01:28.290385",
          "1970-01-01T00:01:31.003551",
          "1970-01-01T00:01:43.494872"
         ],
         "hovertemplate": "VisitedAOI=%{y}<br>Dwell Start=%{base}<br>Dwell End=%{x}<extra></extra>",
         "legendgroup": "Fav",
         "marker": {
          "color": "#FF6692",
          "pattern": {
           "shape": ""
          }
         },
         "name": "Fav",
         "offsetgroup": "Fav",
         "orientation": "h",
         "showlegend": true,
         "textposition": "auto",
         "type": "bar",
         "x": [
          224.9588,
          8.332101,
          349.9731,
          16.6583,
          58.328,
          124.9837
         ],
         "xaxis": "x",
         "y": [
          "Fav",
          "Fav",
          "Fav",
          "Fav",
          "Fav",
          "Fav"
         ],
         "yaxis": "y"
        },
        {
         "alignmentgroup": "True",
         "base": [
          "1970-01-01T00:00:00.839167",
          "1970-01-01T00:00:01.672450",
          "1970-01-01T00:00:03.597239",
          "1970-01-01T00:01:21.360982",
          "1970-01-01T00:01:35.216148",
          "1970-01-01T00:01:46.730006",
          "1970-01-01T00:01:48.772947"
         ],
         "hovertemplate": "VisitedAOI=%{y}<br>Dwell Start=%{base}<br>Dwell End=%{x}<extra></extra>",
         "legendgroup": "Food",
         "marker": {
          "color": "#B6E880",
          "pattern": {
           "shape": ""
          }
         },
         "name": "Food",
         "offsetgroup": "Food",
         "orientation": "h",
         "showlegend": true,
         "textposition": "auto",
         "type": "bar",
         "x": [
          799.9106,
          1141.4977,
          916.5334,
          566.3501,
          363.5129,
          283.3138,
          208.3311
         ],
         "xaxis": "x",
         "y": [
          "Food",
          "Food",
          "Food",
          "Food",
          "Food",
          "Food",
          "Food"
         ],
         "yaxis": "y"
        },
        {
         "alignmentgroup": "True",
         "base": [
          "1970-01-01T00:00:02.855636",
          "1970-01-01T00:00:04.572103",
          "1970-01-01T00:00:05.097029",
          "1970-01-01T00:00:05.380371",
          "1970-01-01T00:00:06.813511",
          "1970-01-01T00:00:08.371706",
          "1970-01-01T00:00:09.396581",
          "1970-01-01T00:01:29.148632",
          "1970-01-01T00:01:29.773632",
          "1970-01-01T00:01:34.674544",
          "1970-01-01T00:01:35.041225",
          "1970-01-01T00:01:35.946284",
          "1970-01-01T00:01:36.818248",
          "1970-01-01T00:01:38.597841",
          "1970-01-01T00:01:39.902447"
         ],
         "hovertemplate": "VisitedAOI=%{y}<br>Dwell Start=%{base}<br>Dwell End=%{x}<extra></extra>",
         "legendgroup": "Gen_Info",
         "marker": {
          "color": "#FF97FF",
          "pattern": {
           "shape": ""
          }
         },
         "name": "Gen_Info",
         "offsetgroup": "Gen_Info",
         "orientation": "h",
         "showlegend": true,
         "textposition": "auto",
         "type": "bar",
         "x": [
          558.2467,
          499.9529,
          275.0121,
          1049.8457,
          199.9773,
          558.239,
          299.9504,
          466.6174,
          738.2955,
          299.966499,
          108.2985,
          608.265,
          391.6729,
          974.8656,
          83.3504
         ],
         "xaxis": "x",
         "y": [
          "Gen_Info",
          "Gen_Info",
          "Gen_Info",
          "Gen_Info",
          "Gen_Info",
          "Gen_Info",
          "Gen_Info",
          "Gen_Info",
          "Gen_Info",
          "Gen_Info",
          "Gen_Info",
          "Gen_Info",
          "Gen_Info",
          "Gen_Info",
          "Gen_Info"
         ],
         "yaxis": "y"
        },
        {
         "alignmentgroup": "True",
         "base": [
          "1970-01-01T00:00:36.543654",
          "1970-01-01T00:00:37.601896",
          "1970-01-01T00:00:38.685093",
          "1970-01-01T00:00:42.647924",
          "1970-01-01T00:00:44.181102",
          "1970-01-01T00:00:45.689248",
          "1970-01-01T00:00:47.594450",
          "1970-01-01T00:00:49.857577",
          "1970-01-01T00:01:28.773680",
          "1970-01-01T00:01:40.060723",
          "1970-01-01T00:01:40.902333"
         ],
         "hovertemplate": "VisitedAOI=%{y}<br>Dwell Start=%{base}<br>Dwell End=%{x}<extra></extra>",
         "legendgroup": "Ingredients",
         "marker": {
          "color": "#FECB52",
          "pattern": {
           "shape": ""
          }
         },
         "name": "Ingredients",
         "offsetgroup": "Ingredients",
         "orientation": "h",
         "showlegend": true,
         "textposition": "auto",
         "type": "bar",
         "x": [
          1033.2112,
          208.29,
          2204.6978,
          1016.5871,
          866.5624,
          1388.58,
          1158.1752,
          1016.328,
          174.9584,
          349.995,
          754.6316
         ],
         "xaxis": "x",
         "y": [
          "Ingredients",
          "Ingredients",
          "Ingredients",
          "Ingredients",
          "Ingredients",
          "Ingredients",
          "Ingredients",
          "Ingredients",
          "Ingredients",
          "Ingredients",
          "Ingredients"
         ],
         "yaxis": "y"
        },
        {
         "alignmentgroup": "True",
         "base": [
          "1970-01-01T00:00:00.314254",
          "1970-01-01T00:00:56.050673",
          "1970-01-01T00:00:56.383991",
          "1970-01-01T00:00:56.842291",
          "1970-01-01T00:00:58.108793",
          "1970-01-01T00:00:58.333762",
          "1970-01-01T00:01:45.721799"
         ],
         "hovertemplate": "VisitedAOI=%{y}<br>Dwell Start=%{base}<br>Dwell End=%{x}<extra></extra>",
         "legendgroup": "Instructions",
         "marker": {
          "color": "#636efa",
          "pattern": {
           "shape": ""
          }
         },
         "name": "Instructions",
         "offsetgroup": "Instructions",
         "orientation": "h",
         "showlegend": true,
         "textposition": "auto",
         "type": "bar",
         "x": [
          24.9684,
          308.2964,
          16.6936,
          866.5563,
          150.0238,
          12608.406,
          466.6064
         ],
         "xaxis": "x",
         "y": [
          "Instructions",
          "Instructions",
          "Instructions",
          "Instructions",
          "Instructions",
          "Instructions",
          "Instructions"
         ],
         "yaxis": "y"
        },
        {
         "alignmentgroup": "True",
         "base": [
          "1970-01-01T00:01:16.151798",
          "1970-01-01T00:01:16.410178",
          "1970-01-01T00:01:16.751776",
          "1970-01-01T00:01:17.085070",
          "1970-01-01T00:01:17.218352"
         ],
         "hovertemplate": "VisitedAOI=%{y}<br>Dwell Start=%{base}<br>Dwell End=%{x}<extra></extra>",
         "legendgroup": "Online",
         "marker": {
          "color": "#EF553B",
          "pattern": {
           "shape": ""
          }
         },
         "name": "Online",
         "offsetgroup": "Online",
         "orientation": "h",
         "showlegend": true,
         "textposition": "auto",
         "type": "bar",
         "x": [
          150.0053,
          74.9441,
          258.2724,
          8.3009,
          608.294
         ],
         "xaxis": "x",
         "y": [
          "Online",
          "Online",
          "Online",
          "Online",
          "Online"
         ],
         "yaxis": "y"
        },
        {
         "alignmentgroup": "True",
         "base": [
          "1970-01-01T00:00:07.580093",
          "1970-01-01T00:00:09.238257",
          "1970-01-01T00:00:09.704864",
          "1970-01-01T00:00:11.038107",
          "1970-01-01T00:00:52.757983",
          "1970-01-01T00:00:53.282806",
          "1970-01-01T00:00:53.741086",
          "1970-01-01T00:01:35.637993",
          "1970-01-01T00:01:37.351547",
          "1970-01-01T00:01:38.193093"
         ],
         "hovertemplate": "VisitedAOI=%{y}<br>Dwell Start=%{base}<br>Dwell End=%{x}<extra></extra>",
         "legendgroup": "Participants_Overview",
         "marker": {
          "color": "#00cc96",
          "pattern": {
           "shape": ""
          }
         },
         "name": "Participants_Overview",
         "offsetgroup": "Participants_Overview",
         "orientation": "h",
         "showlegend": true,
         "textposition": "auto",
         "type": "bar",
         "x": [
          424.9781,
          25.02,
          1249.8806,
          2024.7482,
          208.2309,
          24.9928,
          324.9688,
          283.2902,
          16.6349,
          354.7305
         ],
         "xaxis": "x",
         "y": [
          "Participants_Overview",
          "Participants_Overview",
          "Participants_Overview",
          "Participants_Overview",
          "Participants_Overview",
          "Participants_Overview",
          "Participants_Overview",
          "Participants_Overview",
          "Participants_Overview",
          "Participants_Overview"
         ],
         "yaxis": "y"
        },
        {
         "alignmentgroup": "True",
         "base": [
          "1970-01-01T00:01:11.872261",
          "1970-01-01T00:01:13.085493",
          "1970-01-01T00:01:18.347876",
          "1970-01-01T00:01:20.272680",
          "1970-01-01T00:01:27.935044",
          "1970-01-01T00:01:45.516695"
         ],
         "hovertemplate": "VisitedAOI=%{y}<br>Dwell Start=%{base}<br>Dwell End=%{x}<extra></extra>",
         "legendgroup": "Participant_Bio",
         "marker": {
          "color": "#ab63fa",
          "pattern": {
           "shape": ""
          }
         },
         "name": "Participant_Bio",
         "offsetgroup": "Participant_Bio",
         "orientation": "h",
         "showlegend": true,
         "textposition": "auto",
         "type": "bar",
         "x": [
          91.5974,
          399.9392,
          1866.4739,
          149.9715,
          141.6411,
          83.3691
         ],
         "xaxis": "x",
         "y": [
          "Participant_Bio",
          "Participant_Bio",
          "Participant_Bio",
          "Participant_Bio",
          "Participant_Bio",
          "Participant_Bio"
         ],
         "yaxis": "y"
        },
        {
         "alignmentgroup": "True",
         "base": [
          "1970-01-01T00:00:00.622552",
          "1970-01-01T00:01:11.464690",
          "1970-01-01T00:01:20.430996",
          "1970-01-01T00:01:23.268873",
          "1970-01-01T00:01:26.126889",
          "1970-01-01T00:01:26.693489",
          "1970-01-01T00:01:30.661907",
          "1970-01-01T00:01:31.803473",
          "1970-01-01T00:01:33.416343",
          "1970-01-01T00:01:34.307949",
          "1970-01-01T00:01:42.819911",
          "1970-01-01T00:01:43.061579",
          "1970-01-01T00:01:43.403182",
          "1970-01-01T00:01:46.188405",
          "1970-01-01T00:01:50.277530"
         ],
         "hovertemplate": "VisitedAOI=%{y}<br>Dwell Start=%{base}<br>Dwell End=%{x}<extra></extra>",
         "legendgroup": "Participant_Profile_Picture",
         "marker": {
          "color": "#FFA15A",
          "pattern": {
           "shape": ""
          }
         },
         "name": "Participant_Profile_Picture",
         "offsetgroup": "Participant_Profile_Picture",
         "orientation": "h",
         "showlegend": true,
         "textposition": "auto",
         "type": "bar",
         "x": [
          100.0011,
          315.8701,
          816.5527,
          266.6107,
          266.644,
          491.6314,
          216.661,
          829.6303,
          383.3145,
          8.3329,
          116.6552,
          149.975,
          91.6899,
          291.6319,
          274.969
         ],
         "xaxis": "x",
         "y": [
          "Participant_Profile_Picture",
          "Participant_Profile_Picture",
          "Participant_Profile_Picture",
          "Participant_Profile_Picture",
          "Participant_Profile_Picture",
          "Participant_Profile_Picture",
          "Participant_Profile_Picture",
          "Participant_Profile_Picture",
          "Participant_Profile_Picture",
          "Participant_Profile_Picture",
          "Participant_Profile_Picture",
          "Participant_Profile_Picture",
          "Participant_Profile_Picture",
          "Participant_Profile_Picture",
          "Participant_Profile_Picture"
         ],
         "yaxis": "y"
        },
        {
         "alignmentgroup": "True",
         "base": [
          "1970-01-01T00:01:13.485432",
          "1970-01-01T00:01:13.652128",
          "1970-01-01T00:01:15.335261",
          "1970-01-01T00:01:16.318529",
          "1970-01-01T00:01:43.733770",
          "1970-01-01T00:01:44.858430",
          "1970-01-01T00:01:44.933429"
         ],
         "hovertemplate": "VisitedAOI=%{y}<br>Dwell Start=%{base}<br>Dwell End=%{x}<extra></extra>",
         "legendgroup": "Place",
         "marker": {
          "color": "#19d3f3",
          "pattern": {
           "shape": ""
          }
         },
         "name": "Place",
         "offsetgroup": "Place",
         "orientation": "h",
         "showlegend": true,
         "textposition": "auto",
         "type": "bar",
         "x": [
          141.696399,
          191.6364,
          466.598401,
          74.9262,
          249.7564,
          25.0261,
          333.3034
         ],
         "xaxis": "x",
         "y": [
          "Place",
          "Place",
          "Place",
          "Place",
          "Place",
          "Place",
          "Place"
         ],
         "yaxis": "y"
        },
        {
         "alignmentgroup": "True",
         "base": [
          "1970-01-01T00:00:40.889791",
          "1970-01-01T00:00:43.664511",
          "1970-01-01T00:00:45.047665",
          "1970-01-01T00:00:47.086165",
          "1970-01-01T00:00:48.752625",
          "1970-01-01T00:00:50.873905",
          "1970-01-01T00:00:54.853741"
         ],
         "hovertemplate": "VisitedAOI=%{y}<br>Dwell Start=%{base}<br>Dwell End=%{x}<extra></extra>",
         "legendgroup": "Responsabilities",
         "marker": {
          "color": "#FF6692",
          "pattern": {
           "shape": ""
          }
         },
         "name": "Responsabilities",
         "offsetgroup": "Responsabilities",
         "orientation": "h",
         "showlegend": true,
         "textposition": "auto",
         "type": "bar",
         "x": [
          1758.133,
          466.617,
          641.5837,
          508.2855,
          991.5522,
          1537.9471,
          1196.9323
         ],
         "xaxis": "x",
         "y": [
          "Responsabilities",
          "Responsabilities",
          "Responsabilities",
          "Responsabilities",
          "Responsabilities",
          "Responsabilities",
          "Responsabilities"
         ],
         "yaxis": "y"
        },
        {
         "alignmentgroup": "True",
         "base": [
          "1970-01-01T00:01:14.960281",
          "1970-01-01T00:01:17.876656"
         ],
         "hovertemplate": "VisitedAOI=%{y}<br>Dwell Start=%{base}<br>Dwell End=%{x}<extra></extra>",
         "legendgroup": "Status",
         "marker": {
          "color": "#B6E880",
          "pattern": {
           "shape": ""
          }
         },
         "name": "Status",
         "offsetgroup": "Status",
         "orientation": "h",
         "showlegend": true,
         "textposition": "auto",
         "type": "bar",
         "x": [
          324.9781,
          412.9003
         ],
         "xaxis": "x",
         "y": [
          "Status",
          "Status"
         ],
         "yaxis": "y"
        },
        {
         "alignmentgroup": "True",
         "base": [
          "1970-01-01T00:01:13.843765",
          "1970-01-01T00:01:44.008519"
         ],
         "hovertemplate": "VisitedAOI=%{y}<br>Dwell Start=%{base}<br>Dwell End=%{x}<extra></extra>",
         "legendgroup": "Verified",
         "marker": {
          "color": "#FF97FF",
          "pattern": {
           "shape": ""
          }
         },
         "name": "Verified",
         "offsetgroup": "Verified",
         "orientation": "h",
         "showlegend": true,
         "textposition": "auto",
         "type": "bar",
         "x": [
          1116.5163,
          216.647
         ],
         "xaxis": "x",
         "y": [
          "Verified",
          "Verified"
         ],
         "yaxis": "y"
        }
       ],
       "layout": {
        "autosize": true,
        "barmode": "overlay",
        "legend": {
         "title": {
          "text": "VisitedAOI"
         },
         "tracegroupgap": 0
        },
        "template": {
         "data": {
          "bar": [
           {
            "error_x": {
             "color": "#2a3f5f"
            },
            "error_y": {
             "color": "#2a3f5f"
            },
            "marker": {
             "line": {
              "color": "#E5ECF6",
              "width": 0.5
             },
             "pattern": {
              "fillmode": "overlay",
              "size": 10,
              "solidity": 0.2
             }
            },
            "type": "bar"
           }
          ],
          "barpolar": [
           {
            "marker": {
             "line": {
              "color": "#E5ECF6",
              "width": 0.5
             },
             "pattern": {
              "fillmode": "overlay",
              "size": 10,
              "solidity": 0.2
             }
            },
            "type": "barpolar"
           }
          ],
          "carpet": [
           {
            "aaxis": {
             "endlinecolor": "#2a3f5f",
             "gridcolor": "white",
             "linecolor": "white",
             "minorgridcolor": "white",
             "startlinecolor": "#2a3f5f"
            },
            "baxis": {
             "endlinecolor": "#2a3f5f",
             "gridcolor": "white",
             "linecolor": "white",
             "minorgridcolor": "white",
             "startlinecolor": "#2a3f5f"
            },
            "type": "carpet"
           }
          ],
          "choropleth": [
           {
            "colorbar": {
             "outlinewidth": 0,
             "ticks": ""
            },
            "type": "choropleth"
           }
          ],
          "contour": [
           {
            "colorbar": {
             "outlinewidth": 0,
             "ticks": ""
            },
            "colorscale": [
             [
              0,
              "#0d0887"
             ],
             [
              0.1111111111111111,
              "#46039f"
             ],
             [
              0.2222222222222222,
              "#7201a8"
             ],
             [
              0.3333333333333333,
              "#9c179e"
             ],
             [
              0.4444444444444444,
              "#bd3786"
             ],
             [
              0.5555555555555556,
              "#d8576b"
             ],
             [
              0.6666666666666666,
              "#ed7953"
             ],
             [
              0.7777777777777778,
              "#fb9f3a"
             ],
             [
              0.8888888888888888,
              "#fdca26"
             ],
             [
              1,
              "#f0f921"
             ]
            ],
            "type": "contour"
           }
          ],
          "contourcarpet": [
           {
            "colorbar": {
             "outlinewidth": 0,
             "ticks": ""
            },
            "type": "contourcarpet"
           }
          ],
          "heatmap": [
           {
            "colorbar": {
             "outlinewidth": 0,
             "ticks": ""
            },
            "colorscale": [
             [
              0,
              "#0d0887"
             ],
             [
              0.1111111111111111,
              "#46039f"
             ],
             [
              0.2222222222222222,
              "#7201a8"
             ],
             [
              0.3333333333333333,
              "#9c179e"
             ],
             [
              0.4444444444444444,
              "#bd3786"
             ],
             [
              0.5555555555555556,
              "#d8576b"
             ],
             [
              0.6666666666666666,
              "#ed7953"
             ],
             [
              0.7777777777777778,
              "#fb9f3a"
             ],
             [
              0.8888888888888888,
              "#fdca26"
             ],
             [
              1,
              "#f0f921"
             ]
            ],
            "type": "heatmap"
           }
          ],
          "heatmapgl": [
           {
            "colorbar": {
             "outlinewidth": 0,
             "ticks": ""
            },
            "colorscale": [
             [
              0,
              "#0d0887"
             ],
             [
              0.1111111111111111,
              "#46039f"
             ],
             [
              0.2222222222222222,
              "#7201a8"
             ],
             [
              0.3333333333333333,
              "#9c179e"
             ],
             [
              0.4444444444444444,
              "#bd3786"
             ],
             [
              0.5555555555555556,
              "#d8576b"
             ],
             [
              0.6666666666666666,
              "#ed7953"
             ],
             [
              0.7777777777777778,
              "#fb9f3a"
             ],
             [
              0.8888888888888888,
              "#fdca26"
             ],
             [
              1,
              "#f0f921"
             ]
            ],
            "type": "heatmapgl"
           }
          ],
          "histogram": [
           {
            "marker": {
             "pattern": {
              "fillmode": "overlay",
              "size": 10,
              "solidity": 0.2
             }
            },
            "type": "histogram"
           }
          ],
          "histogram2d": [
           {
            "colorbar": {
             "outlinewidth": 0,
             "ticks": ""
            },
            "colorscale": [
             [
              0,
              "#0d0887"
             ],
             [
              0.1111111111111111,
              "#46039f"
             ],
             [
              0.2222222222222222,
              "#7201a8"
             ],
             [
              0.3333333333333333,
              "#9c179e"
             ],
             [
              0.4444444444444444,
              "#bd3786"
             ],
             [
              0.5555555555555556,
              "#d8576b"
             ],
             [
              0.6666666666666666,
              "#ed7953"
             ],
             [
              0.7777777777777778,
              "#fb9f3a"
             ],
             [
              0.8888888888888888,
              "#fdca26"
             ],
             [
              1,
              "#f0f921"
             ]
            ],
            "type": "histogram2d"
           }
          ],
          "histogram2dcontour": [
           {
            "colorbar": {
             "outlinewidth": 0,
             "ticks": ""
            },
            "colorscale": [
             [
              0,
              "#0d0887"
             ],
             [
              0.1111111111111111,
              "#46039f"
             ],
             [
              0.2222222222222222,
              "#7201a8"
             ],
             [
              0.3333333333333333,
              "#9c179e"
             ],
             [
              0.4444444444444444,
              "#bd3786"
             ],
             [
              0.5555555555555556,
              "#d8576b"
             ],
             [
              0.6666666666666666,
              "#ed7953"
             ],
             [
              0.7777777777777778,
              "#fb9f3a"
             ],
             [
              0.8888888888888888,
              "#fdca26"
             ],
             [
              1,
              "#f0f921"
             ]
            ],
            "type": "histogram2dcontour"
           }
          ],
          "mesh3d": [
           {
            "colorbar": {
             "outlinewidth": 0,
             "ticks": ""
            },
            "type": "mesh3d"
           }
          ],
          "parcoords": [
           {
            "line": {
             "colorbar": {
              "outlinewidth": 0,
              "ticks": ""
             }
            },
            "type": "parcoords"
           }
          ],
          "pie": [
           {
            "automargin": true,
            "type": "pie"
           }
          ],
          "scatter": [
           {
            "fillpattern": {
             "fillmode": "overlay",
             "size": 10,
             "solidity": 0.2
            },
            "type": "scatter"
           }
          ],
          "scatter3d": [
           {
            "line": {
             "colorbar": {
              "outlinewidth": 0,
              "ticks": ""
             }
            },
            "marker": {
             "colorbar": {
              "outlinewidth": 0,
              "ticks": ""
             }
            },
            "type": "scatter3d"
           }
          ],
          "scattercarpet": [
           {
            "marker": {
             "colorbar": {
              "outlinewidth": 0,
              "ticks": ""
             }
            },
            "type": "scattercarpet"
           }
          ],
          "scattergeo": [
           {
            "marker": {
             "colorbar": {
              "outlinewidth": 0,
              "ticks": ""
             }
            },
            "type": "scattergeo"
           }
          ],
          "scattergl": [
           {
            "marker": {
             "colorbar": {
              "outlinewidth": 0,
              "ticks": ""
             }
            },
            "type": "scattergl"
           }
          ],
          "scattermapbox": [
           {
            "marker": {
             "colorbar": {
              "outlinewidth": 0,
              "ticks": ""
             }
            },
            "type": "scattermapbox"
           }
          ],
          "scatterpolar": [
           {
            "marker": {
             "colorbar": {
              "outlinewidth": 0,
              "ticks": ""
             }
            },
            "type": "scatterpolar"
           }
          ],
          "scatterpolargl": [
           {
            "marker": {
             "colorbar": {
              "outlinewidth": 0,
              "ticks": ""
             }
            },
            "type": "scatterpolargl"
           }
          ],
          "scatterternary": [
           {
            "marker": {
             "colorbar": {
              "outlinewidth": 0,
              "ticks": ""
             }
            },
            "type": "scatterternary"
           }
          ],
          "surface": [
           {
            "colorbar": {
             "outlinewidth": 0,
             "ticks": ""
            },
            "colorscale": [
             [
              0,
              "#0d0887"
             ],
             [
              0.1111111111111111,
              "#46039f"
             ],
             [
              0.2222222222222222,
              "#7201a8"
             ],
             [
              0.3333333333333333,
              "#9c179e"
             ],
             [
              0.4444444444444444,
              "#bd3786"
             ],
             [
              0.5555555555555556,
              "#d8576b"
             ],
             [
              0.6666666666666666,
              "#ed7953"
             ],
             [
              0.7777777777777778,
              "#fb9f3a"
             ],
             [
              0.8888888888888888,
              "#fdca26"
             ],
             [
              1,
              "#f0f921"
             ]
            ],
            "type": "surface"
           }
          ],
          "table": [
           {
            "cells": {
             "fill": {
              "color": "#EBF0F8"
             },
             "line": {
              "color": "white"
             }
            },
            "header": {
             "fill": {
              "color": "#C8D4E3"
             },
             "line": {
              "color": "white"
             }
            },
            "type": "table"
           }
          ]
         },
         "layout": {
          "annotationdefaults": {
           "arrowcolor": "#2a3f5f",
           "arrowhead": 0,
           "arrowwidth": 1
          },
          "autotypenumbers": "strict",
          "coloraxis": {
           "colorbar": {
            "outlinewidth": 0,
            "ticks": ""
           }
          },
          "colorscale": {
           "diverging": [
            [
             0,
             "#8e0152"
            ],
            [
             0.1,
             "#c51b7d"
            ],
            [
             0.2,
             "#de77ae"
            ],
            [
             0.3,
             "#f1b6da"
            ],
            [
             0.4,
             "#fde0ef"
            ],
            [
             0.5,
             "#f7f7f7"
            ],
            [
             0.6,
             "#e6f5d0"
            ],
            [
             0.7,
             "#b8e186"
            ],
            [
             0.8,
             "#7fbc41"
            ],
            [
             0.9,
             "#4d9221"
            ],
            [
             1,
             "#276419"
            ]
           ],
           "sequential": [
            [
             0,
             "#0d0887"
            ],
            [
             0.1111111111111111,
             "#46039f"
            ],
            [
             0.2222222222222222,
             "#7201a8"
            ],
            [
             0.3333333333333333,
             "#9c179e"
            ],
            [
             0.4444444444444444,
             "#bd3786"
            ],
            [
             0.5555555555555556,
             "#d8576b"
            ],
            [
             0.6666666666666666,
             "#ed7953"
            ],
            [
             0.7777777777777778,
             "#fb9f3a"
            ],
            [
             0.8888888888888888,
             "#fdca26"
            ],
            [
             1,
             "#f0f921"
            ]
           ],
           "sequentialminus": [
            [
             0,
             "#0d0887"
            ],
            [
             0.1111111111111111,
             "#46039f"
            ],
            [
             0.2222222222222222,
             "#7201a8"
            ],
            [
             0.3333333333333333,
             "#9c179e"
            ],
            [
             0.4444444444444444,
             "#bd3786"
            ],
            [
             0.5555555555555556,
             "#d8576b"
            ],
            [
             0.6666666666666666,
             "#ed7953"
            ],
            [
             0.7777777777777778,
             "#fb9f3a"
            ],
            [
             0.8888888888888888,
             "#fdca26"
            ],
            [
             1,
             "#f0f921"
            ]
           ]
          },
          "colorway": [
           "#636efa",
           "#EF553B",
           "#00cc96",
           "#ab63fa",
           "#FFA15A",
           "#19d3f3",
           "#FF6692",
           "#B6E880",
           "#FF97FF",
           "#FECB52"
          ],
          "font": {
           "color": "#2a3f5f"
          },
          "geo": {
           "bgcolor": "white",
           "lakecolor": "white",
           "landcolor": "#E5ECF6",
           "showlakes": true,
           "showland": true,
           "subunitcolor": "white"
          },
          "hoverlabel": {
           "align": "left"
          },
          "hovermode": "closest",
          "mapbox": {
           "style": "light"
          },
          "paper_bgcolor": "white",
          "plot_bgcolor": "#E5ECF6",
          "polar": {
           "angularaxis": {
            "gridcolor": "white",
            "linecolor": "white",
            "ticks": ""
           },
           "bgcolor": "#E5ECF6",
           "radialaxis": {
            "gridcolor": "white",
            "linecolor": "white",
            "ticks": ""
           }
          },
          "scene": {
           "xaxis": {
            "backgroundcolor": "#E5ECF6",
            "gridcolor": "white",
            "gridwidth": 2,
            "linecolor": "white",
            "showbackground": true,
            "ticks": "",
            "zerolinecolor": "white"
           },
           "yaxis": {
            "backgroundcolor": "#E5ECF6",
            "gridcolor": "white",
            "gridwidth": 2,
            "linecolor": "white",
            "showbackground": true,
            "ticks": "",
            "zerolinecolor": "white"
           },
           "zaxis": {
            "backgroundcolor": "#E5ECF6",
            "gridcolor": "white",
            "gridwidth": 2,
            "linecolor": "white",
            "showbackground": true,
            "ticks": "",
            "zerolinecolor": "white"
           }
          },
          "shapedefaults": {
           "line": {
            "color": "#2a3f5f"
           }
          },
          "ternary": {
           "aaxis": {
            "gridcolor": "white",
            "linecolor": "white",
            "ticks": ""
           },
           "baxis": {
            "gridcolor": "white",
            "linecolor": "white",
            "ticks": ""
           },
           "bgcolor": "#E5ECF6",
           "caxis": {
            "gridcolor": "white",
            "linecolor": "white",
            "ticks": ""
           }
          },
          "title": {
           "x": 0.05
          },
          "xaxis": {
           "automargin": true,
           "gridcolor": "white",
           "linecolor": "white",
           "ticks": "",
           "title": {
            "standoff": 15
           },
           "zerolinecolor": "white",
           "zerolinewidth": 2
          },
          "yaxis": {
           "automargin": true,
           "gridcolor": "white",
           "linecolor": "white",
           "ticks": "",
           "title": {
            "standoff": 15
           },
           "zerolinecolor": "white",
           "zerolinewidth": 2
          }
         }
        },
        "title": {
         "text": "Participant: P03, Task: Slide1"
        },
        "xaxis": {
         "anchor": "y",
         "autorange": true,
         "domain": [
          0,
          1
         ],
         "range": [
          "1969-12-31 23:59:53.9876",
          "1970-01-01 00:01:56.6875"
         ],
         "tickformat": "%Q",
         "type": "date"
        },
        "yaxis": {
         "anchor": "x",
         "autorange": true,
         "categoryarray": [
          "Verified",
          "Status",
          "Responsabilities",
          "Place",
          "Participant_Profile_Picture",
          "Participant_Bio",
          "Participants_Overview",
          "Online",
          "Instructions",
          "Ingredients",
          "Gen_Info",
          "Food",
          "Fav",
          "Description_2",
          "Description_1",
          "Date_Place_2",
          "Date_Place_1",
          "CTA_1",
          "Chat"
         ],
         "categoryorder": "array",
         "domain": [
          0,
          1
         ],
         "range": [
          -0.5,
          18.5
         ],
         "title": {
          "text": "VisitedAOI"
         },
         "type": "category"
        }
       }
      },
      "image/png": "[encoded data removed]",
      "text/html": [
       "<div>                            <div id=\"18a172c1-840e-4527-a755-75b6bfdcc2c3\" class=\"plotly-graph-div\" style=\"height:600px; width:100%;\"></div>            <script type=\"text/javascript\">                require([\"plotly\"], function(Plotly) {                    window.PLOTLYENV=window.PLOTLYENV || {};                                    if (document.getElementById(\"18a172c1-840e-4527-a755-75b6bfdcc2c3\")) {                    Plotly.newPlot(                        \"18a172c1-840e-4527-a755-75b6bfdcc2c3\",                        [{\"alignmentgroup\":\"True\",\"base\":[\"1970-01-01T00:01:12.613790\",\"1970-01-01T00:01:12.935502\",\"1970-01-01T00:01:27.618415\",\"1970-01-01T00:01:28.415376\"],\"hovertemplate\":\"VisitedAOI=%{y}\\u003cbr\\u003eDwell Start=%{base}\\u003cbr\\u003eDwell End=%{x}\\u003cextra\\u003e\\u003c\\u002fextra\\u003e\",\"legendgroup\":\"Chat\",\"marker\":{\"color\":\"#636efa\",\"pattern\":{\"shape\":\"\"}},\"name\":\"Chat\",\"offsetgroup\":\"Chat\",\"orientation\":\"h\",\"showlegend\":true,\"textposition\":\"auto\",\"x\":[166.6663,100.0581,199.9415,283.3455],\"xaxis\":\"x\",\"y\":[\"Chat\",\"Chat\",\"Chat\",\"Chat\"],\"yaxis\":\"y\",\"type\":\"bar\"},{\"alignmentgroup\":\"True\",\"base\":[\"1970-01-01T00:00:03.413883\",\"1970-01-01T00:01:35.149524\",\"1970-01-01T00:01:39.694139\"],\"hovertemplate\":\"VisitedAOI=%{y}\\u003cbr\\u003eDwell Start=%{base}\\u003cbr\\u003eDwell End=%{x}\\u003cextra\\u003e\\u003c\\u002fextra\\u003e\",\"legendgroup\":\"CTA_1\",\"marker\":{\"color\":\"#EF553B\",\"pattern\":{\"shape\":\"\"}},\"name\":\"CTA_1\",\"offsetgroup\":\"CTA_1\",\"orientation\":\"h\",\"showlegend\":true,\"textposition\":\"auto\",\"x\":[133.3599,41.6404,33.2832],\"xaxis\":\"x\",\"y\":[\"CTA_1\",\"CTA_1\",\"CTA_1\"],\"yaxis\":\"y\",\"type\":\"bar\"},{\"alignmentgroup\":\"True\",\"base\":[\"1970-01-01T00:00:00.122579\",\"1970-01-01T00:00:13.137943\",\"1970-01-01T00:00:14.712721\",\"1970-01-01T00:00:17.104098\",\"1970-01-01T00:00:19.237233\",\"1970-01-01T00:00:19.287192\",\"1970-01-01T00:00:19.495522\",\"1970-01-01T00:00:21.720276\",\"1970-01-01T00:00:52.553482\",\"1970-01-01T00:00:54.228778\",\"1970-01-01T00:00:54.553761\",\"1970-01-01T00:00:54.678824\",\"1970-01-01T00:01:37.534835\",\"1970-01-01T00:01:49.064636\"],\"hovertemplate\":\"VisitedAOI=%{y}\\u003cbr\\u003eDwell Start=%{base}\\u003cbr\\u003eDwell End=%{x}\\u003cextra\\u003e\\u003c\\u002fextra\\u003e\",\"legendgroup\":\"Date_Place_1\",\"marker\":{\"color\":\"#00cc96\",\"pattern\":{\"shape\":\"\"}},\"name\":\"Date_Place_1\",\"offsetgroup\":\"Date_Place_1\",\"orientation\":\"h\",\"showlegend\":true,\"textposition\":\"auto\",\"x\":[116.6838,1166.4464,24.9918,199.9981,16.6457,133.3095,141.668,33.3469,91.6676,224.9977,116.6668,133.3043,50.0386,33.2862],\"xaxis\":\"x\",\"y\":[\"Date_Place_1\",\"Date_Place_1\",\"Date_Place_1\",\"Date_Place_1\",\"Date_Place_1\",\"Date_Place_1\",\"Date_Place_1\",\"Date_Place_1\",\"Date_Place_1\",\"Date_Place_1\",\"Date_Place_1\",\"Date_Place_1\",\"Date_Place_1\",\"Date_Place_1\"],\"yaxis\":\"y\",\"type\":\"bar\"},{\"alignmentgroup\":\"True\",\"base\":[\"1970-01-01T00:01:22.152300\",\"1970-01-01T00:01:24.810354\",\"1970-01-01T00:01:42.561621\",\"1970-01-01T00:01:48.476250\"],\"hovertemplate\":\"VisitedAOI=%{y}\\u003cbr\\u003eDwell Start=%{base}\\u003cbr\\u003eDwell End=%{x}\\u003cextra\\u003e\\u003c\\u002fextra\\u003e\",\"legendgroup\":\"Date_Place_2\",\"marker\":{\"color\":\"#ab63fa\",\"pattern\":{\"shape\":\"\"}},\"name\":\"Date_Place_2\",\"offsetgroup\":\"Date_Place_2\",\"orientation\":\"h\",\"showlegend\":true,\"textposition\":\"auto\",\"x\":[258.3267,199.9894,191.6642,296.697401],\"xaxis\":\"x\",\"y\":[\"Date_Place_2\",\"Date_Place_2\",\"Date_Place_2\",\"Date_Place_2\"],\"yaxis\":\"y\",\"type\":\"bar\"},{\"alignmentgroup\":\"True\",\"base\":[\"1970-01-01T00:00:14.737713\",\"1970-01-01T00:00:15.579278\",\"1970-01-01T00:00:16.162536\",\"1970-01-01T00:00:17.320729\",\"1970-01-01T00:00:18.745582\",\"1970-01-01T00:00:20.187111\",\"1970-01-01T00:00:20.428760\",\"1970-01-01T00:00:20.478727\",\"1970-01-01T00:01:37.584874\",\"1970-01-01T00:01:49.422890\"],\"hovertemplate\":\"VisitedAOI=%{y}\\u003cbr\\u003eDwell Start=%{base}\\u003cbr\\u003eDwell End=%{x}\\u003cextra\\u003e\\u003c\\u002fextra\\u003e\",\"legendgroup\":\"Description_1\",\"marker\":{\"color\":\"#FFA15A\",\"pattern\":{\"shape\":\"\"}},\"name\":\"Description_1\",\"offsetgroup\":\"Description_1\",\"orientation\":\"h\",\"showlegend\":true,\"textposition\":\"auto\",\"x\":[249.9506,441.6007,933.2395,958.2316,24.9896,166.6475,8.3064,8.3731,299.9631,429.7025],\"xaxis\":\"x\",\"y\":[\"Description_1\",\"Description_1\",\"Description_1\",\"Description_1\",\"Description_1\",\"Description_1\",\"Description_1\",\"Description_1\",\"Description_1\",\"Description_1\"],\"yaxis\":\"y\",\"type\":\"bar\"},{\"alignmentgroup\":\"True\",\"base\":[\"1970-01-01T00:00:00.447542\",\"1970-01-01T00:00:21.236985\",\"1970-01-01T00:00:22.286896\",\"1970-01-01T00:00:28.286234\",\"1970-01-01T00:00:38.060146\",\"1970-01-01T00:01:41.656964\",\"1970-01-01T00:01:46.546700\",\"1970-01-01T00:01:46.646693\"],\"hovertemplate\":\"VisitedAOI=%{y}\\u003cbr\\u003eDwell Start=%{base}\\u003cbr\\u003eDwell End=%{x}\\u003cextra\\u003e\\u003c\\u002fextra\\u003e\",\"legendgroup\":\"Description_2\",\"marker\":{\"color\":\"#19d3f3\",\"pattern\":{\"shape\":\"\"}},\"name\":\"Description_2\",\"offsetgroup\":\"Description_2\",\"orientation\":\"h\",\"showlegend\":true,\"textposition\":\"auto\",\"x\":[116.6637,349.972,5757.7528,8232.4247,524.953,175.0028,8.3487,83.3129],\"xaxis\":\"x\",\"y\":[\"Description_2\",\"Description_2\",\"Description_2\",\"Description_2\",\"Description_2\",\"Description_2\",\"Description_2\",\"Description_2\"],\"yaxis\":\"y\",\"type\":\"bar\"},{\"alignmentgroup\":\"True\",\"base\":[\"1970-01-01T00:01:12.022209\",\"1970-01-01T00:01:12.547130\",\"1970-01-01T00:01:27.185120\",\"1970-01-01T00:01:28.290385\",\"1970-01-01T00:01:31.003551\",\"1970-01-01T00:01:43.494872\"],\"hovertemplate\":\"VisitedAOI=%{y}\\u003cbr\\u003eDwell Start=%{base}\\u003cbr\\u003eDwell End=%{x}\\u003cextra\\u003e\\u003c\\u002fextra\\u003e\",\"legendgroup\":\"Fav\",\"marker\":{\"color\":\"#FF6692\",\"pattern\":{\"shape\":\"\"}},\"name\":\"Fav\",\"offsetgroup\":\"Fav\",\"orientation\":\"h\",\"showlegend\":true,\"textposition\":\"auto\",\"x\":[224.9588,8.332101,349.9731,16.6583,58.328,124.9837],\"xaxis\":\"x\",\"y\":[\"Fav\",\"Fav\",\"Fav\",\"Fav\",\"Fav\",\"Fav\"],\"yaxis\":\"y\",\"type\":\"bar\"},{\"alignmentgroup\":\"True\",\"base\":[\"1970-01-01T00:00:00.839167\",\"1970-01-01T00:00:01.672450\",\"1970-01-01T00:00:03.597239\",\"1970-01-01T00:01:21.360982\",\"1970-01-01T00:01:35.216148\",\"1970-01-01T00:01:46.730006\",\"1970-01-01T00:01:48.772947\"],\"hovertemplate\":\"VisitedAOI=%{y}\\u003cbr\\u003eDwell Start=%{base}\\u003cbr\\u003eDwell End=%{x}\\u003cextra\\u003e\\u003c\\u002fextra\\u003e\",\"legendgroup\":\"Food\",\"marker\":{\"color\":\"#B6E880\",\"pattern\":{\"shape\":\"\"}},\"name\":\"Food\",\"offsetgroup\":\"Food\",\"orientation\":\"h\",\"showlegend\":true,\"textposition\":\"auto\",\"x\":[799.9106,1141.4977,916.5334,566.3501,363.5129,283.3138,208.3311],\"xaxis\":\"x\",\"y\":[\"Food\",\"Food\",\"Food\",\"Food\",\"Food\",\"Food\",\"Food\"],\"yaxis\":\"y\",\"type\":\"bar\"},{\"alignmentgroup\":\"True\",\"base\":[\"1970-01-01T00:00:02.855636\",\"1970-01-01T00:00:04.572103\",\"1970-01-01T00:00:05.097029\",\"1970-01-01T00:00:05.380371\",\"1970-01-01T00:00:06.813511\",\"1970-01-01T00:00:08.371706\",\"1970-01-01T00:00:09.396581\",\"1970-01-01T00:01:29.148632\",\"1970-01-01T00:01:29.773632\",\"1970-01-01T00:01:34.674544\",\"1970-01-01T00:01:35.041225\",\"1970-01-01T00:01:35.946284\",\"1970-01-01T00:01:36.818248\",\"1970-01-01T00:01:38.597841\",\"1970-01-01T00:01:39.902447\"],\"hovertemplate\":\"VisitedAOI=%{y}\\u003cbr\\u003eDwell Start=%{base}\\u003cbr\\u003eDwell End=%{x}\\u003cextra\\u003e\\u003c\\u002fextra\\u003e\",\"legendgroup\":\"Gen_Info\",\"marker\":{\"color\":\"#FF97FF\",\"pattern\":{\"shape\":\"\"}},\"name\":\"Gen_Info\",\"offsetgroup\":\"Gen_Info\",\"orientation\":\"h\",\"showlegend\":true,\"textposition\":\"auto\",\"x\":[558.2467,499.9529,275.0121,1049.8457,199.9773,558.239,299.9504,466.6174,738.2955,299.966499,108.2985,608.265,391.6729,974.8656,83.3504],\"xaxis\":\"x\",\"y\":[\"Gen_Info\",\"Gen_Info\",\"Gen_Info\",\"Gen_Info\",\"Gen_Info\",\"Gen_Info\",\"Gen_Info\",\"Gen_Info\",\"Gen_Info\",\"Gen_Info\",\"Gen_Info\",\"Gen_Info\",\"Gen_Info\",\"Gen_Info\",\"Gen_Info\"],\"yaxis\":\"y\",\"type\":\"bar\"},{\"alignmentgroup\":\"True\",\"base\":[\"1970-01-01T00:00:36.543654\",\"1970-01-01T00:00:37.601896\",\"1970-01-01T00:00:38.685093\",\"1970-01-01T00:00:42.647924\",\"1970-01-01T00:00:44.181102\",\"1970-01-01T00:00:45.689248\",\"1970-01-01T00:00:47.594450\",\"1970-01-01T00:00:49.857577\",\"1970-01-01T00:01:28.773680\",\"1970-01-01T00:01:40.060723\",\"1970-01-01T00:01:40.902333\"],\"hovertemplate\":\"VisitedAOI=%{y}\\u003cbr\\u003eDwell Start=%{base}\\u003cbr\\u003eDwell End=%{x}\\u003cextra\\u003e\\u003c\\u002fextra\\u003e\",\"legendgroup\":\"Ingredients\",\"marker\":{\"color\":\"#FECB52\",\"pattern\":{\"shape\":\"\"}},\"name\":\"Ingredients\",\"offsetgroup\":\"Ingredients\",\"orientation\":\"h\",\"showlegend\":true,\"textposition\":\"auto\",\"x\":[1033.2112,208.29,2204.6978,1016.5871,866.5624,1388.58,1158.1752,1016.328,174.9584,349.995,754.6316],\"xaxis\":\"x\",\"y\":[\"Ingredients\",\"Ingredients\",\"Ingredients\",\"Ingredients\",\"Ingredients\",\"Ingredients\",\"Ingredients\",\"Ingredients\",\"Ingredients\",\"Ingredients\",\"Ingredients\"],\"yaxis\":\"y\",\"type\":\"bar\"},{\"alignmentgroup\":\"True\",\"base\":[\"1970-01-01T00:00:00.314254\",\"1970-01-01T00:00:56.050673\",\"1970-01-01T00:00:56.383991\",\"1970-01-01T00:00:56.842291\",\"1970-01-01T00:00:58.108793\",\"1970-01-01T00:00:58.333762\",\"1970-01-01T00:01:45.721799\"],\"hovertemplate\":\"VisitedAOI=%{y}\\u003cbr\\u003eDwell Start=%{base}\\u003cbr\\u003eDwell End=%{x}\\u003cextra\\u003e\\u003c\\u002fextra\\u003e\",\"legendgroup\":\"Instructions\",\"marker\":{\"color\":\"#636efa\",\"pattern\":{\"shape\":\"\"}},\"name\":\"Instructions\",\"offsetgroup\":\"Instructions\",\"orientation\":\"h\",\"showlegend\":true,\"textposition\":\"auto\",\"x\":[24.9684,308.2964,16.6936,866.5563,150.0238,12608.406,466.6064],\"xaxis\":\"x\",\"y\":[\"Instructions\",\"Instructions\",\"Instructions\",\"Instructions\",\"Instructions\",\"Instructions\",\"Instructions\"],\"yaxis\":\"y\",\"type\":\"bar\"},{\"alignmentgroup\":\"True\",\"base\":[\"1970-01-01T00:01:16.151798\",\"1970-01-01T00:01:16.410178\",\"1970-01-01T00:01:16.751776\",\"1970-01-01T00:01:17.085070\",\"1970-01-01T00:01:17.218352\"],\"hovertemplate\":\"VisitedAOI=%{y}\\u003cbr\\u003eDwell Start=%{base}\\u003cbr\\u003eDwell End=%{x}\\u003cextra\\u003e\\u003c\\u002fextra\\u003e\",\"legendgroup\":\"Online\",\"marker\":{\"color\":\"#EF553B\",\"pattern\":{\"shape\":\"\"}},\"name\":\"Online\",\"offsetgroup\":\"Online\",\"orientation\":\"h\",\"showlegend\":true,\"textposition\":\"auto\",\"x\":[150.0053,74.9441,258.2724,8.3009,608.294],\"xaxis\":\"x\",\"y\":[\"Online\",\"Online\",\"Online\",\"Online\",\"Online\"],\"yaxis\":\"y\",\"type\":\"bar\"},{\"alignmentgroup\":\"True\",\"base\":[\"1970-01-01T00:00:07.580093\",\"1970-01-01T00:00:09.238257\",\"1970-01-01T00:00:09.704864\",\"1970-01-01T00:00:11.038107\",\"1970-01-01T00:00:52.757983\",\"1970-01-01T00:00:53.282806\",\"1970-01-01T00:00:53.741086\",\"1970-01-01T00:01:35.637993\",\"1970-01-01T00:01:37.351547\",\"1970-01-01T00:01:38.193093\"],\"hovertemplate\":\"VisitedAOI=%{y}\\u003cbr\\u003eDwell Start=%{base}\\u003cbr\\u003eDwell End=%{x}\\u003cextra\\u003e\\u003c\\u002fextra\\u003e\",\"legendgroup\":\"Participants_Overview\",\"marker\":{\"color\":\"#00cc96\",\"pattern\":{\"shape\":\"\"}},\"name\":\"Participants_Overview\",\"offsetgroup\":\"Participants_Overview\",\"orientation\":\"h\",\"showlegend\":true,\"textposition\":\"auto\",\"x\":[424.9781,25.02,1249.8806,2024.7482,208.2309,24.9928,324.9688,283.2902,16.6349,354.7305],\"xaxis\":\"x\",\"y\":[\"Participants_Overview\",\"Participants_Overview\",\"Participants_Overview\",\"Participants_Overview\",\"Participants_Overview\",\"Participants_Overview\",\"Participants_Overview\",\"Participants_Overview\",\"Participants_Overview\",\"Participants_Overview\"],\"yaxis\":\"y\",\"type\":\"bar\"},{\"alignmentgroup\":\"True\",\"base\":[\"1970-01-01T00:01:11.872261\",\"1970-01-01T00:01:13.085493\",\"1970-01-01T00:01:18.347876\",\"1970-01-01T00:01:20.272680\",\"1970-01-01T00:01:27.935044\",\"1970-01-01T00:01:45.516695\"],\"hovertemplate\":\"VisitedAOI=%{y}\\u003cbr\\u003eDwell Start=%{base}\\u003cbr\\u003eDwell End=%{x}\\u003cextra\\u003e\\u003c\\u002fextra\\u003e\",\"legendgroup\":\"Participant_Bio\",\"marker\":{\"color\":\"#ab63fa\",\"pattern\":{\"shape\":\"\"}},\"name\":\"Participant_Bio\",\"offsetgroup\":\"Participant_Bio\",\"orientation\":\"h\",\"showlegend\":true,\"textposition\":\"auto\",\"x\":[91.5974,399.9392,1866.4739,149.9715,141.6411,83.3691],\"xaxis\":\"x\",\"y\":[\"Participant_Bio\",\"Participant_Bio\",\"Participant_Bio\",\"Participant_Bio\",\"Participant_Bio\",\"Participant_Bio\"],\"yaxis\":\"y\",\"type\":\"bar\"},{\"alignmentgroup\":\"True\",\"base\":[\"1970-01-01T00:00:00.622552\",\"1970-01-01T00:01:11.464690\",\"1970-01-01T00:01:20.430996\",\"1970-01-01T00:01:23.268873\",\"1970-01-01T00:01:26.126889\",\"1970-01-01T00:01:26.693489\",\"1970-01-01T00:01:30.661907\",\"1970-01-01T00:01:31.803473\",\"1970-01-01T00:01:33.416343\",\"1970-01-01T00:01:34.307949\",\"1970-01-01T00:01:42.819911\",\"1970-01-01T00:01:43.061579\",\"1970-01-01T00:01:43.403182\",\"1970-01-01T00:01:46.188405\",\"1970-01-01T00:01:50.277530\"],\"hovertemplate\":\"VisitedAOI=%{y}\\u003cbr\\u003eDwell Start=%{base}\\u003cbr\\u003eDwell End=%{x}\\u003cextra\\u003e\\u003c\\u002fextra\\u003e\",\"legendgroup\":\"Participant_Profile_Picture\",\"marker\":{\"color\":\"#FFA15A\",\"pattern\":{\"shape\":\"\"}},\"name\":\"Participant_Profile_Picture\",\"offsetgroup\":\"Participant_Profile_Picture\",\"orientation\":\"h\",\"showlegend\":true,\"textposition\":\"auto\",\"x\":[100.0011,315.8701,816.5527,266.6107,266.644,491.6314,216.661,829.6303,383.3145,8.3329,116.6552,149.975,91.6899,291.6319,274.969],\"xaxis\":\"x\",\"y\":[\"Participant_Profile_Picture\",\"Participant_Profile_Picture\",\"Participant_Profile_Picture\",\"Participant_Profile_Picture\",\"Participant_Profile_Picture\",\"Participant_Profile_Picture\",\"Participant_Profile_Picture\",\"Participant_Profile_Picture\",\"Participant_Profile_Picture\",\"Participant_Profile_Picture\",\"Participant_Profile_Picture\",\"Participant_Profile_Picture\",\"Participant_Profile_Picture\",\"Participant_Profile_Picture\",\"Participant_Profile_Picture\"],\"yaxis\":\"y\",\"type\":\"bar\"},{\"alignmentgroup\":\"True\",\"base\":[\"1970-01-01T00:01:13.485432\",\"1970-01-01T00:01:13.652128\",\"1970-01-01T00:01:15.335261\",\"1970-01-01T00:01:16.318529\",\"1970-01-01T00:01:43.733770\",\"1970-01-01T00:01:44.858430\",\"1970-01-01T00:01:44.933429\"],\"hovertemplate\":\"VisitedAOI=%{y}\\u003cbr\\u003eDwell Start=%{base}\\u003cbr\\u003eDwell End=%{x}\\u003cextra\\u003e\\u003c\\u002fextra\\u003e\",\"legendgroup\":\"Place\",\"marker\":{\"color\":\"#19d3f3\",\"pattern\":{\"shape\":\"\"}},\"name\":\"Place\",\"offsetgroup\":\"Place\",\"orientation\":\"h\",\"showlegend\":true,\"textposition\":\"auto\",\"x\":[141.696399,191.6364,466.598401,74.9262,249.7564,25.0261,333.3034],\"xaxis\":\"x\",\"y\":[\"Place\",\"Place\",\"Place\",\"Place\",\"Place\",\"Place\",\"Place\"],\"yaxis\":\"y\",\"type\":\"bar\"},{\"alignmentgroup\":\"True\",\"base\":[\"1970-01-01T00:00:40.889791\",\"1970-01-01T00:00:43.664511\",\"1970-01-01T00:00:45.047665\",\"1970-01-01T00:00:47.086165\",\"1970-01-01T00:00:48.752625\",\"1970-01-01T00:00:50.873905\",\"1970-01-01T00:00:54.853741\"],\"hovertemplate\":\"VisitedAOI=%{y}\\u003cbr\\u003eDwell Start=%{base}\\u003cbr\\u003eDwell End=%{x}\\u003cextra\\u003e\\u003c\\u002fextra\\u003e\",\"legendgroup\":\"Responsabilities\",\"marker\":{\"color\":\"#FF6692\",\"pattern\":{\"shape\":\"\"}},\"name\":\"Responsabilities\",\"offsetgroup\":\"Responsabilities\",\"orientation\":\"h\",\"showlegend\":true,\"textposition\":\"auto\",\"x\":[1758.133,466.617,641.5837,508.2855,991.5522,1537.9471,1196.9323],\"xaxis\":\"x\",\"y\":[\"Responsabilities\",\"Responsabilities\",\"Responsabilities\",\"Responsabilities\",\"Responsabilities\",\"Responsabilities\",\"Responsabilities\"],\"yaxis\":\"y\",\"type\":\"bar\"},{\"alignmentgroup\":\"True\",\"base\":[\"1970-01-01T00:01:14.960281\",\"1970-01-01T00:01:17.876656\"],\"hovertemplate\":\"VisitedAOI=%{y}\\u003cbr\\u003eDwell Start=%{base}\\u003cbr\\u003eDwell End=%{x}\\u003cextra\\u003e\\u003c\\u002fextra\\u003e\",\"legendgroup\":\"Status\",\"marker\":{\"color\":\"#B6E880\",\"pattern\":{\"shape\":\"\"}},\"name\":\"Status\",\"offsetgroup\":\"Status\",\"orientation\":\"h\",\"showlegend\":true,\"textposition\":\"auto\",\"x\":[324.9781,412.9003],\"xaxis\":\"x\",\"y\":[\"Status\",\"Status\"],\"yaxis\":\"y\",\"type\":\"bar\"},{\"alignmentgroup\":\"True\",\"base\":[\"1970-01-01T00:01:13.843765\",\"1970-01-01T00:01:44.008519\"],\"hovertemplate\":\"VisitedAOI=%{y}\\u003cbr\\u003eDwell Start=%{base}\\u003cbr\\u003eDwell End=%{x}\\u003cextra\\u003e\\u003c\\u002fextra\\u003e\",\"legendgroup\":\"Verified\",\"marker\":{\"color\":\"#FF97FF\",\"pattern\":{\"shape\":\"\"}},\"name\":\"Verified\",\"offsetgroup\":\"Verified\",\"orientation\":\"h\",\"showlegend\":true,\"textposition\":\"auto\",\"x\":[1116.5163,216.647],\"xaxis\":\"x\",\"y\":[\"Verified\",\"Verified\"],\"yaxis\":\"y\",\"type\":\"bar\"}],                        {\"template\":{\"data\":{\"histogram2dcontour\":[{\"type\":\"histogram2dcontour\",\"colorbar\":{\"outlinewidth\":0,\"ticks\":\"\"},\"colorscale\":[[0.0,\"#0d0887\"],[0.1111111111111111,\"#46039f\"],[0.2222222222222222,\"#7201a8\"],[0.3333333333333333,\"#9c179e\"],[0.4444444444444444,\"#bd3786\"],[0.5555555555555556,\"#d8576b\"],[0.6666666666666666,\"#ed7953\"],[0.7777777777777778,\"#fb9f3a\"],[0.8888888888888888,\"#fdca26\"],[1.0,\"#f0f921\"]]}],\"choropleth\":[{\"type\":\"choropleth\",\"colorbar\":{\"outlinewidth\":0,\"ticks\":\"\"}}],\"histogram2d\":[{\"type\":\"histogram2d\",\"colorbar\":{\"outlinewidth\":0,\"ticks\":\"\"},\"colorscale\":[[0.0,\"#0d0887\"],[0.1111111111111111,\"#46039f\"],[0.2222222222222222,\"#7201a8\"],[0.3333333333333333,\"#9c179e\"],[0.4444444444444444,\"#bd3786\"],[0.5555555555555556,\"#d8576b\"],[0.6666666666666666,\"#ed7953\"],[0.7777777777777778,\"#fb9f3a\"],[0.8888888888888888,\"#fdca26\"],[1.0,\"#f0f921\"]]}],\"heatmap\":[{\"type\":\"heatmap\",\"colorbar\":{\"outlinewidth\":0,\"ticks\":\"\"},\"colorscale\":[[0.0,\"#0d0887\"],[0.1111111111111111,\"#46039f\"],[0.2222222222222222,\"#7201a8\"],[0.3333333333333333,\"#9c179e\"],[0.4444444444444444,\"#bd3786\"],[0.5555555555555556,\"#d8576b\"],[0.6666666666666666,\"#ed7953\"],[0.7777777777777778,\"#fb9f3a\"],[0.8888888888888888,\"#fdca26\"],[1.0,\"#f0f921\"]]}],\"heatmapgl\":[{\"type\":\"heatmapgl\",\"colorbar\":{\"outlinewidth\":0,\"ticks\":\"\"},\"colorscale\":[[0.0,\"#0d0887\"],[0.1111111111111111,\"#46039f\"],[0.2222222222222222,\"#7201a8\"],[0.3333333333333333,\"#9c179e\"],[0.4444444444444444,\"#bd3786\"],[0.5555555555555556,\"#d8576b\"],[0.6666666666666666,\"#ed7953\"],[0.7777777777777778,\"#fb9f3a\"],[0.8888888888888888,\"#fdca26\"],[1.0,\"#f0f921\"]]}],\"contourcarpet\":[{\"type\":\"contourcarpet\",\"colorbar\":{\"outlinewidth\":0,\"ticks\":\"\"}}],\"contour\":[{\"type\":\"contour\",\"colorbar\":{\"outlinewidth\":0,\"ticks\":\"\"},\"colorscale\":[[0.0,\"#0d0887\"],[0.1111111111111111,\"#46039f\"],[0.2222222222222222,\"#7201a8\"],[0.3333333333333333,\"#9c179e\"],[0.4444444444444444,\"#bd3786\"],[0.5555555555555556,\"#d8576b\"],[0.6666666666666666,\"#ed7953\"],[0.7777777777777778,\"#fb9f3a\"],[0.8888888888888888,\"#fdca26\"],[1.0,\"#f0f921\"]]}],\"surface\":[{\"type\":\"surface\",\"colorbar\":{\"outlinewidth\":0,\"ticks\":\"\"},\"colorscale\":[[0.0,\"#0d0887\"],[0.1111111111111111,\"#46039f\"],[0.2222222222222222,\"#7201a8\"],[0.3333333333333333,\"#9c179e\"],[0.4444444444444444,\"#bd3786\"],[0.5555555555555556,\"#d8576b\"],[0.6666666666666666,\"#ed7953\"],[0.7777777777777778,\"#fb9f3a\"],[0.8888888888888888,\"#fdca26\"],[1.0,\"#f0f921\"]]}],\"mesh3d\":[{\"type\":\"mesh3d\",\"colorbar\":{\"outlinewidth\":0,\"ticks\":\"\"}}],\"scatter\":[{\"fillpattern\":{\"fillmode\":\"overlay\",\"size\":10,\"solidity\":0.2},\"type\":\"scatter\"}],\"parcoords\":[{\"type\":\"parcoords\",\"line\":{\"colorbar\":{\"outlinewidth\":0,\"ticks\":\"\"}}}],\"scatterpolargl\":[{\"type\":\"scatterpolargl\",\"marker\":{\"colorbar\":{\"outlinewidth\":0,\"ticks\":\"\"}}}],\"bar\":[{\"error_x\":{\"color\":\"#2a3f5f\"},\"error_y\":{\"color\":\"#2a3f5f\"},\"marker\":{\"line\":{\"color\":\"#E5ECF6\",\"width\":0.5},\"pattern\":{\"fillmode\":\"overlay\",\"size\":10,\"solidity\":0.2}},\"type\":\"bar\"}],\"scattergeo\":[{\"type\":\"scattergeo\",\"marker\":{\"colorbar\":{\"outlinewidth\":0,\"ticks\":\"\"}}}],\"scatterpolar\":[{\"type\":\"scatterpolar\",\"marker\":{\"colorbar\":{\"outlinewidth\":0,\"ticks\":\"\"}}}],\"histogram\":[{\"marker\":{\"pattern\":{\"fillmode\":\"overlay\",\"size\":10,\"solidity\":0.2}},\"type\":\"histogram\"}],\"scattergl\":[{\"type\":\"scattergl\",\"marker\":{\"colorbar\":{\"outlinewidth\":0,\"ticks\":\"\"}}}],\"scatter3d\":[{\"type\":\"scatter3d\",\"line\":{\"colorbar\":{\"outlinewidth\":0,\"ticks\":\"\"}},\"marker\":{\"colorbar\":{\"outlinewidth\":0,\"ticks\":\"\"}}}],\"scattermapbox\":[{\"type\":\"scattermapbox\",\"marker\":{\"colorbar\":{\"outlinewidth\":0,\"ticks\":\"\"}}}],\"scatterternary\":[{\"type\":\"scatterternary\",\"marker\":{\"colorbar\":{\"outlinewidth\":0,\"ticks\":\"\"}}}],\"scattercarpet\":[{\"type\":\"scattercarpet\",\"marker\":{\"colorbar\":{\"outlinewidth\":0,\"ticks\":\"\"}}}],\"carpet\":[{\"aaxis\":{\"endlinecolor\":\"#2a3f5f\",\"gridcolor\":\"white\",\"linecolor\":\"white\",\"minorgridcolor\":\"white\",\"startlinecolor\":\"#2a3f5f\"},\"baxis\":{\"endlinecolor\":\"#2a3f5f\",\"gridcolor\":\"white\",\"linecolor\":\"white\",\"minorgridcolor\":\"white\",\"startlinecolor\":\"#2a3f5f\"},\"type\":\"carpet\"}],\"table\":[{\"cells\":{\"fill\":{\"color\":\"#EBF0F8\"},\"line\":{\"color\":\"white\"}},\"header\":{\"fill\":{\"color\":\"#C8D4E3\"},\"line\":{\"color\":\"white\"}},\"type\":\"table\"}],\"barpolar\":[{\"marker\":{\"line\":{\"color\":\"#E5ECF6\",\"width\":0.5},\"pattern\":{\"fillmode\":\"overlay\",\"size\":10,\"solidity\":0.2}},\"type\":\"barpolar\"}],\"pie\":[{\"automargin\":true,\"type\":\"pie\"}]},\"layout\":{\"autotypenumbers\":\"strict\",\"colorway\":[\"#636efa\",\"#EF553B\",\"#00cc96\",\"#ab63fa\",\"#FFA15A\",\"#19d3f3\",\"#FF6692\",\"#B6E880\",\"#FF97FF\",\"#FECB52\"],\"font\":{\"color\":\"#2a3f5f\"},\"hovermode\":\"closest\",\"hoverlabel\":{\"align\":\"left\"},\"paper_bgcolor\":\"white\",\"plot_bgcolor\":\"#E5ECF6\",\"polar\":{\"bgcolor\":\"#E5ECF6\",\"angularaxis\":{\"gridcolor\":\"white\",\"linecolor\":\"white\",\"ticks\":\"\"},\"radialaxis\":{\"gridcolor\":\"white\",\"linecolor\":\"white\",\"ticks\":\"\"}},\"ternary\":{\"bgcolor\":\"#E5ECF6\",\"aaxis\":{\"gridcolor\":\"white\",\"linecolor\":\"white\",\"ticks\":\"\"},\"baxis\":{\"gridcolor\":\"white\",\"linecolor\":\"white\",\"ticks\":\"\"},\"caxis\":{\"gridcolor\":\"white\",\"linecolor\":\"white\",\"ticks\":\"\"}},\"coloraxis\":{\"colorbar\":{\"outlinewidth\":0,\"ticks\":\"\"}},\"colorscale\":{\"sequential\":[[0.0,\"#0d0887\"],[0.1111111111111111,\"#46039f\"],[0.2222222222222222,\"#7201a8\"],[0.3333333333333333,\"#9c179e\"],[0.4444444444444444,\"#bd3786\"],[0.5555555555555556,\"#d8576b\"],[0.6666666666666666,\"#ed7953\"],[0.7777777777777778,\"#fb9f3a\"],[0.8888888888888888,\"#fdca26\"],[1.0,\"#f0f921\"]],\"sequentialminus\":[[0.0,\"#0d0887\"],[0.1111111111111111,\"#46039f\"],[0.2222222222222222,\"#7201a8\"],[0.3333333333333333,\"#9c179e\"],[0.4444444444444444,\"#bd3786\"],[0.5555555555555556,\"#d8576b\"],[0.6666666666666666,\"#ed7953\"],[0.7777777777777778,\"#fb9f3a\"],[0.8888888888888888,\"#fdca26\"],[1.0,\"#f0f921\"]],\"diverging\":[[0,\"#8e0152\"],[0.1,\"#c51b7d\"],[0.2,\"#de77ae\"],[0.3,\"#f1b6da\"],[0.4,\"#fde0ef\"],[0.5,\"#f7f7f7\"],[0.6,\"#e6f5d0\"],[0.7,\"#b8e186\"],[0.8,\"#7fbc41\"],[0.9,\"#4d9221\"],[1,\"#276419\"]]},\"xaxis\":{\"gridcolor\":\"white\",\"linecolor\":\"white\",\"ticks\":\"\",\"title\":{\"standoff\":15},\"zerolinecolor\":\"white\",\"automargin\":true,\"zerolinewidth\":2},\"yaxis\":{\"gridcolor\":\"white\",\"linecolor\":\"white\",\"ticks\":\"\",\"title\":{\"standoff\":15},\"zerolinecolor\":\"white\",\"automargin\":true,\"zerolinewidth\":2},\"scene\":{\"xaxis\":{\"backgroundcolor\":\"#E5ECF6\",\"gridcolor\":\"white\",\"linecolor\":\"white\",\"showbackground\":true,\"ticks\":\"\",\"zerolinecolor\":\"white\",\"gridwidth\":2},\"yaxis\":{\"backgroundcolor\":\"#E5ECF6\",\"gridcolor\":\"white\",\"linecolor\":\"white\",\"showbackground\":true,\"ticks\":\"\",\"zerolinecolor\":\"white\",\"gridwidth\":2},\"zaxis\":{\"backgroundcolor\":\"#E5ECF6\",\"gridcolor\":\"white\",\"linecolor\":\"white\",\"showbackground\":true,\"ticks\":\"\",\"zerolinecolor\":\"white\",\"gridwidth\":2}},\"shapedefaults\":{\"line\":{\"color\":\"#2a3f5f\"}},\"annotationdefaults\":{\"arrowcolor\":\"#2a3f5f\",\"arrowhead\":0,\"arrowwidth\":1},\"geo\":{\"bgcolor\":\"white\",\"landcolor\":\"#E5ECF6\",\"subunitcolor\":\"white\",\"showland\":true,\"showlakes\":true,\"lakecolor\":\"white\"},\"title\":{\"x\":0.05},\"mapbox\":{\"style\":\"light\"}}},\"xaxis\":{\"anchor\":\"y\",\"domain\":[0.0,1.0],\"type\":\"date\",\"tickformat\":\"%Q\"},\"yaxis\":{\"anchor\":\"x\",\"domain\":[0.0,1.0],\"title\":{\"text\":\"VisitedAOI\"},\"categoryorder\":\"array\",\"categoryarray\":[\"Verified\",\"Status\",\"Responsabilities\",\"Place\",\"Participant_Profile_Picture\",\"Participant_Bio\",\"Participants_Overview\",\"Online\",\"Instructions\",\"Ingredients\",\"Gen_Info\",\"Food\",\"Fav\",\"Description_2\",\"Description_1\",\"Date_Place_2\",\"Date_Place_1\",\"CTA_1\",\"Chat\"]},\"legend\":{\"title\":{\"text\":\"VisitedAOI\"},\"tracegroupgap\":0},\"title\":{\"text\":\"Participant: P03, Task: Slide1\"},\"barmode\":\"overlay\",\"autosize\":true,\"height\":600},                        {\"responsive\": true}                    ).then(function(){\n",
       "                            \n",
       "var gd = document.getElementById('18a172c1-840e-4527-a755-75b6bfdcc2c3');\n",
       "var x = new MutationObserver(function (mutations, observer) {{\n",
       "        var display = window.getComputedStyle(gd).display;\n",
       "        if (!display || display === 'none') {{\n",
       "            console.log([gd, 'removed!']);\n",
       "            Plotly.purge(gd);\n",
       "            observer.disconnect();\n",
       "        }}\n",
       "}});\n",
       "\n",
       "// Listen for the removal of the full notebook cells\n",
       "var notebookContainer = gd.closest('#notebook-container');\n",
       "if (notebookContainer) {{\n",
       "    x.observe(notebookContainer, {childList: true});\n",
       "}}\n",
       "\n",
       "// Listen for the clearing of the current output cell\n",
       "var outputEl = gd.closest('.output');\n",
       "if (outputEl) {{\n",
       "    x.observe(outputEl, {childList: true});\n",
       "}}\n",
       "\n",
       "                        })                };                });            </script>        </div>"
      ]
     },
     "metadata": {},
     "output_type": "display_data"
    }
   ],
   "source": [
    "color_discrete_map = None\n",
    "\n",
    "# Iteratate over the participants and tasks and plot AOI sequences\n",
    "for participant in dataToPlot['Respondent'].unique():\n",
    "    \n",
    "    for task in dataToPlot['SourceStimuliName'].unique():\n",
    "    \n",
    "        # Filter in the participant and task data\n",
    "        participantTaskData = dataToPlot[(dataToPlot['Respondent']==participant) & (dataToPlot['SourceStimuliName']==task)]\n",
    "\n",
    "        # Plot AOI sequences for the participant data\n",
    "        fig = None\n",
    "        # if no colors are assigned yet for the different AOI sequences\n",
    "        if color_discrete_map is None:\n",
    "            # Generate a figure with default colors\n",
    "            fig = px.timeline(participantTaskData, x_start=\"Dwell Start\", x_end=\"Dwell End\", y=\"VisitedAOI\", color=\"VisitedAOI\",  category_orders={\"VisitedAOI\": [value for value in aoisToPlot]}, title=f'Participant: {participant}, Task: {task}')\n",
    "            # copy the colors to color_discrete_map in order to reuse them for the other AOI sequence charts\n",
    "            color_discrete_map = {data.name: data.marker.color for data in fig.data}\n",
    "        else:\n",
    "            # Generate a figure with the existing colors in color_discrete_map\n",
    "            fig = px.timeline(participantTaskData, x_start=\"Dwell Start\", x_end=\"Dwell End\", y=\"VisitedAOI\", color=\"VisitedAOI\",  category_orders={\"VisitedAOI\": [value for value in aoisToPlot]},  color_discrete_map=color_discrete_map, title=f'Participant: {participant}, Task: {task}')\n",
    "\n",
    "        fig.update_xaxes(\n",
    "            tickformat=\"%Q\",  # date format\n",
    "        ) \n",
    "\n",
    "        fig.update_layout(autosize=True,height=600)\n",
    "\n",
    "        fig.show()"
   ]
  },
  {
   "cell_type": "code",
   "execution_count": null,
   "id": "653ce91a",
   "metadata": {},
   "outputs": [],
   "source": []
  }
 ],
 "metadata": {
  "kernelspec": {
   "display_name": "Python 3 (ipykernel)",
   "language": "python",
   "name": "python3"
  },
  "language_info": {
   "codemirror_mode": {
    "name": "ipython",
    "version": 3
   },
   "file_extension": ".py",
   "mimetype": "text/x-python",
   "name": "python",
   "nbconvert_exporter": "python",
   "pygments_lexer": "ipython3",
   "version": "3.11.6"
  }
 },
 "nbformat": 4,
 "nbformat_minor": 5
}
