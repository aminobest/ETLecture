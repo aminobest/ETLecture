{
 "cells": [
  {
   "cell_type": "code",
   "execution_count": null,
   "id": "06520c13",
   "metadata": {},
   "outputs": [],
   "source": [
    "import pandas as pd\n",
    "import requests"
   ]
  },
  {
   "cell_type": "code",
   "execution_count": null,
   "id": "03f7f8af",
   "metadata": {},
   "outputs": [],
   "source": [
    "#---------------------------------------------------\n",
    "#\n",
    "# Config\n",
    "#\n",
    "#---------------------------------------------------\n",
    "\n",
    "# This file should be automatically generated from \"1. Gaze Projections and AOIs Mapping\"\n",
    "GAZE_DATA_WITH_AOIS_FILE = \"data/gazeDataWithAOIs.csv\""
   ]
  },
  {
   "cell_type": "code",
   "execution_count": null,
   "id": "22137096",
   "metadata": {},
   "outputs": [],
   "source": [
    "#----------------------------------------------------------------------------------------\n",
    "#\n",
    "#\n",
    "# 1. Oculomotor event detection (i.e., Fixations and saccades)\n",
    "# \n",
    "#\n",
    "#----------------------------------------------------------------------------------------"
   ]
  },
  {
   "cell_type": "code",
   "execution_count": null,
   "id": "065b9976",
   "metadata": {},
   "outputs": [],
   "source": [
    "# Read gaze data with AOIs using pandas library\n",
    "data = pd.read_csv(GAZE_DATA_WITH_AOIS_FILE)\n",
    "# set display.max_columns to none, to show all the columns when using head()\n",
    "pd.set_option('display.max_columns', None)"
   ]
  },
  {
   "cell_type": "code",
   "execution_count": null,
   "id": "4289c196",
   "metadata": {},
   "outputs": [],
   "source": [
    "# Preview data\n",
    "data.head()"
   ]
  },
  {
   "cell_type": "code",
   "execution_count": null,
   "id": "c664fd2d",
   "metadata": {},
   "outputs": [],
   "source": [
    "#Keep only the gaze data coming from the eye-tracking device\n",
    "data = data[ data['EventSource.1'] == 1 ]"
   ]
  },
  {
   "cell_type": "code",
   "execution_count": null,
   "id": "60f55dae",
   "metadata": {},
   "outputs": [],
   "source": [
    "#Fill n/a values with -1 (for JSON Compliance in requests) \n",
    "data = data.fillna(-1) "
   ]
  },
  {
   "cell_type": "code",
   "execution_count": null,
   "id": "cf5c2249",
   "metadata": {},
   "outputs": [],
   "source": [
    "# Oculomotor event detection (i.e., Fixations and saccades)\n",
    "# Using customizable I-VT (Velocity Threshold) filter for fixation and saccade detection\n",
    "\n",
    "dataWithEvents = None\n",
    "\n",
    "# Iteratate over the participants and the apply I-VT filter on the data of each participant\n",
    "for participant in data['Respondent'].unique():\n",
    "    \n",
    "    # filter in the participant data\n",
    "    ParticipantData = data[data['Respondent']==participant]\n",
    "    \n",
    "    print(f'Applying fixation filter on the data for participant: {participant}')\n",
    "    config = {\n",
    "                    \"fixationFilter\" : \"IVT\",\n",
    "                    \"screenResolutionWidth\" : 1920, \n",
    "                    \"screenResolutionHeight\" : 1080, \n",
    "                    \"monitorSize\" : 24, \n",
    "                    \"screenDistance\" : 60,\n",
    "                    \"gapFill\" : True, \n",
    "                    \"maxGapLength\": 75, \n",
    "                    \"noiseReduction\" : False, \n",
    "                    \"filterType\" : \"Median\", \n",
    "                    \"windowNoise\" : 3,\n",
    "                    \"windowVelocity\" : 20, \n",
    "                    \"velocityThreshold\" : 30, \n",
    "                    \"mergeFixation\" : True, \n",
    "                    \"maxTimeBtwFixation\" : 75,\n",
    "                    \"maxAngleBtwFixation\" : 0.5, \n",
    "                    \"discardShortFixation\" : True,\n",
    "                    \"minDurationFixation\" : 60\n",
    "    }\n",
    "\n",
    "    # POST pariticipant gaze data to the (R) eventDetection server\n",
    "    url = 'http://rserver:6789/eventDetection'\n",
    "    #url = 'http://127.0.0.1:6789/eventDetection'\n",
    "    payload = {'config': config, 'data': ParticipantData.to_dict(orient=\"records\")}\n",
    "    response = requests.post(url, json = payload)\n",
    "    \n",
    "    # Create new a dataframe from the json response of the (R) eventDetection server\n",
    "    participantDataWithEvents = pd.DataFrame.from_records(response.json())\n",
    "    \n",
    "    #Assign participantDataWithEvents to dataWithEvents or concate\n",
    "    if dataWithEvents is None: \n",
    "        dataWithEvents = participantDataWithEvents\n",
    "    else:\n",
    "        dataWithEvents = pd.concat([dataWithEvents, participantDataWithEvents], axis=0)\n",
    "        \n",
    "    print('... Complete')"
   ]
  },
  {
   "cell_type": "code",
   "execution_count": null,
   "id": "6a0e58d3",
   "metadata": {},
   "outputs": [],
   "source": [
    "# Preview gaze data with event information\n",
    "dataWithEvents.head()"
   ]
  },
  {
   "cell_type": "code",
   "execution_count": null,
   "id": "a49f0dda",
   "metadata": {},
   "outputs": [],
   "source": [
    "# export dataWithEvents as csv\n",
    "dataWithEvents.to_csv(\"data/gazeDataWithAOIsAndEvents.csv\",  index=False)"
   ]
  },
  {
   "cell_type": "code",
   "execution_count": null,
   "id": "0a21d4bf",
   "metadata": {},
   "outputs": [],
   "source": []
  },
  {
   "cell_type": "code",
   "execution_count": null,
   "id": "84a8c864",
   "metadata": {},
   "outputs": [],
   "source": []
  }
 ],
 "metadata": {
  "kernelspec": {
   "display_name": "Python 3",
   "language": "python",
   "name": "python3"
  },
  "language_info": {
   "codemirror_mode": {
    "name": "ipython",
    "version": 3
   },
   "file_extension": ".py",
   "mimetype": "text/x-python",
   "name": "python",
   "nbconvert_exporter": "python",
   "pygments_lexer": "ipython3",
   "version": "3.9.5"
  }
 },
 "nbformat": 4,
 "nbformat_minor": 5
}
