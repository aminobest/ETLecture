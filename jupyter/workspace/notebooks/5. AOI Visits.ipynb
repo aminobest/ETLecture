{
 "cells": [
  {
   "cell_type": "code",
   "execution_count": 1,
   "id": "a32716dd",
   "metadata": {},
   "outputs": [],
   "source": [
    "import pandas as pd"
   ]
  },
  {
   "cell_type": "code",
   "execution_count": 2,
   "id": "fce6cfd5",
   "metadata": {},
   "outputs": [],
   "source": [
    "#---------------------------------------------------\n",
    "#\n",
    "# Config *** TO UPDATE ***\n",
    "#\n",
    "#---------------------------------------------------\n",
    "\n",
    "# *** TO UPDATE: change the team number with your own team number\n",
    "TEAM_NUMBER = \"TeamDemo\"\n",
    "\n",
    "# File with AOIS definitions \n",
    "AOIS_DEFINITION_FILE = \"../raw-data/\"+TEAM_NUMBER+\"/aois definitions/aois.csv\"\n",
    "\n",
    "# This file should be automatically generated from \"4. Mapping Fixations and Saccades to AOIs\"\n",
    "FIFXATIONS_SACCADES_WITH_AOIS_FILE = \"data/fixationAndSaccadesDataWithAOIs.csv\""
   ]
  },
  {
   "cell_type": "code",
   "execution_count": null,
   "id": "89335063",
   "metadata": {},
   "outputs": [],
   "source": [
    "#----------------------------------------------------------------------------------------\n",
    "#\n",
    "#\n",
    "# 1. Identify Dwells\n",
    "# (\"a dwell is defined as one visit in an AOI, from entry to exit\" Holmqvist et al. 2010, page 262 - See book reference in lecture slides)\n",
    "# \n",
    "#\n",
    "#----------------------------------------------------------------------------------------"
   ]
  },
  {
   "cell_type": "code",
   "execution_count": null,
   "id": "09ad8d51",
   "metadata": {},
   "outputs": [],
   "source": [
    "# Read aois definition\n",
    "aois_df = pd.read_csv(AOIS_DEFINITION_FILE)"
   ]
  },
  {
   "cell_type": "code",
   "execution_count": null,
   "id": "cedd9ea6",
   "metadata": {},
   "outputs": [],
   "source": [
    "# Display aois definition\n",
    "display(aois_df)"
   ]
  },
  {
   "cell_type": "code",
   "execution_count": null,
   "id": "1e4e2a48",
   "metadata": {},
   "outputs": [],
   "source": [
    "# get list of AOIs\n",
    "aois = aois_df[\"AOI\"].tolist()\n",
    "print(f'AOIs: {aois}')"
   ]
  },
  {
   "cell_type": "code",
   "execution_count": null,
   "id": "3637393f",
   "metadata": {},
   "outputs": [],
   "source": [
    "# Read fixation and saccade data with AOIs using pandas library\n",
    "data = pd.read_csv(FIFXATIONS_SACCADES_WITH_AOIS_FILE)\n",
    "# set display.max_columns to none, to show all the columns when using head()\n",
    "pd.set_option('display.max_columns', None)"
   ]
  },
  {
   "cell_type": "code",
   "execution_count": null,
   "id": "8c694303",
   "metadata": {},
   "outputs": [],
   "source": [
    "# Preview fixation and saccade data with aois\n",
    "data.head()"
   ]
  },
  {
   "cell_type": "code",
   "execution_count": null,
   "id": "2e94e272",
   "metadata": {},
   "outputs": [],
   "source": [
    "# Derive dwells"
   ]
  },
  {
   "cell_type": "code",
   "execution_count": null,
   "id": "32282155",
   "metadata": {},
   "outputs": [],
   "source": [
    "dwells = pd.DataFrame()\n",
    "\n",
    "# Iterate through the different aois\n",
    "for aoi in aois:\n",
    "    \n",
    "    #  Group by consecutive same value (CSAV) and Respondent (i.e., participant)\n",
    "    # documentation for the aprroach used to group columns by consecutive same value https://towardsdatascience.com/pandas-dataframe-group-by-consecutive-same-values-128913875dba\n",
    "    csavGroups = data.groupby([(data[aoi].shift() != data[aoi]).cumsum(),'Respondent','SourceStimuliName'])\n",
    "    \n",
    "    # Keep only groups where the AOI is activited (aoiName==1) \n",
    "    csavGroups = {key: value for key, value in csavGroups if value[aoi].unique()==[1]}\n",
    "    \n",
    "    # compute a set of metrics for each dwell (i.e., a group where the AOI is activiated)     \n",
    "    for key in csavGroups:\n",
    "        group = csavGroups[key]\n",
    "                \n",
    "        dwells = pd.concat([dwells, pd.DataFrame.from_records([{\n",
    "            # Participant (i.e., Respondent)\n",
    "            'Respondent': group.iloc[0]['Respondent'], #The respondent should be the same within the whole group\n",
    "            # Participant (i.e., Respondent)\n",
    "            'SourceStimuliName': group.iloc[0]['SourceStimuliName'], #The SourceStimuliName should be the same within the whole group\n",
    "            # The aoi visited during the dwell\n",
    "            'VisitedAOI': aoi,\n",
    "            # Timestamp when the aoi was entered\n",
    "            'Dwell Start': group.iloc[0]['Fixation Start'] if not pd.isnull(group.iloc[0]['Fixation Start']) else group.iloc[0]['Saccade Start'],\n",
    "            # Timestamp when the aoi was exited\n",
    "            'Dwell End' : group.iloc[-1]['Fixation End'] if not pd.isnull(group.iloc[-1]['Fixation End']) else group.iloc[-1]['Saccade End'] ,\n",
    "            # Number of Fixations in Dwell (Numerosity measure, cf. documentation/ETmetrics.csv)\n",
    "            'Number of Fixations in Dwell': group[ (group['FixID'].notnull()) ].shape[0],\n",
    "            # Number of Saccades in Dwell (Numerosity measure, cf. documentation/ETmetrics.csv)\n",
    "            'Number of Saccades in Dwell': group[ (group['SacID'].notnull()) ].shape[0]\n",
    "        }])])"
   ]
  },
  {
   "cell_type": "code",
   "execution_count": null,
   "id": "c2933167",
   "metadata": {},
   "outputs": [],
   "source": [
    "# Dwell time (Position measure, cf. documentation/ETmetrics.csv)\n",
    "dwells['Dwell Time'] = dwells['Dwell End']-dwells['Dwell Start'] "
   ]
  },
  {
   "cell_type": "code",
   "execution_count": null,
   "id": "c85f6bec",
   "metadata": {},
   "outputs": [],
   "source": [
    "#Sort dwells by 'Respondent', Dwell Start' in an ascending order\n",
    "dwells = dwells.sort_values(by=['Respondent','Dwell Start'])\n",
    "\n",
    "#Reset index\n",
    "dwells = dwells.reset_index(drop=True)"
   ]
  },
  {
   "cell_type": "code",
   "execution_count": null,
   "id": "3ca0f109",
   "metadata": {},
   "outputs": [],
   "source": [
    "#Preview dwells\n",
    "dwells.head()"
   ]
  },
  {
   "cell_type": "code",
   "execution_count": null,
   "id": "2845c781",
   "metadata": {},
   "outputs": [],
   "source": [
    "# export dwells to csv\n",
    "dwells.to_csv(\"data/dwells.csv\",  index=False)"
   ]
  },
  {
   "cell_type": "code",
   "execution_count": null,
   "id": "f589fe1a",
   "metadata": {},
   "outputs": [],
   "source": []
  },
  {
   "cell_type": "code",
   "execution_count": null,
   "id": "7826166c",
   "metadata": {},
   "outputs": [],
   "source": []
  },
  {
   "cell_type": "code",
   "execution_count": null,
   "id": "f4c57fba",
   "metadata": {},
   "outputs": [],
   "source": []
  }
 ],
 "metadata": {
  "kernelspec": {
   "display_name": "Python 3 (ipykernel)",
   "language": "python",
   "name": "python3"
  },
  "language_info": {
   "codemirror_mode": {
    "name": "ipython",
    "version": 3
   },
   "file_extension": ".py",
   "mimetype": "text/x-python",
   "name": "python",
   "nbconvert_exporter": "python",
   "pygments_lexer": "ipython3",
   "version": "3.11.6"
  }
 },
 "nbformat": 4,
 "nbformat_minor": 5
}
