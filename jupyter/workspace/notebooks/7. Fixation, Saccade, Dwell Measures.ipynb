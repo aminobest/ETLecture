{
 "cells": [
  {
   "cell_type": "code",
   "execution_count": null,
   "id": "cc8c8407",
   "metadata": {},
   "outputs": [],
   "source": [
    "import pandas as pd"
   ]
  },
  {
   "cell_type": "code",
   "execution_count": null,
   "id": "762accb9",
   "metadata": {},
   "outputs": [],
   "source": [
    "#---------------------------------------------------\n",
    "#\n",
    "# Config *** TO UPDATE ***\n",
    "#\n",
    "#---------------------------------------------------\n",
    "\n",
    "# *** TO UPDATE: change the team number with your own team number\n",
    "TEAM_NUMBER = \"TeamDemo\"\n",
    "\n",
    "# File with AOIS definitions \n",
    "AOIS_DEFINITION_FILE = \"../raw-data/\"+TEAM_NUMBER+\"/aois definitions/aois.csv\"\n",
    "\n",
    "# This file should be automatically generated from \"4. Mapping Fixations and Saccades to AOIs\"\n",
    "FIFXATIONS_SACCADES_WITH_AOIS_FILE = \"data/fixationAndSaccadesDataWithAOIs.csv\"\n",
    "\n",
    "# This file should be automatically generated from \"5. AOI Visits\"\n",
    "DWELLS_FILE = \"data/dwells.csv\""
   ]
  },
  {
   "cell_type": "code",
   "execution_count": null,
   "id": "40102964",
   "metadata": {},
   "outputs": [],
   "source": [
    "# Read aois definition\n",
    "aois_df = pd.read_csv(AOIS_DEFINITION_FILE)"
   ]
  },
  {
   "cell_type": "code",
   "execution_count": null,
   "id": "f5cf9183",
   "metadata": {},
   "outputs": [],
   "source": [
    "# Display aois definition\n",
    "display(aois_df)"
   ]
  },
  {
   "cell_type": "code",
   "execution_count": null,
   "id": "93edf553",
   "metadata": {},
   "outputs": [],
   "source": [
    "# get list of AOIs \n",
    "aois = aois_df[\"AOI\"].tolist()\n",
    "print(f'AOIs: {aois}')"
   ]
  },
  {
   "cell_type": "code",
   "execution_count": null,
   "id": "57731681",
   "metadata": {},
   "outputs": [],
   "source": [
    "# Read fixation and saccades data with AOIs using pandas library\n",
    "fixationAndSaccadeData = pd.read_csv(FIFXATIONS_SACCADES_WITH_AOIS_FILE)\n",
    "# set display.max_columns to none, to show all the columns when using head()\n",
    "pd.set_option('display.max_columns', None)"
   ]
  },
  {
   "cell_type": "code",
   "execution_count": null,
   "id": "208b041e",
   "metadata": {},
   "outputs": [],
   "source": [
    "# Preview fixationAndSaccadeData\n",
    "fixationAndSaccadeData.head()"
   ]
  },
  {
   "cell_type": "code",
   "execution_count": null,
   "id": "a571f12e",
   "metadata": {},
   "outputs": [],
   "source": [
    "#----------------------------------------------------------------------------------------\n",
    "#\n",
    "# 1. Fixation measures at stimulus and AOI levels\n",
    "#\n",
    "#----------------------------------------------------------------------------------------"
   ]
  },
  {
   "cell_type": "code",
   "execution_count": null,
   "id": "e9d695f8",
   "metadata": {},
   "outputs": [],
   "source": [
    "#filter out data where FixID is NaN\n",
    "fixationData = fixationAndSaccadeData[fixationAndSaccadeData['FixID'].notnull()].copy(deep=True)"
   ]
  },
  {
   "cell_type": "code",
   "execution_count": null,
   "id": "6883b40e",
   "metadata": {},
   "outputs": [],
   "source": [
    "# Preview fixationData\n",
    "fixationData.head()"
   ]
  },
  {
   "cell_type": "code",
   "execution_count": null,
   "id": "506b9fd2",
   "metadata": {},
   "outputs": [],
   "source": [
    "allAOIFixationStats = None\n",
    "\n",
    "# Metrics for each task at the level of the whole stimulus \n",
    "for task in fixationData['SourceStimuliName'].unique():\n",
    "    \n",
    "    taskFixationData = fixationData[fixationData['SourceStimuliName']==task].copy(deep=True)\n",
    "    \n",
    "    # Compute different aggregations for Fixation-based metrics\n",
    "    stats = taskFixationData.agg({\n",
    "                                # Number of Fixations (Numerosity measure, cf. documentation/ETmetrics.csv)\n",
    "                                'FixID':['count'],\n",
    "                                # Fixation Duration\n",
    "                                    # Sum: Total Fixation Duration (Position measure, cf. documentation/ETmetrics.csv)\n",
    "                                    # Mean: Average Fixation duration (Position measure, cf. documentation/ETmetrics.csv)\n",
    "                                    # Min: Minimum Fixation duration (Position measure, cf. documentation/ETmetrics.csv)\n",
    "                                    # Max: Maximum Fixation duration (Position measure, cf. documentation/ETmetrics.csv)\n",
    "                                'Fixation Duration':['sum','mean','min','max']\n",
    "                             }).unstack().to_frame().dropna().T\n",
    "\n",
    "    # edit stats formatting (by flattening it) to enable concating with the upcoming mesures\n",
    "    stats.columns = ['_'.join(x) for x in list(zip(stats.columns.get_level_values(0), stats.columns.get_level_values(1)))]\n",
    "    # rename columns\n",
    "    stats = stats.rename(columns={\"FixID_count\": \"Number of Fixations\", \n",
    "                                  \"Fixation Duration_sum\": \"Total Fixation Duration\",\n",
    "                                  \"Fixation Duration_mean\": \"Average Fixation Duration\",\n",
    "                                  \"Fixation Duration_min\": \"Minimum Fixation Duration\",\n",
    "                                  \"Fixation Duration_max\": \"Maximum Fixation Duration\",})\n",
    "    \n",
    "    stats.insert(0, 'Task',task)\n",
    "    stats.insert(1, 'AOI', \"Whole Stimulus\")\n",
    "\n",
    "    # Concate\n",
    "    allAOIFixationStats = pd.concat([allAOIFixationStats, stats], axis=0)\n",
    "    \n",
    "# Reset_index for allAOIFixationStats\n",
    "allAOIFixationStats = allAOIFixationStats.reset_index(drop=True)"
   ]
  },
  {
   "cell_type": "code",
   "execution_count": null,
   "id": "dceb7967",
   "metadata": {},
   "outputs": [],
   "source": [
    "# Display the metrics for all AOIs aggregated\n",
    "display(allAOIFixationStats)"
   ]
  },
  {
   "cell_type": "code",
   "execution_count": null,
   "id": "8953a219",
   "metadata": {},
   "outputs": [],
   "source": [
    "# Metrics for each task at the level of individual AOIs\n",
    "for task in fixationData['SourceStimuliName'].unique():\n",
    "    \n",
    "    taskFixationData = fixationData[fixationData['SourceStimuliName']==task].copy(deep=True)\n",
    "\n",
    "    # Iterate through the different AOIS\n",
    "    for aoi in aois:\n",
    "        # Compute different aggregations for Fixation metrics \n",
    "        stats = taskFixationData[taskFixationData[aoi]==1].groupby(aoi).agg({\n",
    "                                # Number of Fixations (Numerosity measure, cf. documentation/ETmetrics.csv)\n",
    "                                'FixID':['count'],\n",
    "                                # Fixation Duration\n",
    "                                    # Sum: Total Fixation Duration (Position measure, cf. documentation/ETmetrics.csv)\n",
    "                                    # Mean: Average Fixation duration (Position measure, cf. documentation/ETmetrics.csv)\n",
    "                                    # Min: Minimum Fixation duration (Position measure, cf. documentation/ETmetrics.csv)\n",
    "                                    # Max: Maximum Fixation duration (Position measure, cf. documentation/ETmetrics.csv)\n",
    "                                'Fixation Duration':['sum','mean','min','max']\n",
    "                             })\n",
    "\n",
    "        # Flatten dataframe\n",
    "        stats.columns= ['_'.join(x) for x in list(zip(stats.columns.get_level_values(0), stats.columns.get_level_values(1)))]\n",
    "\n",
    "        # Rename columns\n",
    "        stats = stats.rename(columns={\n",
    "                                  aoi:\"AOI\",\n",
    "                                  \"FixID_count\": \"Number of Fixations\", \n",
    "                                  \"Fixation Duration_sum\": \"Total Fixation Duration\",\n",
    "                                  \"Fixation Duration_mean\": \"Average Fixation Duration\",\n",
    "                                  \"Fixation Duration_min\": \"Minimum Fixation Duration\",\n",
    "                                  \"Fixation Duration_max\": \"Maximum Fixation Duration\"})\n",
    "\n",
    "        # Set the value of \"Task\" to task \n",
    "        stats[\"Task\"] = task\n",
    "        # Set the value of \"AOI\" to aoi    \n",
    "        stats[\"AOI\"] = aoi\n",
    "\n",
    "        \n",
    "        # Concate\n",
    "        allAOIFixationStats = pd.concat([allAOIFixationStats, stats], axis=0)\n",
    "    \n",
    "# Reset_index for allAOIFixationStats\n",
    "allAOIFixationStats = allAOIFixationStats.reset_index(drop=True)"
   ]
  },
  {
   "cell_type": "code",
   "execution_count": null,
   "id": "932bed25",
   "metadata": {},
   "outputs": [],
   "source": [
    "# Display the metrics for all aois individually and aggregated\n",
    "display(allAOIFixationStats)"
   ]
  },
  {
   "cell_type": "code",
   "execution_count": null,
   "id": "703084ea",
   "metadata": {},
   "outputs": [],
   "source": [
    "# export allAOIFixationStats to csv \n",
    "allAOIFixationStats.to_csv(\"data/aoiFixationStats.csv\", index=False)"
   ]
  },
  {
   "cell_type": "code",
   "execution_count": null,
   "id": "ede23152",
   "metadata": {},
   "outputs": [],
   "source": [
    "#----------------------------------------------------------------------------------------\n",
    "#\n",
    "# 2. Saccade measures at stimulus and AOI levels \n",
    "#\n",
    "#----------------------------------------------------------------------------------------"
   ]
  },
  {
   "cell_type": "code",
   "execution_count": null,
   "id": "c2ce436d",
   "metadata": {},
   "outputs": [],
   "source": [
    "#filter out data where SacID is NaN\n",
    "SaccadeData = fixationAndSaccadeData[fixationAndSaccadeData['SacID'].notnull()].copy(deep=True)"
   ]
  },
  {
   "cell_type": "code",
   "execution_count": null,
   "id": "f0c45c10",
   "metadata": {},
   "outputs": [],
   "source": [
    "# Preview Saccade data\n",
    "SaccadeData.head()"
   ]
  },
  {
   "cell_type": "code",
   "execution_count": null,
   "id": "c69e6a7e",
   "metadata": {},
   "outputs": [],
   "source": [
    "allAOISaccadeStats = None\n",
    "\n",
    "# Metrics for each task at the level of the whole stimulus \n",
    "for task in SaccadeData['SourceStimuliName'].unique():\n",
    "    \n",
    "    taskSaccadeData = SaccadeData[SaccadeData['SourceStimuliName']==task].copy(deep=True)\n",
    "\n",
    "    # Compute different aggregations for saccade metrics \n",
    "    stats = taskSaccadeData.agg({\n",
    "                                # Number of Saccades (Numerosity measure, cf. documentation/ETmetrics.csv)\n",
    "                                'SacID':['count'],\n",
    "                                # Saccade Duration\n",
    "                                 # Sum: Total Saccade Duration (movement measure, cf. documentation/ETmetrics.csv)\n",
    "                                 # Mean: Average Saccade Duration (movement measure, cf. documentation/ETmetrics.csv)\n",
    "                                'Saccade Duration':['sum','mean'], \n",
    "                                 # Saccade Amplitude\n",
    "                                  # Sum: Total Saccade Amplitude (movement measure, cf. documentation/ETmetrics.csv)\n",
    "                                  # Mean: Average Saccade Amplitude (movement measure, cf. documentation/ETmetrics.csv)                                \n",
    "                                'Saccade Amplitude':['sum','mean'], \n",
    "                                 # Saccade Peak Velocity\n",
    "                                  # Mean: Average Peak Velocity of Saccades (movement measure, cf. documentation/ETmetrics.csv)\n",
    "                                'Saccade Peak Velocity':['mean'], \n",
    "\n",
    "                                # Other metrics\n",
    "                                #'Saccade Peak Acceleration':['sum','mean','max','min'],  \n",
    "                                #'Saccade Peak Deceleration':['sum','mean','max','min'], \n",
    "                                # 'Saccade Direction':['mean'],\n",
    "                             }).unstack().to_frame().dropna().T\n",
    "\n",
    "    # edit stats formatting (by flattening it) to enable concating with the upcoming mesures\n",
    "    stats.columns = ['_'.join(x) for x in list(zip(stats.columns.get_level_values(0), stats.columns.get_level_values(1)))]\n",
    "\n",
    "    # Rename columns\n",
    "    stats = stats.rename(columns={\"SacID_count\": \"Number of Saccades\", \n",
    "                                  \"Saccade Duration_sum\": \"Total Saccade Duration\",\n",
    "                                  \"Saccade Duration_mean\": \"Average Saccade Duration\",\n",
    "                                  \"Saccade Amplitude_sum\": \"Total Saccade Amplitude\",\n",
    "                                  \"Saccade Amplitude_mean\": \"Average Saccade Amplitude\",\n",
    "                                  \"Saccade Peak Velocity_mean\": \"Average Peak Velocity of Saccades\",                             \n",
    "                                 })\n",
    "\n",
    "    stats.insert(0, 'Task', task)\n",
    "    stats.insert(1, 'AOI', \"Whole Stimulus\")\n",
    "    \n",
    "    # Concate\n",
    "    allAOISaccadeStats = pd.concat([allAOISaccadeStats, stats], axis=0)\n",
    "    \n",
    "# Reset_index for allAOISaccadeStats\n",
    "allAOISaccadeStats = allAOISaccadeStats.reset_index(drop=True)"
   ]
  },
  {
   "cell_type": "code",
   "execution_count": null,
   "id": "6f6ed590",
   "metadata": {},
   "outputs": [],
   "source": [
    "# Display the metrics for all AOIs aggregated\n",
    "display(allAOISaccadeStats)"
   ]
  },
  {
   "cell_type": "code",
   "execution_count": null,
   "id": "1e97b160",
   "metadata": {},
   "outputs": [],
   "source": [
    "# Metrics for each task at the level of individual AOIs\n",
    "for task in fixationData['SourceStimuliName'].unique():\n",
    "    \n",
    "    taskSaccadeData = SaccadeData[SaccadeData['SourceStimuliName']==task].copy(deep=True)\n",
    "\n",
    "    # Iterate through the different AOIS\n",
    "    for aoi in aois:\n",
    "        # Compute different aggregations for different metrics \n",
    "        stats = taskSaccadeData[taskSaccadeData[aoi]==1].groupby(aoi).agg({\n",
    "                                # Number of Saccades (Numerosity measure, cf. documentation/ETmetrics.csv)\n",
    "                                'SacID':['count'],\n",
    "                                # Saccade Duration\n",
    "                                 # Sum: Total Saccade Duration (movement measure, cf. documentation/ETmetrics.csv)\n",
    "                                 # Mean: Average Saccade Duration (movement measure, cf. documentation/ETmetrics.csv)\n",
    "                                'Saccade Duration':['sum','mean'], \n",
    "                                 # Saccade Amplitude\n",
    "                                  # Sum: Total Saccade Amplitude (movement measure, cf. documentation/ETmetrics.csv)\n",
    "                                  # Mean: Average Saccade Amplitude (movement measure, cf. documentation/ETmetrics.csv)                                \n",
    "                                'Saccade Amplitude':['sum','mean'], \n",
    "                                 # Saccade Peak Velocity\n",
    "                                  # Mean: Average Peak Velocity of Saccades (movement measure, cf. documentation/ETmetrics.csv)\n",
    "                                'Saccade Peak Velocity':['mean'], \n",
    "\n",
    "                                # Other metrics\n",
    "                                #'Saccade Peak Acceleration':['sum','mean','max','min'],  \n",
    "                                #'Saccade Peak Deceleration':['sum','mean','max','min'], \n",
    "                                # 'Saccade Direction':['mean'],\n",
    "                             })\n",
    "\n",
    "        # Flatten dataframe\n",
    "        stats.columns= ['_'.join(x) for x in list(zip(stats.columns.get_level_values(0), stats.columns.get_level_values(1)))]\n",
    "\n",
    "        # rename columns\n",
    "        stats = stats.rename(columns={\n",
    "                                  aoi:\"AOI\",\n",
    "                                  \"SacID_count\": \"Number of Saccades\", \n",
    "                                  \"Saccade Duration_sum\": \"Total Saccade Duration\",\n",
    "                                  \"Saccade Duration_mean\": \"Average Saccade Duration\",\n",
    "                                  \"Saccade Amplitude_sum\": \"Total Saccade Amplitude\",\n",
    "                                  \"Saccade Amplitude_mean\": \"Average Saccade Amplitude\",\n",
    "                                  \"Saccade Peak Velocity_mean\": \"Average Peak Velocity of Saccades\",                             \n",
    "                                 })\n",
    "\n",
    "        # Set the value of \"Task\" to task\n",
    "        stats[\"Task\"] = task\n",
    "        # Set the value of \"AOI\" to aoi     \n",
    "        stats[\"AOI\"] = aoi\n",
    "\n",
    "        #concate\n",
    "        allAOISaccadeStats = pd.concat([allAOISaccadeStats, stats], axis=0)\n",
    "    \n",
    "# reset_index for allAOISaccadeStats\n",
    "allAOISaccadeStats = allAOISaccadeStats.reset_index(drop=True)"
   ]
  },
  {
   "cell_type": "code",
   "execution_count": null,
   "id": "ac6280a6",
   "metadata": {},
   "outputs": [],
   "source": [
    "# Display the metrics for all aois individually and aggregated\n",
    "display(allAOISaccadeStats)"
   ]
  },
  {
   "cell_type": "code",
   "execution_count": null,
   "id": "e28fdab8",
   "metadata": {},
   "outputs": [],
   "source": [
    "# export allAOISaccadeStats to csv \n",
    "allAOISaccadeStats.to_csv(\"data/aoiSaccadeStats.csv\", index=False)"
   ]
  },
  {
   "cell_type": "code",
   "execution_count": null,
   "id": "35cce81a",
   "metadata": {},
   "outputs": [],
   "source": [
    "#----------------------------------------------------------------------------------------\n",
    "#\n",
    "# 3. Dwell measures \n",
    "#\n",
    "#----------------------------------------------------------------------------------------"
   ]
  },
  {
   "cell_type": "code",
   "execution_count": null,
   "id": "eb7b469f",
   "metadata": {},
   "outputs": [],
   "source": [
    "# Read dwell data using pandas library\n",
    "dwells = pd.read_csv(DWELLS_FILE)\n",
    "# set display.max_columns to none, to show all the columns when using head()\n",
    "pd.set_option('display.max_columns', None)"
   ]
  },
  {
   "cell_type": "code",
   "execution_count": null,
   "id": "07d49081",
   "metadata": {},
   "outputs": [],
   "source": [
    "# Preview dwells\n",
    "dwells.head()"
   ]
  },
  {
   "cell_type": "code",
   "execution_count": null,
   "id": "4de2c2fd",
   "metadata": {},
   "outputs": [],
   "source": [
    "# Compute different aggregations for dwell metrics \n",
    "dwellsStats = dwells.groupby(['VisitedAOI','SourceStimuliName']).agg({\n",
    "                                                   #Dwell Time:\n",
    "                                                    #Sum: Total Dwell Time (Position measure, cf. documentation/ETmetrics.csv)\n",
    "                                                    #Mean: Average Dwell Time (Position measure, cf. documentation/ETmetrics.csv)\n",
    "                                                    #Count: Number of Dwells (Numerosity measure, cf. documentation/ETmetrics.csv)\n",
    "                                                   'Dwell Time':['sum','mean','count'], \n",
    "    \n",
    "                                                   #Number of Fixations in Dwell:\n",
    "                                                    #Mean: Average Number of Fixations in Dwell (Numerosity measure, cf. documentation/ETmetrics.csv)\n",
    "                                                   'Number of Fixations in Dwell':['mean',],\n",
    "    \n",
    "                                                   #Number of Saccades in Dwell:\n",
    "                                                    #Mean: Average Number of Saccades in Dwell (Numerosity measure, cf. documentation/ETmetrics.csv)\n",
    "                                                    'Number of Saccades in Dwell':['mean'],\n",
    "    \n",
    "                                                  }).reset_index() \n",
    "\n",
    "\n",
    "# Flatten dataframe\n",
    "dwellsStats.columns= ['_'.join(x) for x in list(zip(dwellsStats.columns.get_level_values(0), dwellsStats.columns.get_level_values(1)))]\n",
    "\n",
    "# Rename columns\n",
    "dwellsStats = dwellsStats.rename(columns={\"Dwell Time_sum\": \"Total Dwell Time\", \n",
    "                              \"Dwell Time_mean\": \"Average Dwell Time\",\n",
    "                              \"Dwell Time_count\": \"Number of Dwells\",\n",
    "                              \"Number of Fixations in Dwell_mean\": \"Average Number of Fixations in Dwell\",\n",
    "                              \"Number of Saccades in Dwell_mean\": \"Average Number of Saccades in Dwell\",                        \n",
    "                             })\n"
   ]
  },
  {
   "cell_type": "code",
   "execution_count": null,
   "id": "feb4f833",
   "metadata": {},
   "outputs": [],
   "source": [
    "# Display dwellsStats\n",
    "display(dwellsStats)"
   ]
  },
  {
   "cell_type": "code",
   "execution_count": null,
   "id": "56707d5f",
   "metadata": {},
   "outputs": [],
   "source": [
    "# Export dwellsStats to csv \n",
    "dwellsStats.to_csv(\"data/dwellsStats.csv\", index=False)"
   ]
  },
  {
   "cell_type": "code",
   "execution_count": null,
   "id": "bcc1d413",
   "metadata": {},
   "outputs": [],
   "source": []
  }
 ],
 "metadata": {
  "kernelspec": {
   "display_name": "Python 3 (ipykernel)",
   "language": "python",
   "name": "python3"
  },
  "language_info": {
   "codemirror_mode": {
    "name": "ipython",
    "version": 3
   },
   "file_extension": ".py",
   "mimetype": "text/x-python",
   "name": "python",
   "nbconvert_exporter": "python",
   "pygments_lexer": "ipython3",
   "version": "3.11.6"
  }
 },
 "nbformat": 4,
 "nbformat_minor": 5
}
